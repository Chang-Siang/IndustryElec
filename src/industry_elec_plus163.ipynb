{
 "cells": [
  {
   "cell_type": "code",
   "execution_count": 2,
   "metadata": {
    "ExecuteTime": {
     "end_time": "2021-02-24T04:46:16.295952Z",
     "start_time": "2021-02-24T04:46:15.766975Z"
    },
    "code_folding": [
     0
    ]
   },
   "outputs": [],
   "source": [
    "# load package\n",
    "import pandas as pd\n",
    "import numpy as np\n",
    "from sklearn.preprocessing import MinMaxScaler\n",
    "import time"
   ]
  },
  {
   "cell_type": "code",
   "execution_count": 3,
   "metadata": {
    "ExecuteTime": {
     "end_time": "2021-02-24T04:46:17.255975Z",
     "start_time": "2021-02-24T04:46:16.296930Z"
    },
    "code_folding": []
   },
   "outputs": [],
   "source": [
    "# load package\n",
    "from plotly.offline import iplot\n",
    "import plotly.graph_objs as go\n",
    "import matplotlib.pyplot as plt\n",
    "%matplotlib inline\n",
    "# 進度條工具\n",
    "from ipywidgets import IntProgress\n",
    "from IPython.display import display"
   ]
  },
  {
   "cell_type": "code",
   "execution_count": 4,
   "metadata": {
    "ExecuteTime": {
     "end_time": "2021-02-24T04:46:19.411116Z",
     "start_time": "2021-02-24T04:46:17.256927Z"
    },
    "code_folding": []
   },
   "outputs": [
    {
     "name": "stderr",
     "output_type": "stream",
     "text": [
      "Using TensorFlow backend.\n"
     ]
    }
   ],
   "source": [
    "# 分配顯存空間，未使用 tensorflow-GPU 可以跳過這段\n",
    "import tensorflow as tf\n",
    "from keras.backend.tensorflow_backend import set_session\n",
    "config = tf.ConfigProto()\n",
    "config.gpu_options.allocator_type = 'BFC'\n",
    "config.gpu_options.per_process_gpu_memory_fraction = 0.8\n",
    "config.gpu_options.allow_growth = True\n",
    "set_session(tf.Session(config=config))"
   ]
  },
  {
   "cell_type": "code",
   "execution_count": 5,
   "metadata": {
    "ExecuteTime": {
     "end_time": "2021-02-24T04:46:19.427117Z",
     "start_time": "2021-02-24T04:46:19.412116Z"
    },
    "code_folding": []
   },
   "outputs": [],
   "source": [
    "# Import the Keras libraries and packages\n",
    "from keras.models import Sequential\n",
    "from keras.layers import Dense, TimeDistributed, Flatten, RepeatVector, Activation\n",
    "from keras.layers import SimpleRNN, LSTM, CuDNNLSTM, CuDNNGRU\n",
    "from keras.layers import Dropout, BatchNormalization, Bidirectional\n",
    "from keras import optimizers, regularizers\n",
    "from keras.callbacks import EarlyStopping, ReduceLROnPlateau, ModelCheckpoint\n",
    "from keras.models import load_model"
   ]
  },
  {
   "cell_type": "markdown",
   "metadata": {},
   "source": [
    "### Sub：Metrics\n",
    "---"
   ]
  },
  {
   "cell_type": "code",
   "execution_count": 5,
   "metadata": {
    "ExecuteTime": {
     "end_time": "2021-02-23T11:11:35.574512Z",
     "start_time": "2021-02-23T11:11:35.559513Z"
    },
    "code_folding": [
     0
    ]
   },
   "outputs": [],
   "source": [
    "# Metrics\n",
    "def MAPE(y_true, y_pred):\n",
    "    y_true, y_pred = np.array(y_true), np.array(y_pred)\n",
    "    return np.mean(np.abs((y_true - y_pred) / y_true)) * 100\n",
    "\n",
    "def RMSE(predictions, targets):\n",
    "    return np.sqrt(((predictions - targets) ** 2).mean())\n",
    "\n",
    "def calcError(origin, forecast):\n",
    "    print(\"RMSE\", RMSE(origin, forecast))\n",
    "    print(\"MAPE\", MAPE(origin, forecast))"
   ]
  },
  {
   "cell_type": "code",
   "execution_count": 6,
   "metadata": {
    "ExecuteTime": {
     "end_time": "2021-02-23T11:11:35.589931Z",
     "start_time": "2021-02-23T11:11:35.575513Z"
    },
    "code_folding": [
     0
    ],
    "scrolled": false
   },
   "outputs": [],
   "source": [
    "def showPlot(true, prediction, title, sub_title, size='M', save=False):\n",
    "    # 列印績效圖表，可以選擇是否儲存\n",
    "    size == 'L' and plt.figure(figsize=(28, 10))\n",
    "    plt.plot(true, color='red', label='Real')\n",
    "    plt.plot(prediction, color='blue', label='Prediction')\n",
    "    plt.title('Industry Elec Prediction %s %s t:%d' % (title, sub_title, time))\n",
    "    plt.xlabel('Time')\n",
    "    plt.ylabel('kW')\n",
    "    plt.legend()\n",
    "    save and plt.savefig('Image/%s-%s-%d.png' % (title, sub_title, time))\n",
    "    plt.show()"
   ]
  },
  {
   "cell_type": "code",
   "execution_count": 7,
   "metadata": {
    "ExecuteTime": {
     "end_time": "2021-02-23T11:11:35.606045Z",
     "start_time": "2021-02-23T11:11:35.590901Z"
    },
    "code_folding": [
     0
    ]
   },
   "outputs": [],
   "source": [
    "def showModelLoss(history, startFrom=10):\n",
    "    plt.plot(history.history['loss'][startFrom:], label = 'loss')\n",
    "    plt.plot(history.history['val_loss'][startFrom:], color = 'red', label = 'val_loss')\n",
    "    plt.legend()\n",
    "    plt.show()"
   ]
  },
  {
   "cell_type": "markdown",
   "metadata": {},
   "source": [
    "### Sub：Data Processing\n",
    "---"
   ]
  },
  {
   "cell_type": "code",
   "execution_count": 8,
   "metadata": {
    "ExecuteTime": {
     "end_time": "2021-02-23T11:11:35.621454Z",
     "start_time": "2021-02-23T11:11:35.607014Z"
    },
    "code_folding": [
     0
    ]
   },
   "outputs": [],
   "source": [
    "def augFeatures(data, features_select): # 資料特徵擷取\n",
    "    data = pd.DataFrame(data[features_select])\n",
    "    return data"
   ]
  },
  {
   "cell_type": "code",
   "execution_count": 9,
   "metadata": {
    "ExecuteTime": {
     "end_time": "2021-02-23T11:11:35.637447Z",
     "start_time": "2021-02-23T11:11:35.622353Z"
    },
    "code_folding": [
     10,
     14
    ]
   },
   "outputs": [],
   "source": [
    "def fitNormalize(data, trainTo): # 計算正規化倍率\n",
    "    # 獲得訓練資料的尾端\n",
    "    num_train_to = df[df['Date'] == trainTo].index.item() + 1\n",
    "    trainData = pd.DataFrame(data[:num_train_to])\n",
    "    # 僅使用資訓練資料計算正歸化倍率\n",
    "    sc = MinMaxScaler(feature_range=(0, 1))\n",
    "    sc.fit_transform(trainData)\n",
    "    data_scaled = doNormalize(sc, data)\n",
    "    return sc, data_scaled\n",
    "\n",
    "def doNormalize(sc, data): # 正規化\n",
    "    data_scaled = pd.DataFrame(sc.transform(data))\n",
    "    return data_scaled\n",
    "\n",
    "def deNormalize(sc, value): # 還原尺度\n",
    "    value_unscaled = value * \\\n",
    "        (sc.data_max_[0]-sc.data_min_[0]) + sc.data_min_[0]\n",
    "    value_unscaled = value_unscaled.reshape(value_unscaled.shape[0])\n",
    "    return value_unscaled"
   ]
  },
  {
   "cell_type": "code",
   "execution_count": 10,
   "metadata": {
    "ExecuteTime": {
     "end_time": "2021-02-23T11:11:35.652645Z",
     "start_time": "2021-02-23T11:11:35.638438Z"
    },
    "code_folding": [
     1,
     15
    ]
   },
   "outputs": [],
   "source": [
    "# 根據給定的時間範圍自動產生訓練集\n",
    "def split_train(data, trainFrom, trainTo, pastDay=7, futureDay=7):\n",
    "    num_train_from = df[df['Date'] == trainFrom].index.item()\n",
    "    num_train_to = df[df['Date'] == trainTo].index.item() + 1\n",
    "    RawTrain = data[num_train_from:num_train_to]\n",
    "    # print('RawTrain', RawTrain.shape)\n",
    "    return RawTrain\n",
    "# 根據給定的時間範圍自動產生測試集\n",
    "def split_test(data, testFrom, testTo, pastDay=7, futureDay=7):\n",
    "    num_test_from = df[df['Date'] == testFrom].index.item()\n",
    "    num_test_to = df[df['Date'] == testTo].index.item() + 1\n",
    "    RawTest = data[num_test_from-pastDay:num_test_to]\n",
    "    # print('RawTest', RawTest.shape)\n",
    "    return RawTest\n",
    "# 拆分訓練與驗證，需要手動切割時才使用\n",
    "def split_val(X, Y, rate):\n",
    "    X_train = X[int(X.shape[0]*rate):]\n",
    "    Y_train = Y[int(Y.shape[0]*rate):]\n",
    "    X_val = X[:int(X.shape[0]*rate)]\n",
    "    Y_val = Y[:int(Y.shape[0]*rate)]\n",
    "    return X_train, Y_train, X_val, Y_val"
   ]
  },
  {
   "cell_type": "code",
   "execution_count": 11,
   "metadata": {
    "ExecuteTime": {
     "end_time": "2021-02-23T11:11:35.668390Z",
     "start_time": "2021-02-23T11:11:35.653556Z"
    },
    "code_folding": []
   },
   "outputs": [],
   "source": [
    "def buildTrain(train, pastDay, futureDay): # 滾動訓練資料\n",
    "    X_train, Y_train = [], []\n",
    "    for i in range(pastDay, len(train)-futureDay):\n",
    "        X_train.append(train[i-pastDay:i])\n",
    "        Y_train.append(train[i:i+futureDay, 0])  # kW\n",
    "    X_train, Y_train = np.array(X_train), np.array(Y_train)\n",
    "    return X_train, Y_train"
   ]
  },
  {
   "cell_type": "code",
   "execution_count": 12,
   "metadata": {
    "ExecuteTime": {
     "end_time": "2021-02-23T11:11:35.684307Z",
     "start_time": "2021-02-23T11:11:35.669199Z"
    },
    "code_folding": [
     0
    ]
   },
   "outputs": [],
   "source": [
    "def buildTest(test, pastDay, futureDay): # 滾動測試資料\n",
    "    input_set, truth_set = test, test[pastDay:]\n",
    "    X_test, Y_truth = [], []\n",
    "    for i in range(0, int((test.shape[0]-pastDay)/futureDay)):\n",
    "        X_test.append(input_set[futureDay*i:futureDay*i+pastDay])\n",
    "        Y_truth.append(truth_set[i*futureDay:(i+1)*futureDay, 0])  # kW\n",
    "    testInput, testTruth = np.array(X_test), np.array(Y_truth)\n",
    "    testInput = testInput.reshape(testInput.shape[0], testInput.shape[1], testInput.shape[2])\n",
    "    testTruth = testTruth.reshape(testTruth.shape[0] * testTruth.shape[1])\n",
    "    # print('testInput.shape, testTruth.shape', testInput.shape, testTruth.shape)\n",
    "    return testInput, testTruth"
   ]
  },
  {
   "cell_type": "markdown",
   "metadata": {},
   "source": [
    "### Sub：Peak Load\n",
    "---"
   ]
  },
  {
   "cell_type": "code",
   "execution_count": 13,
   "metadata": {
    "ExecuteTime": {
     "end_time": "2021-02-23T11:11:35.699473Z",
     "start_time": "2021-02-23T11:11:35.685206Z"
    },
    "code_folding": []
   },
   "outputs": [],
   "source": [
    "# 定義 PeakLoad 相關參數\n",
    "pl_features = [\n",
    "    'PeakLoad(MW)',\n",
    "    'isHoliday_shift7',\n",
    "    'dayOfYear',\n",
    "    'weekUpdate_shift7',\n",
    "    'Temp_Taipei_shift7',\n",
    "]\n",
    "\n",
    "weekCutList = ['MON/SUN', 'TUE/MON', 'WED/TUE',\n",
    "               'THU/WED', 'FRI/THU', 'SAT/FRI', 'SUN/SAT']\n",
    "# +7(shift)\n",
    "weekCut_from_to = [{'from': '2019-01-07',\n",
    "                    'to': '2019-10-06'},\n",
    "                   {'from': '2019-01-01',\n",
    "                    'to': '2019-10-07'},\n",
    "                   {'from': '2019-01-02',\n",
    "                    'to': '2019-10-01'},\n",
    "                   {'from': '2019-01-03',\n",
    "                    'to': '2019-10-02'},\n",
    "                   {'from': '2019-01-04',\n",
    "                    'to': '2019-10-03'},\n",
    "                   {'from': '2019-01-05',\n",
    "                    'to': '2019-10-04'},\n",
    "                   {'from': '2019-01-06',\n",
    "                    'to': '2019-10-05'}]"
   ]
  },
  {
   "cell_type": "code",
   "execution_count": 14,
   "metadata": {
    "ExecuteTime": {
     "end_time": "2021-02-23T11:11:35.807368Z",
     "start_time": "2021-02-23T11:11:35.795398Z"
    },
    "code_folding": [
     0
    ]
   },
   "outputs": [],
   "source": [
    "def loadPeakLoadModel():\n",
    "    p = IntProgress()\n",
    "    display(p)\n",
    "    model_list = []\n",
    "    for i in range(10):\n",
    "        p.value += 10\n",
    "        p.description = 'load %d/%d'%((i+1), 10)\n",
    "        model = load_model('Model/PeakLoad/PeakLoad_%d_%d.h5' % (1, i))\n",
    "        model_list.append(model)\n",
    "    return model_list"
   ]
  },
  {
   "cell_type": "code",
   "execution_count": 15,
   "metadata": {
    "ExecuteTime": {
     "end_time": "2021-02-23T11:11:36.276243Z",
     "start_time": "2021-02-23T11:11:36.259214Z"
    },
    "code_folding": [
     0
    ]
   },
   "outputs": [],
   "source": [
    "def replacePeakLoad(weekCut_Text, RawData): # 替換尖峰負載\n",
    "    weekCut = weekCutList.index(weekCut_Text)\n",
    "    pl_RawData = augFeatures(df, pl_features)\n",
    "    pl_sc, pl_RawData_n = fitNormalize(pl_RawData, trainTo)\n",
    "    df_shift = forecastPeakLoad(weekCut, pl_RawData_n, pl_sc)\n",
    "    df_index = df[df['Date'] == '2019-09-30'].index.item() + 1 \n",
    "    RawData['PeakLoad(MW)_shift7'] = df_shift[:df_index]\n",
    "    return RawData"
   ]
  },
  {
   "cell_type": "code",
   "execution_count": 16,
   "metadata": {
    "ExecuteTime": {
     "end_time": "2021-02-23T11:11:36.494468Z",
     "start_time": "2021-02-23T11:11:36.475406Z"
    },
    "code_folding": [
     0
    ]
   },
   "outputs": [],
   "source": [
    "def forecastPeakLoad(weekCut, RawData, sc): # 預測尖峰負載 & shift\n",
    "    print(\"- PeakLoad %s\" % (weekCutList[weekCut]))\n",
    "    # 將'PeakLoad(MW)_shift7'還原為初始狀態(shift前、真實值)\n",
    "    df_shift = df.copy()\n",
    "    df_shift['PeakLoad(MW)_shift7'] = df_shift['PeakLoad(MW)']\n",
    "    weekCut_range = (df_shift['Date'] >= weekCut_from_to[weekCut].get('from')) & (\n",
    "        df_shift['Date'] <= weekCut_from_to[weekCut].get('to'))\n",
    "    # 執行預測\n",
    "    weekCutRaw = split_test(RawData,\n",
    "                            weekCut_from_to[weekCut].get('from'),\n",
    "                            weekCut_from_to[weekCut].get('to'),\n",
    "                            pastDay, futureDay)\n",
    "    weekCutInput, weekCutTruth = buildTest(\n",
    "        weekCutRaw.values, pastDay, futureDay)\n",
    "    weekCutPredict = []\n",
    "    for j in range(10):\n",
    "        temp = model_evaluate(pl_model[j], sc, weekCutTruth, weekCutInput)\n",
    "        weekCutPredict.append(temp.reshape(temp.shape[0]))\n",
    "    weekCutPredict = np.array(weekCutPredict).mean(axis=0)\n",
    "    df_shift.at[df_shift[weekCut_range].index.tolist(\n",
    "    ), 'PeakLoad(MW)_shift7'] = weekCutPredict\n",
    "    # 檢視替換後的績效\n",
    "    df_weekCut = df_shift[weekCut_range]\n",
    "    calcError(df_weekCut['PeakLoad(MW)'], df_weekCut['PeakLoad(MW)_shift7'])\n",
    "    # shift7 then return\n",
    "    df_shift['PeakLoad(MW)_shift7'] = df_shift['PeakLoad(MW)_shift7'].shift(-7, axis=0)\n",
    "    return df_shift['PeakLoad(MW)_shift7']"
   ]
  },
  {
   "cell_type": "markdown",
   "metadata": {},
   "source": [
    "### Sub：Model\n",
    "---"
   ]
  },
  {
   "cell_type": "code",
   "execution_count": 17,
   "metadata": {
    "ExecuteTime": {
     "end_time": "2021-02-23T11:11:36.915445Z",
     "start_time": "2021-02-23T11:11:36.899441Z"
    },
    "code_folding": []
   },
   "outputs": [],
   "source": [
    "def buildModel(shape, train_x, train_y):\n",
    "    train_y = train_y.reshape((train_y.shape[0], train_y.shape[1], 1))\n",
    "#     L2 = regularizers.l2(0.01)\n",
    "    \n",
    "    epochs, batch_size = 1000, 16\n",
    "    model = Sequential()\n",
    "    model.add(CuDNNGRU(units=200, input_shape=(shape[1], shape[2])))\n",
    "#     model.add(BatchNormalization())\n",
    "#     model.add(Activation('relu'))\n",
    "    model.add(RepeatVector(futureDay)) # futureDay = 7\n",
    "    \n",
    "    model.add(CuDNNGRU(200, return_sequences=True))\n",
    "#     model.add(BatchNormalization())\n",
    "#     model.add(Activation('relu'))\n",
    "#     model.add(Dropout(0.1))\n",
    "\n",
    "#     model.add(SimpleRNN(50, kernel_regularizer=L2, return_sequences=True))\n",
    "#     model.add(BatchNormalization())\n",
    "#     model.add(Activation('relu'))\n",
    "#     model.add(Dropout(0.1))\n",
    "    \n",
    "    model.add(TimeDistributed(Dense(200, activation='relu')))\n",
    "#     model.add(BatchNormalization())\n",
    "#     model.add(Dropout(0.1))\n",
    "    model.add(TimeDistributed(Dense(1)))\n",
    "\n",
    "    model.compile(loss='mse', optimizer='adam')\n",
    "    reduce_lr = ReduceLROnPlateau(\n",
    "        monitor='val_loss', factor=0.3, patience=30, mode='min', verbose=0)\n",
    "    earlyStop = EarlyStopping(\n",
    "        monitor=\"val_loss\", patience=150, mode=\"min\", restore_best_weights=True)\n",
    "    modelResult = model.fit(train_x, train_y,\n",
    "                            epochs=epochs, batch_size=batch_size,\n",
    "                            verbose=0,\n",
    "                            validation_split=0.1,\n",
    "                            callbacks=[reduce_lr, earlyStop])\n",
    "    return model, modelResult"
   ]
  },
  {
   "cell_type": "code",
   "execution_count": 18,
   "metadata": {
    "ExecuteTime": {
     "end_time": "2021-02-23T11:11:37.134244Z",
     "start_time": "2021-02-23T11:11:37.123243Z"
    },
    "code_folding": [
     0
    ]
   },
   "outputs": [],
   "source": [
    "def model_forecast(model, input_data):\n",
    "    forecast_temp = model.predict(input_data)\n",
    "    forecast = forecast_temp.reshape(\n",
    "        forecast_temp.shape[0] * forecast_temp.shape[1])\n",
    "    return forecast"
   ]
  },
  {
   "cell_type": "code",
   "execution_count": 19,
   "metadata": {
    "ExecuteTime": {
     "end_time": "2021-02-23T11:11:37.817538Z",
     "start_time": "2021-02-23T11:11:37.805538Z"
    },
    "code_folding": [
     0
    ]
   },
   "outputs": [],
   "source": [
    "def model_evaluate(model, sc, truth, input_set):\n",
    "    truth = pd.DataFrame(truth)\n",
    "    truth = deNormalize(sc, truth.values)\n",
    "    predict = model_forecast(model, input_set)\n",
    "    predict = deNormalize(sc, predict)\n",
    "    return predict"
   ]
  },
  {
   "cell_type": "markdown",
   "metadata": {},
   "source": [
    "### Main\n",
    "---"
   ]
  },
  {
   "cell_type": "code",
   "execution_count": 20,
   "metadata": {
    "ExecuteTime": {
     "end_time": "2021-02-23T11:11:58.453872Z",
     "start_time": "2021-02-23T11:11:39.039728Z"
    }
   },
   "outputs": [
    {
     "data": {
      "application/vnd.jupyter.widget-view+json": {
       "model_id": "df4ee52b20184b3dbb1b182b3ed78617",
       "version_major": 2,
       "version_minor": 0
      },
      "text/plain": [
       "IntProgress(value=0)"
      ]
     },
     "metadata": {},
     "output_type": "display_data"
    },
    {
     "name": "stdout",
     "output_type": "stream",
     "text": [
      "WARNING:tensorflow:From C:\\Users\\siang\\anaconda3\\envs\\tensorflow-gpu\\lib\\site-packages\\keras\\backend\\tensorflow_backend.py:422: The name tf.global_variables is deprecated. Please use tf.compat.v1.global_variables instead.\n",
      "\n",
      "Wall time: 19.4 s\n"
     ]
    }
   ],
   "source": [
    "%%time\n",
    "# load peak load model\n",
    "pl_model = loadPeakLoadModel()"
   ]
  },
  {
   "cell_type": "code",
   "execution_count": 21,
   "metadata": {
    "ExecuteTime": {
     "end_time": "2021-02-23T11:11:58.468815Z",
     "start_time": "2021-02-23T11:11:58.454854Z"
    },
    "code_folding": []
   },
   "outputs": [],
   "source": [
    "# 預測時間\n",
    "trainFrom = '2017-01-05' #(四~三)\n",
    "trainTo = '2018-12-26'\n",
    "testFrom = '2019-01-06' #(日~六)\n",
    "testTo = '2019-09-28'\n",
    "# 步數選擇\n",
    "pastDay = 7\n",
    "futureDay = 7\n",
    "# 定義特徵\n",
    "kw_features = [\n",
    "    'kW',\n",
    "    'PeakLoad(MW)_shift7',\n",
    "#     'PeakLoad(MW)',\n",
    "    'isHoliday_shift7',\n",
    "    'dayOfYear',\n",
    "    'weekUpdate_shift7',\n",
    "    'Temp_Taipei_shift7',\n",
    "]"
   ]
  },
  {
   "cell_type": "code",
   "execution_count": 22,
   "metadata": {
    "ExecuteTime": {
     "end_time": "2021-02-23T11:11:58.483815Z",
     "start_time": "2021-02-23T11:11:58.469816Z"
    },
    "code_folding": [],
    "scrolled": true
   },
   "outputs": [
    {
     "data": {
      "text/plain": [
       "(1461, 13)"
      ]
     },
     "execution_count": 22,
     "metadata": {},
     "output_type": "execute_result"
    }
   ],
   "source": [
    "# 資料讀入\n",
    "df = pd.read_csv('Data/IndustryElec_processed_20160101_20190930.csv')\n",
    "df['Date'] = pd.to_datetime(df['Date'], format='%Y-%m-%d')\n",
    "df.shape"
   ]
  },
  {
   "cell_type": "code",
   "execution_count": 24,
   "metadata": {
    "ExecuteTime": {
     "end_time": "2021-02-23T11:12:13.008308Z",
     "start_time": "2021-02-23T11:12:09.372278Z"
    }
   },
   "outputs": [
    {
     "name": "stdout",
     "output_type": "stream",
     "text": [
      "- PeakLoad WED/TUE\n",
      "RMSE 797.8181518977129\n",
      "MAPE 1.8957373247334566\n"
     ]
    }
   ],
   "source": [
    "# 特徵選取\n",
    "RawData = augFeatures(df, kw_features)\n",
    "# 使用預測的尖峰負載替換 'PeakLoad(MW)_shift7'\n",
    "RawData = replacePeakLoad('WED/TUE' ,RawData)"
   ]
  },
  {
   "cell_type": "code",
   "execution_count": 26,
   "metadata": {
    "ExecuteTime": {
     "end_time": "2021-02-23T11:12:19.877549Z",
     "start_time": "2021-02-23T11:12:19.868521Z"
    }
   },
   "outputs": [],
   "source": [
    "# 正規化\n",
    "sc, RawData_n = fitNormalize(RawData, trainTo)"
   ]
  },
  {
   "cell_type": "code",
   "execution_count": 33,
   "metadata": {
    "ExecuteTime": {
     "end_time": "2021-02-23T11:14:17.466014Z",
     "start_time": "2021-02-23T11:14:17.443984Z"
    },
    "code_folding": [],
    "scrolled": true
   },
   "outputs": [],
   "source": [
    "# 資料範圍選取\n",
    "RawTrain = split_train(RawData_n, trainFrom, trainTo, pastDay, futureDay)\n",
    "RawSelf = split_test(RawData_n, '2017-01-11', '2019-01-01', pastDay, futureDay)\n",
    "RawTest = split_test(RawData_n, testFrom, testTo, pastDay, futureDay)\n",
    "\n",
    "# 資料打包\n",
    "X_train, Y_train = buildTrain(RawTrain.values, pastDay, futureDay)\n",
    "selfInput, selfTruth = buildTest(RawSelf.values, pastDay, futureDay)\n",
    "testInput, testTruth = buildTest(RawTest.values, pastDay, futureDay)\n",
    "\n",
    "# 驗證資料\n",
    "# X, Y, Xv, Yv= split_val(X_train, Y_train, 0.1)"
   ]
  },
  {
   "cell_type": "code",
   "execution_count": null,
   "metadata": {
    "ExecuteTime": {
     "start_time": "2020-10-23T06:55:05.819Z"
    },
    "code_folding": [],
    "scrolled": true
   },
   "outputs": [
    {
     "name": "stdout",
     "output_type": "stream",
     "text": [
      "round:  0\n"
     ]
    },
    {
     "data": {
      "image/png": "[encoded data removed]",
      "text/plain": [
       "<Figure size 432x288 with 1 Axes>"
      ]
     },
     "metadata": {
      "needs_background": "light"
     },
     "output_type": "display_data"
    },
    {
     "name": "stdout",
     "output_type": "stream",
     "text": [
      "round:  1\n"
     ]
    }
   ],
   "source": [
    "%%time\n",
    "model_save= []\n",
    "\n",
    "# 為求公平衡量模型，執行 n次\n",
    "for i in range(15):\n",
    "    print(\"round: \", str(i))\n",
    "    model, modelResult = buildModel(X_train.shape, X_train, Y_train)\n",
    "    model_save.append(model) # 儲存 model 供未來使用\n",
    "    showModelLoss(modelResult, startFrom=20)"
   ]
  },
  {
   "cell_type": "markdown",
   "metadata": {},
   "source": [
    "## Log Setting\n",
    "##### ( 設定本次實驗的戳記代碼 )\n",
    "---"
   ]
  },
  {
   "cell_type": "code",
   "execution_count": null,
   "metadata": {
    "ExecuteTime": {
     "start_time": "2020-10-23T06:55:05.820Z"
    }
   },
   "outputs": [],
   "source": [
    "time = 1\n",
    "# save = True\n",
    "save = False\n",
    "# model_name = '(RNN_with_BN)'\n",
    "model_name = '(RNN_L1L2_5)'"
   ]
  },
  {
   "cell_type": "markdown",
   "metadata": {},
   "source": [
    "## Prediction\n",
    "---"
   ]
  },
  {
   "cell_type": "code",
   "execution_count": null,
   "metadata": {
    "ExecuteTime": {
     "start_time": "2020-10-23T06:55:05.821Z"
    }
   },
   "outputs": [],
   "source": [
    "total_self = []\n",
    "total_test = []\n",
    "\n",
    "# 為求公平衡量模型，執行 n次\n",
    "for i in range(15):\n",
    "    print(\"round: \", str(i))\n",
    "    self_predict = model_evaluate(model_save[i], sc, selfTruth, selfInput)\n",
    "    test_predict = model_evaluate(model_save[i], sc, testTruth, testInput)\n",
    "    total_self.append(self_predict.reshape(self_predict.shape[0]))\n",
    "    total_test.append(test_predict.reshape(test_predict.shape[0]))\n",
    "    \n",
    "# 平均處理 n個模型的預測結果\n",
    "mean_self = np.array(total_self).mean(axis=0)\n",
    "mean_test = np.array(total_test).mean(axis=0)"
   ]
  },
  {
   "cell_type": "code",
   "execution_count": null,
   "metadata": {
    "ExecuteTime": {
     "start_time": "2020-10-23T06:55:05.822Z"
    },
    "code_folding": []
   },
   "outputs": [],
   "source": [
    "# 自我測試( 使用訓練資料進行預測，檢查是否過度學習 )\n",
    "self_trurh = pd.DataFrame(selfTruth)\n",
    "self_trurh = deNormalize(sc, self_trurh.values)\n",
    "calcError(self_trurh, mean_self)\n",
    "showPlot(self_trurh, mean_self, model_name, \"self\", size=\"L\", save=save)"
   ]
  },
  {
   "cell_type": "code",
   "execution_count": null,
   "metadata": {
    "ExecuteTime": {
     "start_time": "2020-10-23T06:55:05.823Z"
    }
   },
   "outputs": [],
   "source": [
    "# 實際測試\n",
    "test_trurh = pd.DataFrame(testTruth)\n",
    "test_trurh = deNormalize(sc, test_trurh.values)\n",
    "calcError(test_trurh, mean_test)\n",
    "showPlot(test_trurh, mean_test, model_name, str(len(testTruth)), save=save)"
   ]
  },
  {
   "cell_type": "markdown",
   "metadata": {},
   "source": [
    "## 特殊日替換\n",
    "---"
   ]
  },
  {
   "cell_type": "code",
   "execution_count": null,
   "metadata": {
    "ExecuteTime": {
     "start_time": "2020-10-23T06:55:05.824Z"
    },
    "code_folding": []
   },
   "outputs": [],
   "source": [
    "# 建構物件\n",
    "num_test_from = df[df['Date'] == testFrom].index.item()\n",
    "num_test_to = df[df['Date'] == testTo].index.item() + 1\n",
    "d = {'date': pd.date_range(start = testFrom, end = testTo),\n",
    "     'week': df[num_test_from:num_test_to]['week'].values,\n",
    "     'isHoliday': df[num_test_from:num_test_to]['isHoliday'].values,\n",
    "     'truth': test_trurh,\n",
    "     'rowsMean': mean_test}\n",
    "df_predict = pd.DataFrame(d)\n",
    "df_predict.shape"
   ]
  },
  {
   "cell_type": "code",
   "execution_count": null,
   "metadata": {
    "ExecuteTime": {
     "start_time": "2020-10-23T06:55:05.824Z"
    },
    "code_folding": []
   },
   "outputs": [],
   "source": [
    "# 定義特殊日\n",
    "_0202_0210 = (df_predict['date'] >=\n",
    "              '2019-02-02') & (df_predict['date'] <= '2019-02-10')\n",
    "_0228_0303 = (df_predict['date'] >=\n",
    "              '2019-02-28') & (df_predict['date'] <= '2019-03-03')\n",
    "_0404_0407 = (df_predict['date'] >=\n",
    "              '2019-04-04') & (df_predict['date'] <= '2019-04-07')\n",
    "_0501 = (df_predict['date'] >=\n",
    "         '2019-05-01') & (df_predict['date'] <= '2019-05-01')\n",
    "_0607_0609 = (df_predict['date'] >=\n",
    "              '2019-06-07') & (df_predict['date'] <= '2019-06-09')\n",
    "_0913_0915 = (df_predict['date'] >=\n",
    "              '2019-09-13') & (df_predict['date'] <= '2019-09-15')\n",
    "\n",
    "holidays = ['春節 (SAT/FRI)', '228假期 (THU/WED)', '清明假期 (THU/WED)', \n",
    "            '勞動節 (WED/TUE)', '端午假期 (FRI/THU)', '中秋假期 (FRI/THU)']\n",
    "\n",
    "holiday_weekCut = ['SAT/FRI', 'THU/WED',\n",
    "                   'THU/WED', 'WED/TUE', 'FRI/THU', 'FRI/THU']\n",
    "\n",
    "holiday_range = [_0202_0210, _0228_0303,\n",
    "                 _0404_0407, _0501, _0607_0609, _0913_0915]\n",
    "\n",
    "holiday_from_to = [{'from': '2019-02-02',\n",
    "                    'to': '2019-02-15'},\n",
    "                   {'from': '2019-02-28',\n",
    "                       'to': '2019-03-07'},\n",
    "                   {'from': '2019-04-04',\n",
    "                       'to': '2019-04-11'},\n",
    "                   {'from': '2019-05-01',\n",
    "                       'to': '2019-05-08'},\n",
    "                   {'from': '2019-06-07',\n",
    "                       'to': '2019-06-14'},\n",
    "                   {'from': '2019-09-13',\n",
    "                       'to': '2019-09-20'}]\n",
    "\n",
    "holiday_len = [9, 4, 4, 1, 3, 3]"
   ]
  },
  {
   "cell_type": "code",
   "execution_count": null,
   "metadata": {
    "ExecuteTime": {
     "start_time": "2020-10-23T06:55:05.825Z"
    },
    "code_folding": []
   },
   "outputs": [],
   "source": [
    "# 觀察特殊日績效\n",
    "for i in range(len(holidays)):\n",
    "    df_temp = df_predict[holiday_range[i]]\n",
    "    print(\"%s %d days\"%(holidays[i] ,len(df_temp)))\n",
    "    calcError(df_temp['truth'], df_temp['rowsMean'])\n",
    "\n",
    "print(\"沒有排除特殊日（原始績效）\")\n",
    "calcError(df_predict['truth'], df_predict['rowsMean'])\n",
    "\n",
    "print(\"排除所有特殊日\")\n",
    "excludeSpecialdays = ~_0202_0210 & ~_0228_0303 & ~_0404_0407 & ~_0501 & ~_0607_0609 & ~_0913_0915\n",
    "df_excludeSpecialdays = df_predict[excludeSpecialdays]\n",
    "calcError(df_excludeSpecialdays['truth'], df_excludeSpecialdays['rowsMean'])\n",
    "\n",
    "print(\"平日(特殊日)\")\n",
    "df_excludeHolidays = df_predict[df_predict['isHoliday']==False]\n",
    "calcError(df_excludeHolidays['truth'], df_excludeHolidays['rowsMean'])\n",
    "\n",
    "print(\"假日(特殊日)\")\n",
    "df_excludeNormaldays = df_predict[df_predict['isHoliday']==True]\n",
    "calcError(df_excludeNormaldays['truth'], df_excludeNormaldays['rowsMean'])\n",
    "\n",
    "print(\"平日\")\n",
    "df_exclude = df_predict[df_predict['week']<6]\n",
    "calcError(df_exclude['truth'], df_exclude['rowsMean'])\n",
    "\n",
    "print(\"假日\")\n",
    "df_exclude = df_predict[df_predict['week']>=6]\n",
    "calcError(df_exclude['truth'], df_exclude['rowsMean'])"
   ]
  },
  {
   "cell_type": "code",
   "execution_count": null,
   "metadata": {
    "ExecuteTime": {
     "start_time": "2020-10-23T06:55:05.826Z"
    },
    "code_folding": []
   },
   "outputs": [],
   "source": [
    "# 替換特殊日\n",
    "df_update = df_predict\n",
    "\n",
    "for i in range(len(holidays)):\n",
    "    print(\"\\n%s\" % (holidays[i]))\n",
    "    # 選取要重新預測的期間\n",
    "    RawData = replacePeakLoad(holiday_weekCut[i] ,RawData) # 使用預測的尖峰負載替換 'PeakLoad(MW)_shift7'\n",
    "    RawData_n = doNormalize(sc, RawData)\n",
    "    holidayRaw = split_test(RawData_n,\n",
    "                            holiday_from_to[i].get('from'),\n",
    "                            holiday_from_to[i].get('to'),\n",
    "                            pastDay, futureDay)\n",
    "    holidayInput, holidayTruth = buildTest(\n",
    "        holidayRaw.values, pastDay, futureDay)\n",
    "    # 特殊日的替換也要使用 10 個 model 預測後取平均\n",
    "    holidayPredict = []\n",
    "    for j in range(30):\n",
    "        temp = model_evaluate(model_save[j], sc, holidayTruth, holidayInput)\n",
    "        holidayPredict.append(temp.reshape(temp.shape[0]))\n",
    "    holidayPredict = np.array(holidayPredict).mean(axis=0)\n",
    "\n",
    "    df_update.at[df_update[holiday_range[i]].index.tolist(),\n",
    "                 'rowsMean'] = holidayPredict[:holiday_len[i]]\n",
    "    # 計算替換後的績效\n",
    "    df_holiday = df_update[holiday_range[i]]\n",
    "    print('- Holiday')\n",
    "    calcError(df_holiday['truth'], df_holiday['rowsMean'])"
   ]
  },
  {
   "cell_type": "code",
   "execution_count": null,
   "metadata": {
    "ExecuteTime": {
     "start_time": "2020-10-23T06:55:05.827Z"
    }
   },
   "outputs": [],
   "source": [
    "truth = df_update['truth']\n",
    "pred = df_update['rowsMean']\n",
    "calcError(truth, pred)\n",
    "showPlot(truth, pred, model_name, str(len(truth))+'-update', save=save)"
   ]
  },
  {
   "cell_type": "markdown",
   "metadata": {},
   "source": [
    "## Save Model\n",
    "---"
   ]
  },
  {
   "cell_type": "code",
   "execution_count": null,
   "metadata": {
    "ExecuteTime": {
     "start_time": "2020-10-23T06:55:05.828Z"
    }
   },
   "outputs": [],
   "source": [
    "# import h5py\n",
    "# Model.save('Model/IndustryElec_cLSTM(7to7)_model_%d.h5'%(time))"
   ]
  }
 ],
 "metadata": {
  "kernelspec": {
   "display_name": "Python (tensorflow-gpu)",
   "language": "python",
   "name": "tensorflow-gpu"
  },
  "language_info": {
   "codemirror_mode": {
    "name": "ipython",
    "version": 3
   },
   "file_extension": ".py",
   "mimetype": "text/x-python",
   "name": "python",
   "nbconvert_exporter": "python",
   "pygments_lexer": "ipython3",
   "version": "3.7.4"
  }
 },
 "nbformat": 4,
 "nbformat_minor": 4
}
