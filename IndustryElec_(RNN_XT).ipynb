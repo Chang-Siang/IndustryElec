{
 "cells": [
  {
   "cell_type": "code",
   "execution_count": 43,
   "metadata": {},
   "outputs": [],
   "source": [
    "import pandas as pd\n",
    "import numpy as np\n",
    "import time"
   ]
  },
  {
   "cell_type": "code",
   "execution_count": 44,
   "metadata": {},
   "outputs": [],
   "source": [
    "import matplotlib.pyplot as plt\n",
    "%matplotlib inline\n",
    "import plotly.graph_objs as go\n",
    "from plotly.offline import iplot"
   ]
  },
  {
   "cell_type": "markdown",
   "metadata": {},
   "source": [
    "---\n",
    "### Sub：Metrics"
   ]
  },
  {
   "cell_type": "code",
   "execution_count": 45,
   "metadata": {},
   "outputs": [],
   "source": [
    "def MAPE(y_true, y_pred): \n",
    "    y_true, y_pred = np.array(y_true), np.array(y_pred)\n",
    "    return np.mean(np.abs((y_true - y_pred) / y_true)) * 100\n",
    "\n",
    "def RMSE(predictions, targets):\n",
    "    return np.sqrt(((predictions - targets) ** 2).mean())\n",
    "\n",
    "def calcError(origin, forecast):\n",
    "    print(\"RMSE\", RMSE(origin, forecast))\n",
    "    print(\"MAPE\", MAPE(origin, forecast))"
   ]
  },
  {
   "cell_type": "code",
   "execution_count": 46,
   "metadata": {
    "scrolled": false
   },
   "outputs": [],
   "source": [
    "def showPlot(true, prediction, model , test_set, size='M', save=False):\n",
    "    if(size=='L'):\n",
    "        plt.figure(figsize=(28, 10))\n",
    "    plt.plot(true, color = 'red', label = 'Real')\n",
    "    plt.plot(prediction, color = 'blue', label = 'Prediction')\n",
    "    plt.title('Industry Elec Prediction' + model + ' ' + test_set + ' t' + str(t))\n",
    "    plt.xlabel('Time')\n",
    "    plt.ylabel('kW')\n",
    "    plt.legend()\n",
    "    if(save):\n",
    "        plt.savefig('Image/' + model + '-' + test_set + '-' + str(t) + '.png')\n",
    "    plt.show()"
   ]
  },
  {
   "cell_type": "markdown",
   "metadata": {},
   "source": [
    "---\n",
    "### Sub：Data"
   ]
  },
  {
   "cell_type": "code",
   "execution_count": 47,
   "metadata": {},
   "outputs": [
    {
     "data": {
      "text/plain": [
       "(1369, 12)"
      ]
     },
     "execution_count": 47,
     "metadata": {},
     "output_type": "execute_result"
    }
   ],
   "source": [
    "# 20160101~20161231 [0~366]\n",
    "# 20170101~20171231 [366~731]\n",
    "# 20180101~20181231 [731~1095]\n",
    "# 20190101~20190930 [1096~1368]\n",
    "# df = pd.read_csv('Data/elec_merge_20160101_20190930.csv')\n",
    "df = pd.read_csv('Data/industryElec_processed_20160101_20190930.csv')\n",
    "df['Date'] = pd.to_datetime(df['Date'], format='%Y-%m-%d')\n",
    "df.shape"
   ]
  },
  {
   "cell_type": "code",
   "execution_count": 48,
   "metadata": {},
   "outputs": [
    {
     "data": {
      "text/html": [
       "<div>\n",
       "<style scoped>\n",
       "    .dataframe tbody tr th:only-of-type {\n",
       "        vertical-align: middle;\n",
       "    }\n",
       "\n",
       "    .dataframe tbody tr th {\n",
       "        vertical-align: top;\n",
       "    }\n",
       "\n",
       "    .dataframe thead th {\n",
       "        text-align: right;\n",
       "    }\n",
       "</style>\n",
       "<table border=\"1\" class=\"dataframe\">\n",
       "  <thead>\n",
       "    <tr style=\"text-align: right;\">\n",
       "      <th></th>\n",
       "      <th>Date</th>\n",
       "      <th>kW</th>\n",
       "      <th>PeakLoad(MW)</th>\n",
       "      <th>isHoliday</th>\n",
       "      <th>week</th>\n",
       "      <th>week_update</th>\n",
       "      <th>dayOfYear</th>\n",
       "      <th>Temp_Taipei</th>\n",
       "      <th>PeakLoad(MW)_shift7</th>\n",
       "      <th>isHoliday_shift7</th>\n",
       "      <th>weekUpdate_shift7</th>\n",
       "      <th>Temp_Taipei_shift7</th>\n",
       "    </tr>\n",
       "  </thead>\n",
       "  <tbody>\n",
       "    <tr>\n",
       "      <th>0</th>\n",
       "      <td>2016-01-01</td>\n",
       "      <td>263.799</td>\n",
       "      <td>23038</td>\n",
       "      <td>1.0</td>\n",
       "      <td>5</td>\n",
       "      <td>7</td>\n",
       "      <td>1</td>\n",
       "      <td>14.6</td>\n",
       "      <td>26400.0</td>\n",
       "      <td>0.0</td>\n",
       "      <td>5.0</td>\n",
       "      <td>12.0</td>\n",
       "    </tr>\n",
       "    <tr>\n",
       "      <th>1</th>\n",
       "      <td>2016-01-02</td>\n",
       "      <td>261.975</td>\n",
       "      <td>23209</td>\n",
       "      <td>1.0</td>\n",
       "      <td>6</td>\n",
       "      <td>6</td>\n",
       "      <td>2</td>\n",
       "      <td>15.7</td>\n",
       "      <td>24308.0</td>\n",
       "      <td>1.0</td>\n",
       "      <td>6.0</td>\n",
       "      <td>12.1</td>\n",
       "    </tr>\n",
       "    <tr>\n",
       "      <th>2</th>\n",
       "      <td>2016-01-03</td>\n",
       "      <td>266.167</td>\n",
       "      <td>23686</td>\n",
       "      <td>1.0</td>\n",
       "      <td>7</td>\n",
       "      <td>7</td>\n",
       "      <td>3</td>\n",
       "      <td>16.0</td>\n",
       "      <td>23490.0</td>\n",
       "      <td>1.0</td>\n",
       "      <td>7.0</td>\n",
       "      <td>16.2</td>\n",
       "    </tr>\n",
       "    <tr>\n",
       "      <th>3</th>\n",
       "      <td>2016-01-04</td>\n",
       "      <td>302.227</td>\n",
       "      <td>27518</td>\n",
       "      <td>0.0</td>\n",
       "      <td>1</td>\n",
       "      <td>1</td>\n",
       "      <td>4</td>\n",
       "      <td>17.7</td>\n",
       "      <td>27207.0</td>\n",
       "      <td>0.0</td>\n",
       "      <td>1.0</td>\n",
       "      <td>13.5</td>\n",
       "    </tr>\n",
       "    <tr>\n",
       "      <th>4</th>\n",
       "      <td>2016-01-05</td>\n",
       "      <td>313.328</td>\n",
       "      <td>27635</td>\n",
       "      <td>0.0</td>\n",
       "      <td>2</td>\n",
       "      <td>2</td>\n",
       "      <td>5</td>\n",
       "      <td>17.8</td>\n",
       "      <td>26747.0</td>\n",
       "      <td>0.0</td>\n",
       "      <td>2.0</td>\n",
       "      <td>11.4</td>\n",
       "    </tr>\n",
       "  </tbody>\n",
       "</table>\n",
       "</div>"
      ],
      "text/plain": [
       "        Date       kW  PeakLoad(MW)  isHoliday  week  week_update  dayOfYear  \\\n",
       "0 2016-01-01  263.799         23038        1.0     5            7          1   \n",
       "1 2016-01-02  261.975         23209        1.0     6            6          2   \n",
       "2 2016-01-03  266.167         23686        1.0     7            7          3   \n",
       "3 2016-01-04  302.227         27518        0.0     1            1          4   \n",
       "4 2016-01-05  313.328         27635        0.0     2            2          5   \n",
       "\n",
       "   Temp_Taipei  PeakLoad(MW)_shift7  isHoliday_shift7  weekUpdate_shift7  \\\n",
       "0         14.6              26400.0               0.0                5.0   \n",
       "1         15.7              24308.0               1.0                6.0   \n",
       "2         16.0              23490.0               1.0                7.0   \n",
       "3         17.7              27207.0               0.0                1.0   \n",
       "4         17.8              26747.0               0.0                2.0   \n",
       "\n",
       "   Temp_Taipei_shift7  \n",
       "0                12.0  \n",
       "1                12.1  \n",
       "2                16.2  \n",
       "3                13.5  \n",
       "4                11.4  "
      ]
     },
     "execution_count": 48,
     "metadata": {},
     "output_type": "execute_result"
    }
   ],
   "source": [
    "df.head()"
   ]
  },
  {
   "cell_type": "code",
   "execution_count": 49,
   "metadata": {},
   "outputs": [],
   "source": [
    "# 資料維度擷取\n",
    "def augFeatures(data, features_select):\n",
    "    data = pd.DataFrame(data[features_select])\n",
    "    data.shape\n",
    "    return data"
   ]
  },
  {
   "cell_type": "code",
   "execution_count": 50,
   "metadata": {},
   "outputs": [],
   "source": [
    "from sklearn.preprocessing import MinMaxScaler\n",
    "def normalize(data):\n",
    "    sc = MinMaxScaler(feature_range = (0, 1))\n",
    "    data_scaled = pd.DataFrame(sc.fit_transform(data))\n",
    "    return sc, data_scaled \n",
    "\n",
    "def deNormalize(sc, value):\n",
    "    value_unscaled = value * (sc.data_max_[0]-sc.data_min_[0]) + sc.data_min_[0]\n",
    "    return value_unscaled "
   ]
  },
  {
   "cell_type": "code",
   "execution_count": 51,
   "metadata": {},
   "outputs": [],
   "source": [
    "# 根據給定的時間範圍自動產生訓練、測試資料集\n",
    "def split_dataset(data, pastDay=7, futureDay=7):\n",
    "    split_num_start = df[df['Date'] == trainFrom].index.item()\n",
    "    split_num = df[df['Date'] == testFrom].index.item()\n",
    "    split_num_end = df[df['Date'] == testTo].index.item()\n",
    "    print(\"split_num_start\", split_num_start)\n",
    "    print(\"split_num\", split_num)\n",
    "    print(\"split_num_end\", split_num_end)\n",
    "    if((split_num_end-split_num)%futureDay):\n",
    "        print(\"Data range error.\")\n",
    "    split_num_end = split_num_end - ((split_num_end-split_num+1)%futureDay)\n",
    "    split_num_end = split_num_end - ((split_num_end-split_num+1)%futureDay)\n",
    "    \n",
    "    # 訓練資料\n",
    "    RawTrain = data[split_num_start:split_num]\n",
    "    # 自我測試集\n",
    "    SelfTest = data[split_num_start:split_num - futureDay]\n",
    "    SelfTruth = data[split_num_start + pastDay:split_num][0]\n",
    "    # 實際預測集\n",
    "    RawTest = data[split_num - pastDay:split_num_end + 1 - futureDay]\n",
    "    RawTrurh = data[split_num:split_num_end + 1][0]\n",
    "\n",
    "    print(\"RawTrain\", RawTrain.shape)\n",
    "    print(\"RawTest, RawTrurh\", RawTest.shape, RawTrurh.shape)\n",
    "    print(\"SelfTest, SelfTruth\", SelfTest.shape, SelfTruth.shape)\n",
    "    return RawTrain, RawTest, RawTrurh, SelfTest, SelfTruth"
   ]
  },
  {
   "cell_type": "code",
   "execution_count": 52,
   "metadata": {},
   "outputs": [],
   "source": [
    "# 僅負責滾動資料\n",
    "def buildTrain(train, pastDay=7, futureDay=7):\n",
    "    X_train, Y_train = [], []\n",
    "    for i in range(pastDay, len(train)-futureDay):\n",
    "        X_train.append(train[i-pastDay:i])\n",
    "        Y_train.append(train[i:i+futureDay, 0])\n",
    "    X_train, Y_train = np.array(X_train), np.array(Y_train)  \n",
    "    X_train = np.reshape(X_train, (X_train.shape[0], X_train.shape[1], X_train.shape[2]))\n",
    "    print('X_train.shape, Y_train.shape', X_train.shape, Y_train.shape)\n",
    "    return X_train, Y_train"
   ]
  },
  {
   "cell_type": "code",
   "execution_count": 53,
   "metadata": {},
   "outputs": [],
   "source": [
    "# 僅負責滾動資料\n",
    "def buildTest(test, pastDay=7, futureDay=7):\n",
    "    X_test = []\n",
    "    for i in range(0, int(len(test)/futureDay)-(pastDay-futureDay)):\n",
    "        X_test.append(test[futureDay*i:futureDay*i+pastDay])\n",
    "    X_test = np.array(X_test)\n",
    "    print('buildTest.shape', X_test.shape)\n",
    "#     print('buildTest', X_test)\n",
    "\n",
    "    X_test = np.reshape(X_test, (X_test.shape[0], X_test.shape[1], X_test.shape[2]))  \n",
    "    print('buildTest.shape', X_test.shape)\n",
    "    return X_test"
   ]
  },
  {
   "cell_type": "code",
   "execution_count": 54,
   "metadata": {},
   "outputs": [],
   "source": [
    "# 拆分訓練與驗證，需要手動切割時才使用\n",
    "def splitData(X, Y, rate):\n",
    "    X_train = X[int(X.shape[0]*rate):]\n",
    "    Y_train = Y[int(Y.shape[0]*rate):]\n",
    "    X_val = X[:int(X.shape[0]*rate)]\n",
    "    Y_val = Y[:int(Y.shape[0]*rate)]\n",
    "    return X_train, Y_train, X_val, Y_val"
   ]
  },
  {
   "cell_type": "code",
   "execution_count": 55,
   "metadata": {},
   "outputs": [],
   "source": [
    "def forecast(model, input_data, shape):\n",
    "    forecast_temp = model.predict(input_data)\n",
    "    # Append Data\n",
    "    forecast = []\n",
    "    for i in range(forecast_temp.shape[0]):\n",
    "        forecast= np.concatenate((forecast, forecast_temp[i]), axis=0)\n",
    "    # Reshape\n",
    "    forecast = np.reshape(forecast, (shape[0], shape[1]))\n",
    "    print('Truth.shape, Forecast.shape', shape, forecast.shape)\n",
    "    return forecast"
   ]
  },
  {
   "cell_type": "markdown",
   "metadata": {},
   "source": [
    "---\n",
    "### Sub：Model"
   ]
  },
  {
   "cell_type": "code",
   "execution_count": 56,
   "metadata": {},
   "outputs": [],
   "source": [
    "# 關閉警告\n",
    "import tensorflow as tf\n",
    "tf.logging.set_verbosity(tf.logging.ERROR)\n",
    "# Import the Keras libraries and packages\n",
    "from keras.models import Sequential\n",
    "from keras.layers import Dense, TimeDistributed, Flatten, RepeatVector\n",
    "from keras.layers import SimpleRNN, LSTM, CuDNNLSTM\n",
    "from keras.layers import Dropout, BatchNormalization, Bidirectional\n",
    "from keras import optimizers\n",
    "from keras.callbacks import EarlyStopping, ReduceLROnPlateau, ModelCheckpoint"
   ]
  },
  {
   "cell_type": "code",
   "execution_count": 57,
   "metadata": {},
   "outputs": [],
   "source": [
    "def buildModel(shape, train_x, train_y):\n",
    "    epochs, batch_size = 1000, 32\n",
    "    # batch_size = 16\n",
    "    # epochs = 200\n",
    "    model = Sequential()\n",
    "    model.add(SimpleRNN(units = 200, activation='relu', input_shape = (shape[1], shape[2])))\n",
    "    model.add(RepeatVector(7))\n",
    "    model.add(SimpleRNN(200, activation='relu', return_sequences=True))\n",
    "#     model.add(Dropout(0.263))\n",
    "    model.add(TimeDistributed(Dense(200, activation='relu')))\n",
    "#     model.add(Dropout(0.183))\n",
    "    \n",
    "    model.add(Flatten())\n",
    "    model.add(Dense(units = 7))\n",
    "    model.compile(loss='mse', optimizer='adam')\n",
    "    reduce_lr = ReduceLROnPlateau(monitor='val_loss', factor=0.5, patience=15, mode='min', verbose=0)\n",
    "    earlyStop=EarlyStopping(monitor=\"val_loss\", patience=20, mode=\"min\", restore_best_weights=True)\n",
    "    modelResult = model.fit(train_x, train_y, \n",
    "                            epochs=epochs, batch_size=batch_size, \n",
    "                            verbose=0, \n",
    "                            validation_split=0.1, \n",
    "#                             shuffle=False,\n",
    "                            callbacks=[earlyStop, reduce_lr])\n",
    "    return model, modelResult"
   ]
  },
  {
   "cell_type": "code",
   "execution_count": 58,
   "metadata": {},
   "outputs": [],
   "source": [
    "def evaluate_model(model, sc, SelfTruth, S_test, RawTrurh, X_test):\n",
    "    self_trurh = pd.DataFrame(SelfTruth)\n",
    "    self_trurh = deNormalize(sc, self_trurh.values)\n",
    "    self_predict = forecast(model, S_test, self_trurh.shape)\n",
    "    self_predict = deNormalize(sc, self_predict)\n",
    "    test_trurh = pd.DataFrame(RawTrurh)\n",
    "    test_trurh = deNormalize(sc, test_trurh.values)\n",
    "    test_predict = forecast(model, X_test, test_trurh.shape)\n",
    "    test_predict = deNormalize(sc, test_predict)\n",
    "    return self_predict, test_predict"
   ]
  },
  {
   "cell_type": "markdown",
   "metadata": {},
   "source": [
    "---\n",
    "### Main"
   ]
  },
  {
   "cell_type": "code",
   "execution_count": 59,
   "metadata": {},
   "outputs": [],
   "source": [
    "features = [\n",
    "            'kW', \n",
    "            'PeakLoad(MW)_shift7', \n",
    "            'isHoliday_shift7', \n",
    "            'dayOfYear', \n",
    "            'weekUpdate_shift7', \n",
    "            'Temp_Taipei_shift7'\n",
    "           ]"
   ]
  },
  {
   "cell_type": "code",
   "execution_count": 60,
   "metadata": {},
   "outputs": [],
   "source": [
    "trainFrom = '2017-01-04'\n",
    "trainTo = '2019-01-01'\n",
    "testFrom = '2019-01-02'\n",
    "testTo = '2019-09-24'"
   ]
  },
  {
   "cell_type": "code",
   "execution_count": 61,
   "metadata": {},
   "outputs": [],
   "source": [
    "# 特徵選取\n",
    "RawData = augFeatures(df, features)\n",
    "# 正規化\n",
    "sc, RawData = normalize(RawData)"
   ]
  },
  {
   "cell_type": "code",
   "execution_count": 62,
   "metadata": {
    "scrolled": false
   },
   "outputs": [
    {
     "name": "stdout",
     "output_type": "stream",
     "text": [
      "split_num_start 369\n",
      "split_num 1097\n",
      "split_num_end 1362\n",
      "Data range error.\n",
      "RawTrain (728, 6)\n",
      "RawTest, RawTrurh (266, 6) (266,)\n",
      "SelfTest, SelfTruth (721, 6) (721,)\n",
      "X_train.shape, Y_train.shape (714, 7, 6) (714, 7)\n",
      "buildTest.shape (103, 7, 6)\n",
      "buildTest.shape (103, 7, 6)\n",
      "buildTest.shape (38, 7, 6)\n",
      "buildTest.shape (38, 7, 6)\n"
     ]
    }
   ],
   "source": [
    "# 自定義變數\n",
    "Timesteps = 7\n",
    "OutputDay = 7\n",
    "\n",
    "# 資料選取\n",
    "RawTrain, RawTest, RawTrurh, SelfTest, SelfTruth  = split_dataset(RawData, Timesteps, OutputDay)\n",
    "\n",
    "# 資料打包\n",
    "X_train, Y_train = buildTrain(RawTrain.values, Timesteps, OutputDay)\n",
    "S_test = buildTest(SelfTest.values, Timesteps, OutputDay)\n",
    "X_test = buildTest(RawTest.values, Timesteps, OutputDay)\n",
    "\n",
    "# 驗證資料\n",
    "# X, Y, Xv, Yv= splitData(X_train, Y_train, 0.1)"
   ]
  },
  {
   "cell_type": "code",
   "execution_count": 63,
   "metadata": {
    "scrolled": true
   },
   "outputs": [
    {
     "name": "stdout",
     "output_type": "stream",
     "text": [
      "0\n",
      "Truth.shape, Forecast.shape (721, 1) (721, 1)\n",
      "Truth.shape, Forecast.shape (266, 1) (266, 1)\n"
     ]
    },
    {
     "data": {
      "image/png": "[encoded data removed]",
      "text/plain": [
       "<Figure size 432x288 with 1 Axes>"
      ]
     },
     "metadata": {
      "needs_background": "light"
     },
     "output_type": "display_data"
    },
    {
     "name": "stdout",
     "output_type": "stream",
     "text": [
      "1\n",
      "Truth.shape, Forecast.shape (721, 1) (721, 1)\n",
      "Truth.shape, Forecast.shape (266, 1) (266, 1)\n"
     ]
    },
    {
     "data": {
      "image/png": "[encoded data removed]",
      "text/plain": [
       "<Figure size 432x288 with 1 Axes>"
      ]
     },
     "metadata": {
      "needs_background": "light"
     },
     "output_type": "display_data"
    },
    {
     "name": "stdout",
     "output_type": "stream",
     "text": [
      "2\n",
      "Truth.shape, Forecast.shape (721, 1) (721, 1)\n",
      "Truth.shape, Forecast.shape (266, 1) (266, 1)\n"
     ]
    },
    {
     "data": {
      "image/png": "[encoded data removed]",
      "text/plain": [
       "<Figure size 432x288 with 1 Axes>"
      ]
     },
     "metadata": {
      "needs_background": "light"
     },
     "output_type": "display_data"
    },
    {
     "name": "stdout",
     "output_type": "stream",
     "text": [
      "3\n",
      "Truth.shape, Forecast.shape (721, 1) (721, 1)\n",
      "Truth.shape, Forecast.shape (266, 1) (266, 1)\n"
     ]
    },
    {
     "data": {
      "image/png": "[encoded data removed]",
      "text/plain": [
       "<Figure size 432x288 with 1 Axes>"
      ]
     },
     "metadata": {
      "needs_background": "light"
     },
     "output_type": "display_data"
    },
    {
     "name": "stdout",
     "output_type": "stream",
     "text": [
      "4\n",
      "Truth.shape, Forecast.shape (721, 1) (721, 1)\n",
      "Truth.shape, Forecast.shape (266, 1) (266, 1)\n"
     ]
    },
    {
     "data": {
      "image/png": "[encoded data removed]",
      "text/plain": [
       "<Figure size 432x288 with 1 Axes>"
      ]
     },
     "metadata": {
      "needs_background": "light"
     },
     "output_type": "display_data"
    },
    {
     "name": "stdout",
     "output_type": "stream",
     "text": [
      "5\n",
      "Truth.shape, Forecast.shape (721, 1) (721, 1)\n",
      "Truth.shape, Forecast.shape (266, 1) (266, 1)\n"
     ]
    },
    {
     "data": {
      "image/png": "[encoded data removed]",
      "text/plain": [
       "<Figure size 432x288 with 1 Axes>"
      ]
     },
     "metadata": {
      "needs_background": "light"
     },
     "output_type": "display_data"
    },
    {
     "name": "stdout",
     "output_type": "stream",
     "text": [
      "6\n",
      "Truth.shape, Forecast.shape (721, 1) (721, 1)\n",
      "Truth.shape, Forecast.shape (266, 1) (266, 1)\n"
     ]
    },
    {
     "data": {
      "image/png": "[encoded data removed]",
      "text/plain": [
       "<Figure size 432x288 with 1 Axes>"
      ]
     },
     "metadata": {
      "needs_background": "light"
     },
     "output_type": "display_data"
    },
    {
     "name": "stdout",
     "output_type": "stream",
     "text": [
      "7\n",
      "Truth.shape, Forecast.shape (721, 1) (721, 1)\n",
      "Truth.shape, Forecast.shape (266, 1) (266, 1)\n"
     ]
    },
    {
     "data": {
      "image/png": "[encoded data removed]",
      "text/plain": [
       "<Figure size 432x288 with 1 Axes>"
      ]
     },
     "metadata": {
      "needs_background": "light"
     },
     "output_type": "display_data"
    },
    {
     "name": "stdout",
     "output_type": "stream",
     "text": [
      "8\n",
      "Truth.shape, Forecast.shape (721, 1) (721, 1)\n",
      "Truth.shape, Forecast.shape (266, 1) (266, 1)\n"
     ]
    },
    {
     "data": {
      "image/png": "[encoded data removed]",
      "text/plain": [
       "<Figure size 432x288 with 1 Axes>"
      ]
     },
     "metadata": {
      "needs_background": "light"
     },
     "output_type": "display_data"
    },
    {
     "name": "stdout",
     "output_type": "stream",
     "text": [
      "9\n",
      "Truth.shape, Forecast.shape (721, 1) (721, 1)\n",
      "Truth.shape, Forecast.shape (266, 1) (266, 1)\n"
     ]
    },
    {
     "data": {
      "image/png": "[encoded data removed]",
      "text/plain": [
       "<Figure size 432x288 with 1 Axes>"
      ]
     },
     "metadata": {
      "needs_background": "light"
     },
     "output_type": "display_data"
    },
    {
     "name": "stdout",
     "output_type": "stream",
     "text": [
      "Wall time: 6min 10s\n"
     ]
    }
   ],
   "source": [
    "%%time\n",
    "total_self = []\n",
    "total_test = []\n",
    "for i in range(10):\n",
    "    print(i)\n",
    "    model, modelResult = buildModel(X_train.shape, X_train, Y_train)\n",
    "    self_predict, test_predict = evaluate_model(model, sc, SelfTruth, S_test, RawTrurh, X_test)\n",
    "    total_self.append(np.reshape(self_predict, (self_predict.shape[0])))\n",
    "    total_test.append(np.reshape(test_predict, (test_predict.shape[0])))\n",
    "    plt.plot(modelResult.history['loss'][10:], label = 'loss')\n",
    "    plt.plot(modelResult.history['val_loss'][10:], color = 'red', label = 'val_loss')\n",
    "    plt.legend()\n",
    "    plt.show()\n",
    "mean_self = np.array(total_self).mean(axis=0)\n",
    "mean_test = np.array(total_test).mean(axis=0)\n",
    "# reshape\n",
    "mean_self = np.reshape(mean_self, (mean_self.shape[0], 1))\n",
    "mean_test = np.reshape(mean_test, (mean_test.shape[0], 1))"
   ]
  },
  {
   "cell_type": "markdown",
   "metadata": {},
   "source": [
    "---\n",
    "## Time"
   ]
  },
  {
   "cell_type": "code",
   "execution_count": 64,
   "metadata": {},
   "outputs": [],
   "source": [
    "t = 1\n",
    "save = True\n",
    "# save = False\n",
    "model_name = '(XT_RNN_2017_LR_Y)'"
   ]
  },
  {
   "cell_type": "markdown",
   "metadata": {},
   "source": [
    "---\n",
    "## Load Model"
   ]
  },
  {
   "cell_type": "code",
   "execution_count": 65,
   "metadata": {},
   "outputs": [],
   "source": [
    "# # load\n",
    "# from keras.models import load_model\n",
    "# model = load_model('Model/industryElec_cLSTM(7to7)_model_0' + str(t) + '.h5')"
   ]
  },
  {
   "cell_type": "markdown",
   "metadata": {},
   "source": [
    "---\n",
    "## Self-Prediction"
   ]
  },
  {
   "cell_type": "code",
   "execution_count": 66,
   "metadata": {},
   "outputs": [
    {
     "name": "stdout",
     "output_type": "stream",
     "text": [
      "RMSE 3.6872558760021192\n",
      "MAPE 0.8155012302645932\n"
     ]
    },
    {
     "data": {
      "image/png": "[encoded data removed]",
      "text/plain": [
       "<Figure size 2016x720 with 1 Axes>"
      ]
     },
     "metadata": {
      "needs_background": "light"
     },
     "output_type": "display_data"
    }
   ],
   "source": [
    "# 自我測試\n",
    "self_trurh = pd.DataFrame(SelfTruth)\n",
    "self_trurh = deNormalize(sc, self_trurh.values)\n",
    "calcError(self_trurh, mean_self)\n",
    "showPlot(self_trurh, mean_self, model_name , \"self\", size=\"L\", save=save)"
   ]
  },
  {
   "cell_type": "markdown",
   "metadata": {},
   "source": [
    "---\n",
    "## Test-Prediction"
   ]
  },
  {
   "cell_type": "code",
   "execution_count": 67,
   "metadata": {},
   "outputs": [],
   "source": [
    "date_range = pd.date_range(start = testFrom, end = testTo)"
   ]
  },
  {
   "cell_type": "code",
   "execution_count": 68,
   "metadata": {},
   "outputs": [
    {
     "name": "stdout",
     "output_type": "stream",
     "text": [
      "RMSE 8.782312263378332\n",
      "MAPE 1.9705223046996196\n"
     ]
    },
    {
     "data": {
      "image/png": "[encoded data removed]",
      "text/plain": [
       "<Figure size 432x288 with 1 Axes>"
      ]
     },
     "metadata": {
      "needs_background": "light"
     },
     "output_type": "display_data"
    }
   ],
   "source": [
    "# 實際測試\n",
    "test_trurh = pd.DataFrame(RawTrurh)\n",
    "test_trurh = deNormalize(sc, test_trurh.values)\n",
    "calcError(test_trurh, mean_test)\n",
    "showPlot(test_trurh, mean_test, model_name , str(test_trurh.shape[0]), save=save)"
   ]
  },
  {
   "cell_type": "markdown",
   "metadata": {},
   "source": [
    "---\n",
    "## 替換特殊日"
   ]
  },
  {
   "cell_type": "code",
   "execution_count": 69,
   "metadata": {},
   "outputs": [
    {
     "data": {
      "text/plain": [
       "(266, 3)"
      ]
     },
     "execution_count": 69,
     "metadata": {},
     "output_type": "execute_result"
    }
   ],
   "source": [
    "d = {'date': date_range, \n",
    "     'truth': np.reshape(test_trurh, (test_trurh.shape[0])),\n",
    "     'rowsMean': np.reshape(mean_test, (mean_test.shape[0]))}\n",
    "df_predictRange = pd.DataFrame(d)\n",
    "df_predictRange.shape"
   ]
  },
  {
   "cell_type": "code",
   "execution_count": 70,
   "metadata": {},
   "outputs": [],
   "source": [
    "holiday_0202_0210 = (df_predictRange['date']>='2019-02-02') & (df_predictRange['date']<='2019-02-10')\n",
    "holiday_0228_0303 = (df_predictRange['date']>='2019-02-28') & (df_predictRange['date']<='2019-03-03')\n",
    "holiday_0404_0407 = (df_predictRange['date']>='2019-04-04') & (df_predictRange['date']<='2019-04-07')\n",
    "holiday_0501 = (df_predictRange['date']>='2019-05-01') & (df_predictRange['date']<='2019-05-01')\n",
    "holiday_0607_0609 = (df_predictRange['date']>='2019-06-07') & (df_predictRange['date']<='2019-06-09')\n",
    "holiday_0913_0915 = (df_predictRange['date']>='2019-09-13') & (df_predictRange['date']<='2019-09-15')\n",
    "\n",
    "df_update = df_predictRange\n",
    "df_update.at[df_update[holiday_0202_0210].index.tolist(),'rowsMean']=[\n",
    "    296.2685916606903,268.6551230596378,266.62611725019514,233.78048832652811,237.5939330392182,\n",
    "    252.12632702508387,256.88761248559956,256.1430988708258,277.09936551484464]\n",
    "df_update.at[df_update[holiday_0228_0303].index.tolist(),'rowsMean']=[\n",
    "    315.53475376279357, 299.0515551307678, 279.6674245712996, 287.78825150981544]\n",
    "df_update.at[df_update[holiday_0501].index.tolist(),'rowsMean']=[327.4281960201264]\n",
    "df_update.at[df_update[holiday_0607_0609].index.tolist(),'rowsMean']=[\n",
    "    356.92780619964606, 324.89612232303625, 319.65093342745297]\n",
    "df_update.at[df_update[holiday_0913_0915].index.tolist(),'rowsMean']=[\n",
    "    362.11747525558474, 323.0216351282596, 320.375536335349]"
   ]
  },
  {
   "cell_type": "code",
   "execution_count": 71,
   "metadata": {},
   "outputs": [
    {
     "name": "stdout",
     "output_type": "stream",
     "text": [
      "RMSE 8.858075499385283\n",
      "MAPE 1.9669157431896414\n"
     ]
    },
    {
     "data": {
      "image/png": "[encoded data removed]",
      "text/plain": [
       "<Figure size 432x288 with 1 Axes>"
      ]
     },
     "metadata": {
      "needs_background": "light"
     },
     "output_type": "display_data"
    }
   ],
   "source": [
    "truth = df_update['truth']\n",
    "pred = df_update['rowsMean']\n",
    "calcError(truth, pred)\n",
    "showPlot(truth, pred, model_name , str(truth.shape[0])+'-update', save=save)"
   ]
  },
  {
   "cell_type": "code",
   "execution_count": 72,
   "metadata": {},
   "outputs": [
    {
     "data": {
      "application/vnd.plotly.v1+json": {
       "config": {
        "linkText": "Export to plot.ly",
        "plotlyServerURL": "https://plot.ly",
        "showLink": false
       },
       "data": [
        {
         "name": "truth",
         "type": "scatter",
         "x": [
          "2019-01-02T00:00:00",
          "2019-01-03T00:00:00",
          "2019-01-04T00:00:00",
          "2019-01-05T00:00:00",
          "2019-01-06T00:00:00",
          "2019-01-07T00:00:00",
          "2019-01-08T00:00:00",
          "2019-01-09T00:00:00",
          "2019-01-10T00:00:00",
          "2019-01-11T00:00:00",
          "2019-01-12T00:00:00",
          "2019-01-13T00:00:00",
          "2019-01-14T00:00:00",
          "2019-01-15T00:00:00",
          "2019-01-16T00:00:00",
          "2019-01-17T00:00:00",
          "2019-01-18T00:00:00",
          "2019-01-19T00:00:00",
          "2019-01-20T00:00:00",
          "2019-01-21T00:00:00",
          "2019-01-22T00:00:00",
          "2019-01-23T00:00:00",
          "2019-01-24T00:00:00",
          "2019-01-25T00:00:00",
          "2019-01-26T00:00:00",
          "2019-01-27T00:00:00",
          "2019-01-28T00:00:00",
          "2019-01-29T00:00:00",
          "2019-01-30T00:00:00",
          "2019-01-31T00:00:00",
          "2019-02-01T00:00:00",
          "2019-02-02T00:00:00",
          "2019-02-03T00:00:00",
          "2019-02-04T00:00:00",
          "2019-02-05T00:00:00",
          "2019-02-06T00:00:00",
          "2019-02-07T00:00:00",
          "2019-02-08T00:00:00",
          "2019-02-09T00:00:00",
          "2019-02-10T00:00:00",
          "2019-02-11T00:00:00",
          "2019-02-12T00:00:00",
          "2019-02-13T00:00:00",
          "2019-02-14T00:00:00",
          "2019-02-15T00:00:00",
          "2019-02-16T00:00:00",
          "2019-02-17T00:00:00",
          "2019-02-18T00:00:00",
          "2019-02-19T00:00:00",
          "2019-02-20T00:00:00",
          "2019-02-21T00:00:00",
          "2019-02-22T00:00:00",
          "2019-02-23T00:00:00",
          "2019-02-24T00:00:00",
          "2019-02-25T00:00:00",
          "2019-02-26T00:00:00",
          "2019-02-27T00:00:00",
          "2019-02-28T00:00:00",
          "2019-03-01T00:00:00",
          "2019-03-02T00:00:00",
          "2019-03-03T00:00:00",
          "2019-03-04T00:00:00",
          "2019-03-05T00:00:00",
          "2019-03-06T00:00:00",
          "2019-03-07T00:00:00",
          "2019-03-08T00:00:00",
          "2019-03-09T00:00:00",
          "2019-03-10T00:00:00",
          "2019-03-11T00:00:00",
          "2019-03-12T00:00:00",
          "2019-03-13T00:00:00",
          "2019-03-14T00:00:00",
          "2019-03-15T00:00:00",
          "2019-03-16T00:00:00",
          "2019-03-17T00:00:00",
          "2019-03-18T00:00:00",
          "2019-03-19T00:00:00",
          "2019-03-20T00:00:00",
          "2019-03-21T00:00:00",
          "2019-03-22T00:00:00",
          "2019-03-23T00:00:00",
          "2019-03-24T00:00:00",
          "2019-03-25T00:00:00",
          "2019-03-26T00:00:00",
          "2019-03-27T00:00:00",
          "2019-03-28T00:00:00",
          "2019-03-29T00:00:00",
          "2019-03-30T00:00:00",
          "2019-03-31T00:00:00",
          "2019-04-01T00:00:00",
          "2019-04-02T00:00:00",
          "2019-04-03T00:00:00",
          "2019-04-04T00:00:00",
          "2019-04-05T00:00:00",
          "2019-04-06T00:00:00",
          "2019-04-07T00:00:00",
          "2019-04-08T00:00:00",
          "2019-04-09T00:00:00",
          "2019-04-10T00:00:00",
          "2019-04-11T00:00:00",
          "2019-04-12T00:00:00",
          "2019-04-13T00:00:00",
          "2019-04-14T00:00:00",
          "2019-04-15T00:00:00",
          "2019-04-16T00:00:00",
          "2019-04-17T00:00:00",
          "2019-04-18T00:00:00",
          "2019-04-19T00:00:00",
          "2019-04-20T00:00:00",
          "2019-04-21T00:00:00",
          "2019-04-22T00:00:00",
          "2019-04-23T00:00:00",
          "2019-04-24T00:00:00",
          "2019-04-25T00:00:00",
          "2019-04-26T00:00:00",
          "2019-04-27T00:00:00",
          "2019-04-28T00:00:00",
          "2019-04-29T00:00:00",
          "2019-04-30T00:00:00",
          "2019-05-01T00:00:00",
          "2019-05-02T00:00:00",
          "2019-05-03T00:00:00",
          "2019-05-04T00:00:00",
          "2019-05-05T00:00:00",
          "2019-05-06T00:00:00",
          "2019-05-07T00:00:00",
          "2019-05-08T00:00:00",
          "2019-05-09T00:00:00",
          "2019-05-10T00:00:00",
          "2019-05-11T00:00:00",
          "2019-05-12T00:00:00",
          "2019-05-13T00:00:00",
          "2019-05-14T00:00:00",
          "2019-05-15T00:00:00",
          "2019-05-16T00:00:00",
          "2019-05-17T00:00:00",
          "2019-05-18T00:00:00",
          "2019-05-19T00:00:00",
          "2019-05-20T00:00:00",
          "2019-05-21T00:00:00",
          "2019-05-22T00:00:00",
          "2019-05-23T00:00:00",
          "2019-05-24T00:00:00",
          "2019-05-25T00:00:00",
          "2019-05-26T00:00:00",
          "2019-05-27T00:00:00",
          "2019-05-28T00:00:00",
          "2019-05-29T00:00:00",
          "2019-05-30T00:00:00",
          "2019-05-31T00:00:00",
          "2019-06-01T00:00:00",
          "2019-06-02T00:00:00",
          "2019-06-03T00:00:00",
          "2019-06-04T00:00:00",
          "2019-06-05T00:00:00",
          "2019-06-06T00:00:00",
          "2019-06-07T00:00:00",
          "2019-06-08T00:00:00",
          "2019-06-09T00:00:00",
          "2019-06-10T00:00:00",
          "2019-06-11T00:00:00",
          "2019-06-12T00:00:00",
          "2019-06-13T00:00:00",
          "2019-06-14T00:00:00",
          "2019-06-15T00:00:00",
          "2019-06-16T00:00:00",
          "2019-06-17T00:00:00",
          "2019-06-18T00:00:00",
          "2019-06-19T00:00:00",
          "2019-06-20T00:00:00",
          "2019-06-21T00:00:00",
          "2019-06-22T00:00:00",
          "2019-06-23T00:00:00",
          "2019-06-24T00:00:00",
          "2019-06-25T00:00:00",
          "2019-06-26T00:00:00",
          "2019-06-27T00:00:00",
          "2019-06-28T00:00:00",
          "2019-06-29T00:00:00",
          "2019-06-30T00:00:00",
          "2019-07-01T00:00:00",
          "2019-07-02T00:00:00",
          "2019-07-03T00:00:00",
          "2019-07-04T00:00:00",
          "2019-07-05T00:00:00",
          "2019-07-06T00:00:00",
          "2019-07-07T00:00:00",
          "2019-07-08T00:00:00",
          "2019-07-09T00:00:00",
          "2019-07-10T00:00:00",
          "2019-07-11T00:00:00",
          "2019-07-12T00:00:00",
          "2019-07-13T00:00:00",
          "2019-07-14T00:00:00",
          "2019-07-15T00:00:00",
          "2019-07-16T00:00:00",
          "2019-07-17T00:00:00",
          "2019-07-18T00:00:00",
          "2019-07-19T00:00:00",
          "2019-07-20T00:00:00",
          "2019-07-21T00:00:00",
          "2019-07-22T00:00:00",
          "2019-07-23T00:00:00",
          "2019-07-24T00:00:00",
          "2019-07-25T00:00:00",
          "2019-07-26T00:00:00",
          "2019-07-27T00:00:00",
          "2019-07-28T00:00:00",
          "2019-07-29T00:00:00",
          "2019-07-30T00:00:00",
          "2019-07-31T00:00:00",
          "2019-08-01T00:00:00",
          "2019-08-02T00:00:00",
          "2019-08-03T00:00:00",
          "2019-08-04T00:00:00",
          "2019-08-05T00:00:00",
          "2019-08-06T00:00:00",
          "2019-08-07T00:00:00",
          "2019-08-08T00:00:00",
          "2019-08-09T00:00:00",
          "2019-08-10T00:00:00",
          "2019-08-11T00:00:00",
          "2019-08-12T00:00:00",
          "2019-08-13T00:00:00",
          "2019-08-14T00:00:00",
          "2019-08-15T00:00:00",
          "2019-08-16T00:00:00",
          "2019-08-17T00:00:00",
          "2019-08-18T00:00:00",
          "2019-08-19T00:00:00",
          "2019-08-20T00:00:00",
          "2019-08-21T00:00:00",
          "2019-08-22T00:00:00",
          "2019-08-23T00:00:00",
          "2019-08-24T00:00:00",
          "2019-08-25T00:00:00",
          "2019-08-26T00:00:00",
          "2019-08-27T00:00:00",
          "2019-08-28T00:00:00",
          "2019-08-29T00:00:00",
          "2019-08-30T00:00:00",
          "2019-08-31T00:00:00",
          "2019-09-01T00:00:00",
          "2019-09-02T00:00:00",
          "2019-09-03T00:00:00",
          "2019-09-04T00:00:00",
          "2019-09-05T00:00:00",
          "2019-09-06T00:00:00",
          "2019-09-07T00:00:00",
          "2019-09-08T00:00:00",
          "2019-09-09T00:00:00",
          "2019-09-10T00:00:00",
          "2019-09-11T00:00:00",
          "2019-09-12T00:00:00",
          "2019-09-13T00:00:00",
          "2019-09-14T00:00:00",
          "2019-09-15T00:00:00",
          "2019-09-16T00:00:00",
          "2019-09-17T00:00:00",
          "2019-09-18T00:00:00",
          "2019-09-19T00:00:00",
          "2019-09-20T00:00:00",
          "2019-09-21T00:00:00",
          "2019-09-22T00:00:00",
          "2019-09-23T00:00:00",
          "2019-09-24T00:00:00"
         ],
         "y": [
          323.08,
          336.597,
          339.02,
          315.82500000000005,
          295.08,
          330.9190000000001,
          340.713,
          339.42,
          345.741,
          345.31199999999984,
          316.377,
          295.069,
          330.529,
          341.97900000000016,
          338.77099999999996,
          337.23699999999997,
          333.5780000000001,
          323.444,
          293.809,
          324.539,
          334.246,
          333.76099999999997,
          334.577,
          332.04699999999997,
          307.745,
          291.033,
          322.91100000000006,
          331.84400000000005,
          331.523,
          326.577,
          301.346,
          278.967,
          267.92900000000003,
          246.263,
          235.887,
          237.257,
          243.67,
          253.76800000000003,
          262.905,
          268.156,
          308.329,
          327.839,
          333.0450000000001,
          335.846,
          337.226,
          311.235,
          289.13,
          330.202,
          342.86800000000005,
          346.477,
          346.27099999999996,
          340.97,
          324.355,
          294.814,
          326.31100000000004,
          336.45,
          336.67699999999996,
          310.83799999999997,
          299.202,
          296.127,
          288.39,
          322.631,
          336.545,
          337.025,
          336.3830000000001,
          335.8590000000001,
          314.3520000000001,
          295.376,
          326.54,
          334.596,
          337.4390000000001,
          338.9190000000001,
          335.598,
          309.487,
          291.782,
          331.87300000000016,
          345.332,
          351.89700000000005,
          358.451,
          352.322,
          312.81600000000003,
          294.599,
          333.343,
          342.917,
          348.038,
          356.775,
          354.27,
          317.793,
          296.502,
          322.2370000000001,
          332.233,
          334.523,
          308.423,
          289.731,
          291.974,
          292.531,
          343.332,
          361.96900000000005,
          363.597,
          353.842,
          341.524,
          318.247,
          302.953,
          331.727,
          339.36800000000005,
          343.38,
          350.57400000000007,
          351.81699999999995,
          322.525,
          308.722,
          358.61,
          375.74199999999996,
          380.01500000000004,
          380.78100000000006,
          376.86800000000005,
          336.58000000000004,
          317.80600000000004,
          367.385,
          378.092,
          324.099,
          332.184,
          329.559,
          305.945,
          293.362,
          327.298,
          330.93300000000005,
          335.394,
          339.61400000000015,
          341.47800000000007,
          317.072,
          306.971,
          358.075,
          374.20500000000004,
          377.077,
          383.442,
          377.1380000000001,
          353.717,
          337.522,
          361.999,
          348.55000000000007,
          349.0880000000001,
          350.17800000000005,
          358.17400000000015,
          333.17199999999997,
          320.712,
          367.4280000000001,
          369.60400000000004,
          352.744,
          364.057,
          374.88599999999997,
          321.9190000000001,
          309.668,
          348.832,
          350.46,
          358.025,
          367.0880000000001,
          334.6040000000001,
          323.66700000000014,
          317.096,
          350.14099999999996,
          346.88300000000015,
          338.1790000000001,
          340.793,
          335.714,
          307.399,
          299.822,
          348.69500000000005,
          368.60800000000006,
          377.36400000000003,
          384.09000000000003,
          382.262,
          349.223,
          317.44500000000005,
          339.90700000000004,
          351.381,
          350.16200000000003,
          356.885,
          366.75,
          342.722,
          327.88199999999995,
          355.35,
          359.015,
          348.871,
          352.36800000000005,
          350.28,
          322.884,
          312.81,
          354.286,
          360.449,
          363.08400000000006,
          359.087,
          360.12699999999984,
          334.682,
          321.452,
          364.89300000000003,
          376.81600000000003,
          381.033,
          373.16100000000006,
          364.325,
          329.5630000000001,
          311.096,
          345.826,
          354.659,
          360.731,
          367.923,
          369.37,
          333.98,
          312.76599999999996,
          357.65700000000004,
          372.5180000000001,
          374.62300000000016,
          375.4100000000001,
          365.826,
          335.586,
          328.514,
          371.635,
          374.84800000000007,
          374.025,
          371.5130000000001,
          336.51099999999997,
          338.342,
          328.236,
          357.815,
          357.298,
          369.086,
          364.341,
          357.62,
          330.097,
          307.806,
          337.2030000000001,
          343.99699999999996,
          347.032,
          357.80500000000006,
          362.903,
          321.683,
          305.622,
          352.365,
          363.80500000000006,
          371.72299999999996,
          374.81300000000016,
          359.782,
          329.676,
          332.912,
          374.99699999999996,
          382.283,
          369.469,
          363.10699999999997,
          365.96000000000004,
          339.934,
          323.579,
          364.62699999999995,
          375.452,
          379.44000000000005,
          379.5490000000001,
          336.40600000000006,
          324.443,
          315.099,
          353.608,
          358.369,
          353.586,
          345.22,
          335.219,
          299.07500000000005,
          285.911,
          322.52,
          331.08099999999996
         ]
        },
        {
         "name": "predict",
         "type": "scatter",
         "x": [
          "2019-01-02T00:00:00",
          "2019-01-03T00:00:00",
          "2019-01-04T00:00:00",
          "2019-01-05T00:00:00",
          "2019-01-06T00:00:00",
          "2019-01-07T00:00:00",
          "2019-01-08T00:00:00",
          "2019-01-09T00:00:00",
          "2019-01-10T00:00:00",
          "2019-01-11T00:00:00",
          "2019-01-12T00:00:00",
          "2019-01-13T00:00:00",
          "2019-01-14T00:00:00",
          "2019-01-15T00:00:00",
          "2019-01-16T00:00:00",
          "2019-01-17T00:00:00",
          "2019-01-18T00:00:00",
          "2019-01-19T00:00:00",
          "2019-01-20T00:00:00",
          "2019-01-21T00:00:00",
          "2019-01-22T00:00:00",
          "2019-01-23T00:00:00",
          "2019-01-24T00:00:00",
          "2019-01-25T00:00:00",
          "2019-01-26T00:00:00",
          "2019-01-27T00:00:00",
          "2019-01-28T00:00:00",
          "2019-01-29T00:00:00",
          "2019-01-30T00:00:00",
          "2019-01-31T00:00:00",
          "2019-02-01T00:00:00",
          "2019-02-02T00:00:00",
          "2019-02-03T00:00:00",
          "2019-02-04T00:00:00",
          "2019-02-05T00:00:00",
          "2019-02-06T00:00:00",
          "2019-02-07T00:00:00",
          "2019-02-08T00:00:00",
          "2019-02-09T00:00:00",
          "2019-02-10T00:00:00",
          "2019-02-11T00:00:00",
          "2019-02-12T00:00:00",
          "2019-02-13T00:00:00",
          "2019-02-14T00:00:00",
          "2019-02-15T00:00:00",
          "2019-02-16T00:00:00",
          "2019-02-17T00:00:00",
          "2019-02-18T00:00:00",
          "2019-02-19T00:00:00",
          "2019-02-20T00:00:00",
          "2019-02-21T00:00:00",
          "2019-02-22T00:00:00",
          "2019-02-23T00:00:00",
          "2019-02-24T00:00:00",
          "2019-02-25T00:00:00",
          "2019-02-26T00:00:00",
          "2019-02-27T00:00:00",
          "2019-02-28T00:00:00",
          "2019-03-01T00:00:00",
          "2019-03-02T00:00:00",
          "2019-03-03T00:00:00",
          "2019-03-04T00:00:00",
          "2019-03-05T00:00:00",
          "2019-03-06T00:00:00",
          "2019-03-07T00:00:00",
          "2019-03-08T00:00:00",
          "2019-03-09T00:00:00",
          "2019-03-10T00:00:00",
          "2019-03-11T00:00:00",
          "2019-03-12T00:00:00",
          "2019-03-13T00:00:00",
          "2019-03-14T00:00:00",
          "2019-03-15T00:00:00",
          "2019-03-16T00:00:00",
          "2019-03-17T00:00:00",
          "2019-03-18T00:00:00",
          "2019-03-19T00:00:00",
          "2019-03-20T00:00:00",
          "2019-03-21T00:00:00",
          "2019-03-22T00:00:00",
          "2019-03-23T00:00:00",
          "2019-03-24T00:00:00",
          "2019-03-25T00:00:00",
          "2019-03-26T00:00:00",
          "2019-03-27T00:00:00",
          "2019-03-28T00:00:00",
          "2019-03-29T00:00:00",
          "2019-03-30T00:00:00",
          "2019-03-31T00:00:00",
          "2019-04-01T00:00:00",
          "2019-04-02T00:00:00",
          "2019-04-03T00:00:00",
          "2019-04-04T00:00:00",
          "2019-04-05T00:00:00",
          "2019-04-06T00:00:00",
          "2019-04-07T00:00:00",
          "2019-04-08T00:00:00",
          "2019-04-09T00:00:00",
          "2019-04-10T00:00:00",
          "2019-04-11T00:00:00",
          "2019-04-12T00:00:00",
          "2019-04-13T00:00:00",
          "2019-04-14T00:00:00",
          "2019-04-15T00:00:00",
          "2019-04-16T00:00:00",
          "2019-04-17T00:00:00",
          "2019-04-18T00:00:00",
          "2019-04-19T00:00:00",
          "2019-04-20T00:00:00",
          "2019-04-21T00:00:00",
          "2019-04-22T00:00:00",
          "2019-04-23T00:00:00",
          "2019-04-24T00:00:00",
          "2019-04-25T00:00:00",
          "2019-04-26T00:00:00",
          "2019-04-27T00:00:00",
          "2019-04-28T00:00:00",
          "2019-04-29T00:00:00",
          "2019-04-30T00:00:00",
          "2019-05-01T00:00:00",
          "2019-05-02T00:00:00",
          "2019-05-03T00:00:00",
          "2019-05-04T00:00:00",
          "2019-05-05T00:00:00",
          "2019-05-06T00:00:00",
          "2019-05-07T00:00:00",
          "2019-05-08T00:00:00",
          "2019-05-09T00:00:00",
          "2019-05-10T00:00:00",
          "2019-05-11T00:00:00",
          "2019-05-12T00:00:00",
          "2019-05-13T00:00:00",
          "2019-05-14T00:00:00",
          "2019-05-15T00:00:00",
          "2019-05-16T00:00:00",
          "2019-05-17T00:00:00",
          "2019-05-18T00:00:00",
          "2019-05-19T00:00:00",
          "2019-05-20T00:00:00",
          "2019-05-21T00:00:00",
          "2019-05-22T00:00:00",
          "2019-05-23T00:00:00",
          "2019-05-24T00:00:00",
          "2019-05-25T00:00:00",
          "2019-05-26T00:00:00",
          "2019-05-27T00:00:00",
          "2019-05-28T00:00:00",
          "2019-05-29T00:00:00",
          "2019-05-30T00:00:00",
          "2019-05-31T00:00:00",
          "2019-06-01T00:00:00",
          "2019-06-02T00:00:00",
          "2019-06-03T00:00:00",
          "2019-06-04T00:00:00",
          "2019-06-05T00:00:00",
          "2019-06-06T00:00:00",
          "2019-06-07T00:00:00",
          "2019-06-08T00:00:00",
          "2019-06-09T00:00:00",
          "2019-06-10T00:00:00",
          "2019-06-11T00:00:00",
          "2019-06-12T00:00:00",
          "2019-06-13T00:00:00",
          "2019-06-14T00:00:00",
          "2019-06-15T00:00:00",
          "2019-06-16T00:00:00",
          "2019-06-17T00:00:00",
          "2019-06-18T00:00:00",
          "2019-06-19T00:00:00",
          "2019-06-20T00:00:00",
          "2019-06-21T00:00:00",
          "2019-06-22T00:00:00",
          "2019-06-23T00:00:00",
          "2019-06-24T00:00:00",
          "2019-06-25T00:00:00",
          "2019-06-26T00:00:00",
          "2019-06-27T00:00:00",
          "2019-06-28T00:00:00",
          "2019-06-29T00:00:00",
          "2019-06-30T00:00:00",
          "2019-07-01T00:00:00",
          "2019-07-02T00:00:00",
          "2019-07-03T00:00:00",
          "2019-07-04T00:00:00",
          "2019-07-05T00:00:00",
          "2019-07-06T00:00:00",
          "2019-07-07T00:00:00",
          "2019-07-08T00:00:00",
          "2019-07-09T00:00:00",
          "2019-07-10T00:00:00",
          "2019-07-11T00:00:00",
          "2019-07-12T00:00:00",
          "2019-07-13T00:00:00",
          "2019-07-14T00:00:00",
          "2019-07-15T00:00:00",
          "2019-07-16T00:00:00",
          "2019-07-17T00:00:00",
          "2019-07-18T00:00:00",
          "2019-07-19T00:00:00",
          "2019-07-20T00:00:00",
          "2019-07-21T00:00:00",
          "2019-07-22T00:00:00",
          "2019-07-23T00:00:00",
          "2019-07-24T00:00:00",
          "2019-07-25T00:00:00",
          "2019-07-26T00:00:00",
          "2019-07-27T00:00:00",
          "2019-07-28T00:00:00",
          "2019-07-29T00:00:00",
          "2019-07-30T00:00:00",
          "2019-07-31T00:00:00",
          "2019-08-01T00:00:00",
          "2019-08-02T00:00:00",
          "2019-08-03T00:00:00",
          "2019-08-04T00:00:00",
          "2019-08-05T00:00:00",
          "2019-08-06T00:00:00",
          "2019-08-07T00:00:00",
          "2019-08-08T00:00:00",
          "2019-08-09T00:00:00",
          "2019-08-10T00:00:00",
          "2019-08-11T00:00:00",
          "2019-08-12T00:00:00",
          "2019-08-13T00:00:00",
          "2019-08-14T00:00:00",
          "2019-08-15T00:00:00",
          "2019-08-16T00:00:00",
          "2019-08-17T00:00:00",
          "2019-08-18T00:00:00",
          "2019-08-19T00:00:00",
          "2019-08-20T00:00:00",
          "2019-08-21T00:00:00",
          "2019-08-22T00:00:00",
          "2019-08-23T00:00:00",
          "2019-08-24T00:00:00",
          "2019-08-25T00:00:00",
          "2019-08-26T00:00:00",
          "2019-08-27T00:00:00",
          "2019-08-28T00:00:00",
          "2019-08-29T00:00:00",
          "2019-08-30T00:00:00",
          "2019-08-31T00:00:00",
          "2019-09-01T00:00:00",
          "2019-09-02T00:00:00",
          "2019-09-03T00:00:00",
          "2019-09-04T00:00:00",
          "2019-09-05T00:00:00",
          "2019-09-06T00:00:00",
          "2019-09-07T00:00:00",
          "2019-09-08T00:00:00",
          "2019-09-09T00:00:00",
          "2019-09-10T00:00:00",
          "2019-09-11T00:00:00",
          "2019-09-12T00:00:00",
          "2019-09-13T00:00:00",
          "2019-09-14T00:00:00",
          "2019-09-15T00:00:00",
          "2019-09-16T00:00:00",
          "2019-09-17T00:00:00",
          "2019-09-18T00:00:00",
          "2019-09-19T00:00:00",
          "2019-09-20T00:00:00",
          "2019-09-21T00:00:00",
          "2019-09-22T00:00:00",
          "2019-09-23T00:00:00",
          "2019-09-24T00:00:00"
         ],
         "y": [
          316.54434775134916,
          324.0216092195511,
          328.43956855678556,
          309.76191594499346,
          286.3235575656593,
          320.37755147820707,
          335.7929266247153,
          341.1947925899326,
          346.67655556070804,
          346.0168577978313,
          317.9064158430695,
          298.5013653645218,
          331.6929715263248,
          341.6148457878828,
          339.3892894814015,
          336.55678137123584,
          334.57162612956756,
          328.5702284743189,
          300.61175119924536,
          327.52467263555525,
          330.47907123693824,
          332.0848163476586,
          333.9551771555245,
          333.3144095857143,
          306.48301207211614,
          287.65980235679444,
          320.17491015407444,
          330.1440357967019,
          334.43744583317635,
          331.7466089166701,
          316.74929507294297,
          283.22724113395805,
          263.3032253737971,
          261.1155490848422,
          259.8681518320963,
          240.0705290646702,
          247.74003164255623,
          252.6210753622576,
          260.5573470075801,
          268.2846922414452,
          301.2905091094822,
          322.63182823652033,
          335.90966650193934,
          343.54869286254046,
          345.22535651963943,
          317.71584754928944,
          290.8006217745096,
          320.92320135322217,
          332.76287029272316,
          343.76236979466677,
          343.8991480709314,
          339.92370356351137,
          325.46319496089217,
          294.0528667683452,
          322.7741198928058,
          330.27196722707146,
          324.8790443292261,
          300.30220394341643,
          286.50694132250544,
          285.624590380311,
          280.7942490194142,
          317.1556184615493,
          333.0213222853839,
          337.2834205261171,
          337.747024449259,
          337.83762415862077,
          313.3445180245042,
          290.50052247230707,
          321.7486367388964,
          331.26982154521346,
          337.26564830875395,
          337.95953898170586,
          336.32400281697505,
          307.87343453165886,
          289.0871290706694,
          329.6121643947661,
          340.5974308601021,
          349.9212244957388,
          352.18954627168176,
          348.24186884927747,
          310.17868765878677,
          286.17279012446113,
          321.5213804126083,
          332.9764012336433,
          345.912585790813,
          349.7945373086035,
          349.5173763216734,
          317.4078426020741,
          290.2142812747508,
          322.50937590035795,
          333.44575411352514,
          320.87793633735174,
          298.8654182159751,
          288.5708637968749,
          286.3185380119532,
          283.53943005642293,
          329.88138876885176,
          346.8165987312198,
          362.88161594328284,
          362.26599867671723,
          357.8715151678324,
          324.9790317155421,
          298.95180795922874,
          329.9190301681757,
          337.00292386132475,
          337.27293680912254,
          342.9376820609271,
          347.1307662769257,
          323.22065169277784,
          306.21283046023547,
          354.26495394060015,
          364.68943500322104,
          378.0140269524157,
          375.0369068105817,
          369.4833382862508,
          339.18775968122486,
          324.03626585185526,
          367.93414596602315,
          369.24236874052883,
          346.0555233475864,
          354.7707106125355,
          356.43088721728316,
          328.36788466256854,
          311.05836651951074,
          350.0651685070395,
          348.3237035562992,
          328.11553222674127,
          329.45127323761585,
          331.71392679438,
          310.9538578297794,
          297.94219471302625,
          344.3615365066827,
          352.41354986965655,
          374.0174800797402,
          375.1763062925935,
          368.8137341352402,
          336.08100709027053,
          313.54123675084116,
          344.9010160412489,
          345.16816446462275,
          343.93545342952,
          342.03816941004993,
          342.08604678371546,
          318.78625839090347,
          303.3893743578493,
          350.2342517616451,
          355.64525876715777,
          358.410097741276,
          358.87318516522646,
          361.138913385272,
          336.4384245308041,
          320.3424184732437,
          361.30901194235685,
          366.68249035993216,
          365.69959461045266,
          363.5618995722234,
          339.9622806337476,
          320.08864262315626,
          313.15788153934477,
          349.21689766353364,
          351.00044236746425,
          346.8553516544997,
          345.17887380439043,
          342.8752840922176,
          314.89331550487873,
          297.6286896577179,
          340.8204313215315,
          352.5825402207672,
          376.3430304085016,
          380.1354572430849,
          377.27487568756936,
          345.89031438991435,
          319.71660062414406,
          351.9692455415726,
          358.82600456777215,
          352.3715320521295,
          356.4981570895016,
          359.0855570244491,
          336.80019737565516,
          322.86216918003555,
          366.45220582211016,
          372.56312784981725,
          363.6361195106507,
          365.8516123778521,
          363.106784152925,
          333.81440513497586,
          315.7958685332238,
          355.921057169497,
          364.3239858343601,
          366.1131390337944,
          369.24014016264675,
          367.66226831236474,
          342.1335846172273,
          326.14920432069897,
          365.7168215727806,
          372.7668309281766,
          377.538998111397,
          375.95639150086043,
          368.39943100002404,
          336.38632226011157,
          314.62888119074705,
          350.1221139253974,
          357.1925985474587,
          358.85579893976444,
          362.3444335582256,
          362.64172916567315,
          335.59172309276454,
          317.6061749736369,
          358.60342770203954,
          367.48896679669616,
          373.4943626202047,
          372.422965231955,
          365.9134894233942,
          336.1980544338226,
          320.4436523147821,
          360.23084255293014,
          366.0331037789881,
          372.2203393917381,
          370.3064521905481,
          365.30739144706723,
          338.62298495820164,
          320.59466805163026,
          355.90931593734024,
          363.20412268364424,
          359.99467302110793,
          359.8840714105069,
          357.34579641044144,
          328.2851828562617,
          303.3516173821539,
          337.0646803535223,
          346.7564846400916,
          351.09651342907546,
          355.3527388417423,
          356.6292229068279,
          330.9375223340988,
          313.89953345659376,
          356.14492141222956,
          366.1944660895765,
          364.91326606613393,
          370.1145202061831,
          363.56832207930086,
          335.3585043528974,
          319.69801328921324,
          354.2491924203038,
          349.2068629800975,
          373.4445077292919,
          367.9566031739115,
          363.7695621090531,
          338.0691263958216,
          318.7617993339002,
          355.71193914458155,
          363.86682875016334,
          384.3378882142603,
          378.0709513568878,
          351.3822635653019,
          325.7331172171831,
          314.38932399934527,
          351.7146357720196,
          357.43792681548,
          359.6574012610316,
          354.44224145859476,
          347.6575501065254,
          313.71215484946964,
          289.07893973819915,
          329.8152868262827,
          341.4414568986893
         ]
        }
       ],
       "layout": {
        "template": {
         "data": {
          "bar": [
           {
            "error_x": {
             "color": "#2a3f5f"
            },
            "error_y": {
             "color": "#2a3f5f"
            },
            "marker": {
             "line": {
              "color": "#E5ECF6",
              "width": 0.5
             }
            },
            "type": "bar"
           }
          ],
          "barpolar": [
           {
            "marker": {
             "line": {
              "color": "#E5ECF6",
              "width": 0.5
             }
            },
            "type": "barpolar"
           }
          ],
          "carpet": [
           {
            "aaxis": {
             "endlinecolor": "#2a3f5f",
             "gridcolor": "white",
             "linecolor": "white",
             "minorgridcolor": "white",
             "startlinecolor": "#2a3f5f"
            },
            "baxis": {
             "endlinecolor": "#2a3f5f",
             "gridcolor": "white",
             "linecolor": "white",
             "minorgridcolor": "white",
             "startlinecolor": "#2a3f5f"
            },
            "type": "carpet"
           }
          ],
          "choropleth": [
           {
            "colorbar": {
             "outlinewidth": 0,
             "ticks": ""
            },
            "type": "choropleth"
           }
          ],
          "contour": [
           {
            "colorbar": {
             "outlinewidth": 0,
             "ticks": ""
            },
            "colorscale": [
             [
              0,
              "#0d0887"
             ],
             [
              0.1111111111111111,
              "#46039f"
             ],
             [
              0.2222222222222222,
              "#7201a8"
             ],
             [
              0.3333333333333333,
              "#9c179e"
             ],
             [
              0.4444444444444444,
              "#bd3786"
             ],
             [
              0.5555555555555556,
              "#d8576b"
             ],
             [
              0.6666666666666666,
              "#ed7953"
             ],
             [
              0.7777777777777778,
              "#fb9f3a"
             ],
             [
              0.8888888888888888,
              "#fdca26"
             ],
             [
              1,
              "#f0f921"
             ]
            ],
            "type": "contour"
           }
          ],
          "contourcarpet": [
           {
            "colorbar": {
             "outlinewidth": 0,
             "ticks": ""
            },
            "type": "contourcarpet"
           }
          ],
          "heatmap": [
           {
            "colorbar": {
             "outlinewidth": 0,
             "ticks": ""
            },
            "colorscale": [
             [
              0,
              "#0d0887"
             ],
             [
              0.1111111111111111,
              "#46039f"
             ],
             [
              0.2222222222222222,
              "#7201a8"
             ],
             [
              0.3333333333333333,
              "#9c179e"
             ],
             [
              0.4444444444444444,
              "#bd3786"
             ],
             [
              0.5555555555555556,
              "#d8576b"
             ],
             [
              0.6666666666666666,
              "#ed7953"
             ],
             [
              0.7777777777777778,
              "#fb9f3a"
             ],
             [
              0.8888888888888888,
              "#fdca26"
             ],
             [
              1,
              "#f0f921"
             ]
            ],
            "type": "heatmap"
           }
          ],
          "heatmapgl": [
           {
            "colorbar": {
             "outlinewidth": 0,
             "ticks": ""
            },
            "colorscale": [
             [
              0,
              "#0d0887"
             ],
             [
              0.1111111111111111,
              "#46039f"
             ],
             [
              0.2222222222222222,
              "#7201a8"
             ],
             [
              0.3333333333333333,
              "#9c179e"
             ],
             [
              0.4444444444444444,
              "#bd3786"
             ],
             [
              0.5555555555555556,
              "#d8576b"
             ],
             [
              0.6666666666666666,
              "#ed7953"
             ],
             [
              0.7777777777777778,
              "#fb9f3a"
             ],
             [
              0.8888888888888888,
              "#fdca26"
             ],
             [
              1,
              "#f0f921"
             ]
            ],
            "type": "heatmapgl"
           }
          ],
          "histogram": [
           {
            "marker": {
             "colorbar": {
              "outlinewidth": 0,
              "ticks": ""
             }
            },
            "type": "histogram"
           }
          ],
          "histogram2d": [
           {
            "colorbar": {
             "outlinewidth": 0,
             "ticks": ""
            },
            "colorscale": [
             [
              0,
              "#0d0887"
             ],
             [
              0.1111111111111111,
              "#46039f"
             ],
             [
              0.2222222222222222,
              "#7201a8"
             ],
             [
              0.3333333333333333,
              "#9c179e"
             ],
             [
              0.4444444444444444,
              "#bd3786"
             ],
             [
              0.5555555555555556,
              "#d8576b"
             ],
             [
              0.6666666666666666,
              "#ed7953"
             ],
             [
              0.7777777777777778,
              "#fb9f3a"
             ],
             [
              0.8888888888888888,
              "#fdca26"
             ],
             [
              1,
              "#f0f921"
             ]
            ],
            "type": "histogram2d"
           }
          ],
          "histogram2dcontour": [
           {
            "colorbar": {
             "outlinewidth": 0,
             "ticks": ""
            },
            "colorscale": [
             [
              0,
              "#0d0887"
             ],
             [
              0.1111111111111111,
              "#46039f"
             ],
             [
              0.2222222222222222,
              "#7201a8"
             ],
             [
              0.3333333333333333,
              "#9c179e"
             ],
             [
              0.4444444444444444,
              "#bd3786"
             ],
             [
              0.5555555555555556,
              "#d8576b"
             ],
             [
              0.6666666666666666,
              "#ed7953"
             ],
             [
              0.7777777777777778,
              "#fb9f3a"
             ],
             [
              0.8888888888888888,
              "#fdca26"
             ],
             [
              1,
              "#f0f921"
             ]
            ],
            "type": "histogram2dcontour"
           }
          ],
          "mesh3d": [
           {
            "colorbar": {
             "outlinewidth": 0,
             "ticks": ""
            },
            "type": "mesh3d"
           }
          ],
          "parcoords": [
           {
            "line": {
             "colorbar": {
              "outlinewidth": 0,
              "ticks": ""
             }
            },
            "type": "parcoords"
           }
          ],
          "pie": [
           {
            "automargin": true,
            "type": "pie"
           }
          ],
          "scatter": [
           {
            "marker": {
             "colorbar": {
              "outlinewidth": 0,
              "ticks": ""
             }
            },
            "type": "scatter"
           }
          ],
          "scatter3d": [
           {
            "line": {
             "colorbar": {
              "outlinewidth": 0,
              "ticks": ""
             }
            },
            "marker": {
             "colorbar": {
              "outlinewidth": 0,
              "ticks": ""
             }
            },
            "type": "scatter3d"
           }
          ],
          "scattercarpet": [
           {
            "marker": {
             "colorbar": {
              "outlinewidth": 0,
              "ticks": ""
             }
            },
            "type": "scattercarpet"
           }
          ],
          "scattergeo": [
           {
            "marker": {
             "colorbar": {
              "outlinewidth": 0,
              "ticks": ""
             }
            },
            "type": "scattergeo"
           }
          ],
          "scattergl": [
           {
            "marker": {
             "colorbar": {
              "outlinewidth": 0,
              "ticks": ""
             }
            },
            "type": "scattergl"
           }
          ],
          "scattermapbox": [
           {
            "marker": {
             "colorbar": {
              "outlinewidth": 0,
              "ticks": ""
             }
            },
            "type": "scattermapbox"
           }
          ],
          "scatterpolar": [
           {
            "marker": {
             "colorbar": {
              "outlinewidth": 0,
              "ticks": ""
             }
            },
            "type": "scatterpolar"
           }
          ],
          "scatterpolargl": [
           {
            "marker": {
             "colorbar": {
              "outlinewidth": 0,
              "ticks": ""
             }
            },
            "type": "scatterpolargl"
           }
          ],
          "scatterternary": [
           {
            "marker": {
             "colorbar": {
              "outlinewidth": 0,
              "ticks": ""
             }
            },
            "type": "scatterternary"
           }
          ],
          "surface": [
           {
            "colorbar": {
             "outlinewidth": 0,
             "ticks": ""
            },
            "colorscale": [
             [
              0,
              "#0d0887"
             ],
             [
              0.1111111111111111,
              "#46039f"
             ],
             [
              0.2222222222222222,
              "#7201a8"
             ],
             [
              0.3333333333333333,
              "#9c179e"
             ],
             [
              0.4444444444444444,
              "#bd3786"
             ],
             [
              0.5555555555555556,
              "#d8576b"
             ],
             [
              0.6666666666666666,
              "#ed7953"
             ],
             [
              0.7777777777777778,
              "#fb9f3a"
             ],
             [
              0.8888888888888888,
              "#fdca26"
             ],
             [
              1,
              "#f0f921"
             ]
            ],
            "type": "surface"
           }
          ],
          "table": [
           {
            "cells": {
             "fill": {
              "color": "#EBF0F8"
             },
             "line": {
              "color": "white"
             }
            },
            "header": {
             "fill": {
              "color": "#C8D4E3"
             },
             "line": {
              "color": "white"
             }
            },
            "type": "table"
           }
          ]
         },
         "layout": {
          "annotationdefaults": {
           "arrowcolor": "#2a3f5f",
           "arrowhead": 0,
           "arrowwidth": 1
          },
          "coloraxis": {
           "colorbar": {
            "outlinewidth": 0,
            "ticks": ""
           }
          },
          "colorscale": {
           "diverging": [
            [
             0,
             "#8e0152"
            ],
            [
             0.1,
             "#c51b7d"
            ],
            [
             0.2,
             "#de77ae"
            ],
            [
             0.3,
             "#f1b6da"
            ],
            [
             0.4,
             "#fde0ef"
            ],
            [
             0.5,
             "#f7f7f7"
            ],
            [
             0.6,
             "#e6f5d0"
            ],
            [
             0.7,
             "#b8e186"
            ],
            [
             0.8,
             "#7fbc41"
            ],
            [
             0.9,
             "#4d9221"
            ],
            [
             1,
             "#276419"
            ]
           ],
           "sequential": [
            [
             0,
             "#0d0887"
            ],
            [
             0.1111111111111111,
             "#46039f"
            ],
            [
             0.2222222222222222,
             "#7201a8"
            ],
            [
             0.3333333333333333,
             "#9c179e"
            ],
            [
             0.4444444444444444,
             "#bd3786"
            ],
            [
             0.5555555555555556,
             "#d8576b"
            ],
            [
             0.6666666666666666,
             "#ed7953"
            ],
            [
             0.7777777777777778,
             "#fb9f3a"
            ],
            [
             0.8888888888888888,
             "#fdca26"
            ],
            [
             1,
             "#f0f921"
            ]
           ],
           "sequentialminus": [
            [
             0,
             "#0d0887"
            ],
            [
             0.1111111111111111,
             "#46039f"
            ],
            [
             0.2222222222222222,
             "#7201a8"
            ],
            [
             0.3333333333333333,
             "#9c179e"
            ],
            [
             0.4444444444444444,
             "#bd3786"
            ],
            [
             0.5555555555555556,
             "#d8576b"
            ],
            [
             0.6666666666666666,
             "#ed7953"
            ],
            [
             0.7777777777777778,
             "#fb9f3a"
            ],
            [
             0.8888888888888888,
             "#fdca26"
            ],
            [
             1,
             "#f0f921"
            ]
           ]
          },
          "colorway": [
           "#636efa",
           "#EF553B",
           "#00cc96",
           "#ab63fa",
           "#FFA15A",
           "#19d3f3",
           "#FF6692",
           "#B6E880",
           "#FF97FF",
           "#FECB52"
          ],
          "font": {
           "color": "#2a3f5f"
          },
          "geo": {
           "bgcolor": "white",
           "lakecolor": "white",
           "landcolor": "#E5ECF6",
           "showlakes": true,
           "showland": true,
           "subunitcolor": "white"
          },
          "hoverlabel": {
           "align": "left"
          },
          "hovermode": "closest",
          "mapbox": {
           "style": "light"
          },
          "paper_bgcolor": "white",
          "plot_bgcolor": "#E5ECF6",
          "polar": {
           "angularaxis": {
            "gridcolor": "white",
            "linecolor": "white",
            "ticks": ""
           },
           "bgcolor": "#E5ECF6",
           "radialaxis": {
            "gridcolor": "white",
            "linecolor": "white",
            "ticks": ""
           }
          },
          "scene": {
           "xaxis": {
            "backgroundcolor": "#E5ECF6",
            "gridcolor": "white",
            "gridwidth": 2,
            "linecolor": "white",
            "showbackground": true,
            "ticks": "",
            "zerolinecolor": "white"
           },
           "yaxis": {
            "backgroundcolor": "#E5ECF6",
            "gridcolor": "white",
            "gridwidth": 2,
            "linecolor": "white",
            "showbackground": true,
            "ticks": "",
            "zerolinecolor": "white"
           },
           "zaxis": {
            "backgroundcolor": "#E5ECF6",
            "gridcolor": "white",
            "gridwidth": 2,
            "linecolor": "white",
            "showbackground": true,
            "ticks": "",
            "zerolinecolor": "white"
           }
          },
          "shapedefaults": {
           "line": {
            "color": "#2a3f5f"
           }
          },
          "ternary": {
           "aaxis": {
            "gridcolor": "white",
            "linecolor": "white",
            "ticks": ""
           },
           "baxis": {
            "gridcolor": "white",
            "linecolor": "white",
            "ticks": ""
           },
           "bgcolor": "#E5ECF6",
           "caxis": {
            "gridcolor": "white",
            "linecolor": "white",
            "ticks": ""
           }
          },
          "title": {
           "x": 0.05
          },
          "xaxis": {
           "automargin": true,
           "gridcolor": "white",
           "linecolor": "white",
           "ticks": "",
           "title": {
            "standoff": 15
           },
           "zerolinecolor": "white",
           "zerolinewidth": 2
          },
          "yaxis": {
           "automargin": true,
           "gridcolor": "white",
           "linecolor": "white",
           "ticks": "",
           "title": {
            "standoff": 15
           },
           "zerolinecolor": "white",
           "zerolinewidth": 2
          }
         }
        },
        "title": {
         "text": "預測值 vs 實際值"
        },
        "xaxis": {
         "title": {
          "text": "日期"
         }
        },
        "yaxis": {
         "title": {
          "text": "工業用電（百萬度）"
         }
        }
       }
      },
      "text/html": [
       "<div>\n",
       "        \n",
       "        \n",
       "            <div id=\"e0bcb62d-d15a-4be7-86ab-aec1a50a0edc\" class=\"plotly-graph-div\" style=\"height:525px; width:100%;\"></div>\n",
       "            <script type=\"text/javascript\">\n",
       "                require([\"plotly\"], function(Plotly) {\n",
       "                    window.PLOTLYENV=window.PLOTLYENV || {};\n",
       "                    \n",
       "                if (document.getElementById(\"e0bcb62d-d15a-4be7-86ab-aec1a50a0edc\")) {\n",
       "                    Plotly.newPlot(\n",
       "                        'e0bcb62d-d15a-4be7-86ab-aec1a50a0edc',\n",
       "                        [{\"name\": \"truth\", \"type\": \"scatter\", \"x\": [\"2019-01-02T00:00:00\", \"2019-01-03T00:00:00\", \"2019-01-04T00:00:00\", \"2019-01-05T00:00:00\", \"2019-01-06T00:00:00\", \"2019-01-07T00:00:00\", \"2019-01-08T00:00:00\", \"2019-01-09T00:00:00\", \"2019-01-10T00:00:00\", \"2019-01-11T00:00:00\", \"2019-01-12T00:00:00\", \"2019-01-13T00:00:00\", \"2019-01-14T00:00:00\", \"2019-01-15T00:00:00\", \"2019-01-16T00:00:00\", \"2019-01-17T00:00:00\", \"2019-01-18T00:00:00\", \"2019-01-19T00:00:00\", \"2019-01-20T00:00:00\", \"2019-01-21T00:00:00\", \"2019-01-22T00:00:00\", \"2019-01-23T00:00:00\", \"2019-01-24T00:00:00\", \"2019-01-25T00:00:00\", \"2019-01-26T00:00:00\", \"2019-01-27T00:00:00\", \"2019-01-28T00:00:00\", \"2019-01-29T00:00:00\", \"2019-01-30T00:00:00\", \"2019-01-31T00:00:00\", \"2019-02-01T00:00:00\", \"2019-02-02T00:00:00\", \"2019-02-03T00:00:00\", \"2019-02-04T00:00:00\", \"2019-02-05T00:00:00\", \"2019-02-06T00:00:00\", \"2019-02-07T00:00:00\", \"2019-02-08T00:00:00\", \"2019-02-09T00:00:00\", \"2019-02-10T00:00:00\", \"2019-02-11T00:00:00\", \"2019-02-12T00:00:00\", \"2019-02-13T00:00:00\", \"2019-02-14T00:00:00\", \"2019-02-15T00:00:00\", \"2019-02-16T00:00:00\", \"2019-02-17T00:00:00\", \"2019-02-18T00:00:00\", \"2019-02-19T00:00:00\", \"2019-02-20T00:00:00\", \"2019-02-21T00:00:00\", \"2019-02-22T00:00:00\", \"2019-02-23T00:00:00\", \"2019-02-24T00:00:00\", \"2019-02-25T00:00:00\", \"2019-02-26T00:00:00\", \"2019-02-27T00:00:00\", \"2019-02-28T00:00:00\", \"2019-03-01T00:00:00\", \"2019-03-02T00:00:00\", \"2019-03-03T00:00:00\", \"2019-03-04T00:00:00\", \"2019-03-05T00:00:00\", \"2019-03-06T00:00:00\", \"2019-03-07T00:00:00\", \"2019-03-08T00:00:00\", \"2019-03-09T00:00:00\", \"2019-03-10T00:00:00\", \"2019-03-11T00:00:00\", \"2019-03-12T00:00:00\", \"2019-03-13T00:00:00\", \"2019-03-14T00:00:00\", \"2019-03-15T00:00:00\", \"2019-03-16T00:00:00\", \"2019-03-17T00:00:00\", \"2019-03-18T00:00:00\", \"2019-03-19T00:00:00\", \"2019-03-20T00:00:00\", \"2019-03-21T00:00:00\", \"2019-03-22T00:00:00\", \"2019-03-23T00:00:00\", \"2019-03-24T00:00:00\", \"2019-03-25T00:00:00\", \"2019-03-26T00:00:00\", \"2019-03-27T00:00:00\", \"2019-03-28T00:00:00\", \"2019-03-29T00:00:00\", \"2019-03-30T00:00:00\", \"2019-03-31T00:00:00\", \"2019-04-01T00:00:00\", \"2019-04-02T00:00:00\", \"2019-04-03T00:00:00\", \"2019-04-04T00:00:00\", \"2019-04-05T00:00:00\", \"2019-04-06T00:00:00\", \"2019-04-07T00:00:00\", \"2019-04-08T00:00:00\", \"2019-04-09T00:00:00\", \"2019-04-10T00:00:00\", \"2019-04-11T00:00:00\", \"2019-04-12T00:00:00\", \"2019-04-13T00:00:00\", \"2019-04-14T00:00:00\", \"2019-04-15T00:00:00\", \"2019-04-16T00:00:00\", \"2019-04-17T00:00:00\", \"2019-04-18T00:00:00\", \"2019-04-19T00:00:00\", \"2019-04-20T00:00:00\", \"2019-04-21T00:00:00\", \"2019-04-22T00:00:00\", \"2019-04-23T00:00:00\", \"2019-04-24T00:00:00\", \"2019-04-25T00:00:00\", \"2019-04-26T00:00:00\", \"2019-04-27T00:00:00\", \"2019-04-28T00:00:00\", \"2019-04-29T00:00:00\", \"2019-04-30T00:00:00\", \"2019-05-01T00:00:00\", \"2019-05-02T00:00:00\", \"2019-05-03T00:00:00\", \"2019-05-04T00:00:00\", \"2019-05-05T00:00:00\", \"2019-05-06T00:00:00\", \"2019-05-07T00:00:00\", \"2019-05-08T00:00:00\", \"2019-05-09T00:00:00\", \"2019-05-10T00:00:00\", \"2019-05-11T00:00:00\", \"2019-05-12T00:00:00\", \"2019-05-13T00:00:00\", \"2019-05-14T00:00:00\", \"2019-05-15T00:00:00\", \"2019-05-16T00:00:00\", \"2019-05-17T00:00:00\", \"2019-05-18T00:00:00\", \"2019-05-19T00:00:00\", \"2019-05-20T00:00:00\", \"2019-05-21T00:00:00\", \"2019-05-22T00:00:00\", \"2019-05-23T00:00:00\", \"2019-05-24T00:00:00\", \"2019-05-25T00:00:00\", \"2019-05-26T00:00:00\", \"2019-05-27T00:00:00\", \"2019-05-28T00:00:00\", \"2019-05-29T00:00:00\", \"2019-05-30T00:00:00\", \"2019-05-31T00:00:00\", \"2019-06-01T00:00:00\", \"2019-06-02T00:00:00\", \"2019-06-03T00:00:00\", \"2019-06-04T00:00:00\", \"2019-06-05T00:00:00\", \"2019-06-06T00:00:00\", \"2019-06-07T00:00:00\", \"2019-06-08T00:00:00\", \"2019-06-09T00:00:00\", \"2019-06-10T00:00:00\", \"2019-06-11T00:00:00\", \"2019-06-12T00:00:00\", \"2019-06-13T00:00:00\", \"2019-06-14T00:00:00\", \"2019-06-15T00:00:00\", \"2019-06-16T00:00:00\", \"2019-06-17T00:00:00\", \"2019-06-18T00:00:00\", \"2019-06-19T00:00:00\", \"2019-06-20T00:00:00\", \"2019-06-21T00:00:00\", \"2019-06-22T00:00:00\", \"2019-06-23T00:00:00\", \"2019-06-24T00:00:00\", \"2019-06-25T00:00:00\", \"2019-06-26T00:00:00\", \"2019-06-27T00:00:00\", \"2019-06-28T00:00:00\", \"2019-06-29T00:00:00\", \"2019-06-30T00:00:00\", \"2019-07-01T00:00:00\", \"2019-07-02T00:00:00\", \"2019-07-03T00:00:00\", \"2019-07-04T00:00:00\", \"2019-07-05T00:00:00\", \"2019-07-06T00:00:00\", \"2019-07-07T00:00:00\", \"2019-07-08T00:00:00\", \"2019-07-09T00:00:00\", \"2019-07-10T00:00:00\", \"2019-07-11T00:00:00\", \"2019-07-12T00:00:00\", \"2019-07-13T00:00:00\", \"2019-07-14T00:00:00\", \"2019-07-15T00:00:00\", \"2019-07-16T00:00:00\", \"2019-07-17T00:00:00\", \"2019-07-18T00:00:00\", \"2019-07-19T00:00:00\", \"2019-07-20T00:00:00\", \"2019-07-21T00:00:00\", \"2019-07-22T00:00:00\", \"2019-07-23T00:00:00\", \"2019-07-24T00:00:00\", \"2019-07-25T00:00:00\", \"2019-07-26T00:00:00\", \"2019-07-27T00:00:00\", \"2019-07-28T00:00:00\", \"2019-07-29T00:00:00\", \"2019-07-30T00:00:00\", \"2019-07-31T00:00:00\", \"2019-08-01T00:00:00\", \"2019-08-02T00:00:00\", \"2019-08-03T00:00:00\", \"2019-08-04T00:00:00\", \"2019-08-05T00:00:00\", \"2019-08-06T00:00:00\", \"2019-08-07T00:00:00\", \"2019-08-08T00:00:00\", \"2019-08-09T00:00:00\", \"2019-08-10T00:00:00\", \"2019-08-11T00:00:00\", \"2019-08-12T00:00:00\", \"2019-08-13T00:00:00\", \"2019-08-14T00:00:00\", \"2019-08-15T00:00:00\", \"2019-08-16T00:00:00\", \"2019-08-17T00:00:00\", \"2019-08-18T00:00:00\", \"2019-08-19T00:00:00\", \"2019-08-20T00:00:00\", \"2019-08-21T00:00:00\", \"2019-08-22T00:00:00\", \"2019-08-23T00:00:00\", \"2019-08-24T00:00:00\", \"2019-08-25T00:00:00\", \"2019-08-26T00:00:00\", \"2019-08-27T00:00:00\", \"2019-08-28T00:00:00\", \"2019-08-29T00:00:00\", \"2019-08-30T00:00:00\", \"2019-08-31T00:00:00\", \"2019-09-01T00:00:00\", \"2019-09-02T00:00:00\", \"2019-09-03T00:00:00\", \"2019-09-04T00:00:00\", \"2019-09-05T00:00:00\", \"2019-09-06T00:00:00\", \"2019-09-07T00:00:00\", \"2019-09-08T00:00:00\", \"2019-09-09T00:00:00\", \"2019-09-10T00:00:00\", \"2019-09-11T00:00:00\", \"2019-09-12T00:00:00\", \"2019-09-13T00:00:00\", \"2019-09-14T00:00:00\", \"2019-09-15T00:00:00\", \"2019-09-16T00:00:00\", \"2019-09-17T00:00:00\", \"2019-09-18T00:00:00\", \"2019-09-19T00:00:00\", \"2019-09-20T00:00:00\", \"2019-09-21T00:00:00\", \"2019-09-22T00:00:00\", \"2019-09-23T00:00:00\", \"2019-09-24T00:00:00\"], \"y\": [323.08, 336.597, 339.02, 315.82500000000005, 295.08, 330.9190000000001, 340.713, 339.42, 345.741, 345.31199999999984, 316.377, 295.069, 330.529, 341.97900000000016, 338.77099999999996, 337.23699999999997, 333.5780000000001, 323.444, 293.809, 324.539, 334.246, 333.76099999999997, 334.577, 332.04699999999997, 307.745, 291.033, 322.91100000000006, 331.84400000000005, 331.523, 326.577, 301.346, 278.967, 267.92900000000003, 246.263, 235.887, 237.257, 243.67, 253.76800000000003, 262.905, 268.156, 308.329, 327.839, 333.0450000000001, 335.846, 337.226, 311.235, 289.13, 330.202, 342.86800000000005, 346.477, 346.27099999999996, 340.97, 324.355, 294.814, 326.31100000000004, 336.45, 336.67699999999996, 310.83799999999997, 299.202, 296.127, 288.39, 322.631, 336.545, 337.025, 336.3830000000001, 335.8590000000001, 314.3520000000001, 295.376, 326.54, 334.596, 337.4390000000001, 338.9190000000001, 335.598, 309.487, 291.782, 331.87300000000016, 345.332, 351.89700000000005, 358.451, 352.322, 312.81600000000003, 294.599, 333.343, 342.917, 348.038, 356.775, 354.27, 317.793, 296.502, 322.2370000000001, 332.233, 334.523, 308.423, 289.731, 291.974, 292.531, 343.332, 361.96900000000005, 363.597, 353.842, 341.524, 318.247, 302.953, 331.727, 339.36800000000005, 343.38, 350.57400000000007, 351.81699999999995, 322.525, 308.722, 358.61, 375.74199999999996, 380.01500000000004, 380.78100000000006, 376.86800000000005, 336.58000000000004, 317.80600000000004, 367.385, 378.092, 324.099, 332.184, 329.559, 305.945, 293.362, 327.298, 330.93300000000005, 335.394, 339.61400000000015, 341.47800000000007, 317.072, 306.971, 358.075, 374.20500000000004, 377.077, 383.442, 377.1380000000001, 353.717, 337.522, 361.999, 348.55000000000007, 349.0880000000001, 350.17800000000005, 358.17400000000015, 333.17199999999997, 320.712, 367.4280000000001, 369.60400000000004, 352.744, 364.057, 374.88599999999997, 321.9190000000001, 309.668, 348.832, 350.46, 358.025, 367.0880000000001, 334.6040000000001, 323.66700000000014, 317.096, 350.14099999999996, 346.88300000000015, 338.1790000000001, 340.793, 335.714, 307.399, 299.822, 348.69500000000005, 368.60800000000006, 377.36400000000003, 384.09000000000003, 382.262, 349.223, 317.44500000000005, 339.90700000000004, 351.381, 350.16200000000003, 356.885, 366.75, 342.722, 327.88199999999995, 355.35, 359.015, 348.871, 352.36800000000005, 350.28, 322.884, 312.81, 354.286, 360.449, 363.08400000000006, 359.087, 360.12699999999984, 334.682, 321.452, 364.89300000000003, 376.81600000000003, 381.033, 373.16100000000006, 364.325, 329.5630000000001, 311.096, 345.826, 354.659, 360.731, 367.923, 369.37, 333.98, 312.76599999999996, 357.65700000000004, 372.5180000000001, 374.62300000000016, 375.4100000000001, 365.826, 335.586, 328.514, 371.635, 374.84800000000007, 374.025, 371.5130000000001, 336.51099999999997, 338.342, 328.236, 357.815, 357.298, 369.086, 364.341, 357.62, 330.097, 307.806, 337.2030000000001, 343.99699999999996, 347.032, 357.80500000000006, 362.903, 321.683, 305.622, 352.365, 363.80500000000006, 371.72299999999996, 374.81300000000016, 359.782, 329.676, 332.912, 374.99699999999996, 382.283, 369.469, 363.10699999999997, 365.96000000000004, 339.934, 323.579, 364.62699999999995, 375.452, 379.44000000000005, 379.5490000000001, 336.40600000000006, 324.443, 315.099, 353.608, 358.369, 353.586, 345.22, 335.219, 299.07500000000005, 285.911, 322.52, 331.08099999999996]}, {\"name\": \"predict\", \"type\": \"scatter\", \"x\": [\"2019-01-02T00:00:00\", \"2019-01-03T00:00:00\", \"2019-01-04T00:00:00\", \"2019-01-05T00:00:00\", \"2019-01-06T00:00:00\", \"2019-01-07T00:00:00\", \"2019-01-08T00:00:00\", \"2019-01-09T00:00:00\", \"2019-01-10T00:00:00\", \"2019-01-11T00:00:00\", \"2019-01-12T00:00:00\", \"2019-01-13T00:00:00\", \"2019-01-14T00:00:00\", \"2019-01-15T00:00:00\", \"2019-01-16T00:00:00\", \"2019-01-17T00:00:00\", \"2019-01-18T00:00:00\", \"2019-01-19T00:00:00\", \"2019-01-20T00:00:00\", \"2019-01-21T00:00:00\", \"2019-01-22T00:00:00\", \"2019-01-23T00:00:00\", \"2019-01-24T00:00:00\", \"2019-01-25T00:00:00\", \"2019-01-26T00:00:00\", \"2019-01-27T00:00:00\", \"2019-01-28T00:00:00\", \"2019-01-29T00:00:00\", \"2019-01-30T00:00:00\", \"2019-01-31T00:00:00\", \"2019-02-01T00:00:00\", \"2019-02-02T00:00:00\", \"2019-02-03T00:00:00\", \"2019-02-04T00:00:00\", \"2019-02-05T00:00:00\", \"2019-02-06T00:00:00\", \"2019-02-07T00:00:00\", \"2019-02-08T00:00:00\", \"2019-02-09T00:00:00\", \"2019-02-10T00:00:00\", \"2019-02-11T00:00:00\", \"2019-02-12T00:00:00\", \"2019-02-13T00:00:00\", \"2019-02-14T00:00:00\", \"2019-02-15T00:00:00\", \"2019-02-16T00:00:00\", \"2019-02-17T00:00:00\", \"2019-02-18T00:00:00\", \"2019-02-19T00:00:00\", \"2019-02-20T00:00:00\", \"2019-02-21T00:00:00\", \"2019-02-22T00:00:00\", \"2019-02-23T00:00:00\", \"2019-02-24T00:00:00\", \"2019-02-25T00:00:00\", \"2019-02-26T00:00:00\", \"2019-02-27T00:00:00\", \"2019-02-28T00:00:00\", \"2019-03-01T00:00:00\", \"2019-03-02T00:00:00\", \"2019-03-03T00:00:00\", \"2019-03-04T00:00:00\", \"2019-03-05T00:00:00\", \"2019-03-06T00:00:00\", \"2019-03-07T00:00:00\", \"2019-03-08T00:00:00\", \"2019-03-09T00:00:00\", \"2019-03-10T00:00:00\", \"2019-03-11T00:00:00\", \"2019-03-12T00:00:00\", \"2019-03-13T00:00:00\", \"2019-03-14T00:00:00\", \"2019-03-15T00:00:00\", \"2019-03-16T00:00:00\", \"2019-03-17T00:00:00\", \"2019-03-18T00:00:00\", \"2019-03-19T00:00:00\", \"2019-03-20T00:00:00\", \"2019-03-21T00:00:00\", \"2019-03-22T00:00:00\", \"2019-03-23T00:00:00\", \"2019-03-24T00:00:00\", \"2019-03-25T00:00:00\", \"2019-03-26T00:00:00\", \"2019-03-27T00:00:00\", \"2019-03-28T00:00:00\", \"2019-03-29T00:00:00\", \"2019-03-30T00:00:00\", \"2019-03-31T00:00:00\", \"2019-04-01T00:00:00\", \"2019-04-02T00:00:00\", \"2019-04-03T00:00:00\", \"2019-04-04T00:00:00\", \"2019-04-05T00:00:00\", \"2019-04-06T00:00:00\", \"2019-04-07T00:00:00\", \"2019-04-08T00:00:00\", \"2019-04-09T00:00:00\", \"2019-04-10T00:00:00\", \"2019-04-11T00:00:00\", \"2019-04-12T00:00:00\", \"2019-04-13T00:00:00\", \"2019-04-14T00:00:00\", \"2019-04-15T00:00:00\", \"2019-04-16T00:00:00\", \"2019-04-17T00:00:00\", \"2019-04-18T00:00:00\", \"2019-04-19T00:00:00\", \"2019-04-20T00:00:00\", \"2019-04-21T00:00:00\", \"2019-04-22T00:00:00\", \"2019-04-23T00:00:00\", \"2019-04-24T00:00:00\", \"2019-04-25T00:00:00\", \"2019-04-26T00:00:00\", \"2019-04-27T00:00:00\", \"2019-04-28T00:00:00\", \"2019-04-29T00:00:00\", \"2019-04-30T00:00:00\", \"2019-05-01T00:00:00\", \"2019-05-02T00:00:00\", \"2019-05-03T00:00:00\", \"2019-05-04T00:00:00\", \"2019-05-05T00:00:00\", \"2019-05-06T00:00:00\", \"2019-05-07T00:00:00\", \"2019-05-08T00:00:00\", \"2019-05-09T00:00:00\", \"2019-05-10T00:00:00\", \"2019-05-11T00:00:00\", \"2019-05-12T00:00:00\", \"2019-05-13T00:00:00\", \"2019-05-14T00:00:00\", \"2019-05-15T00:00:00\", \"2019-05-16T00:00:00\", \"2019-05-17T00:00:00\", \"2019-05-18T00:00:00\", \"2019-05-19T00:00:00\", \"2019-05-20T00:00:00\", \"2019-05-21T00:00:00\", \"2019-05-22T00:00:00\", \"2019-05-23T00:00:00\", \"2019-05-24T00:00:00\", \"2019-05-25T00:00:00\", \"2019-05-26T00:00:00\", \"2019-05-27T00:00:00\", \"2019-05-28T00:00:00\", \"2019-05-29T00:00:00\", \"2019-05-30T00:00:00\", \"2019-05-31T00:00:00\", \"2019-06-01T00:00:00\", \"2019-06-02T00:00:00\", \"2019-06-03T00:00:00\", \"2019-06-04T00:00:00\", \"2019-06-05T00:00:00\", \"2019-06-06T00:00:00\", \"2019-06-07T00:00:00\", \"2019-06-08T00:00:00\", \"2019-06-09T00:00:00\", \"2019-06-10T00:00:00\", \"2019-06-11T00:00:00\", \"2019-06-12T00:00:00\", \"2019-06-13T00:00:00\", \"2019-06-14T00:00:00\", \"2019-06-15T00:00:00\", \"2019-06-16T00:00:00\", \"2019-06-17T00:00:00\", \"2019-06-18T00:00:00\", \"2019-06-19T00:00:00\", \"2019-06-20T00:00:00\", \"2019-06-21T00:00:00\", \"2019-06-22T00:00:00\", \"2019-06-23T00:00:00\", \"2019-06-24T00:00:00\", \"2019-06-25T00:00:00\", \"2019-06-26T00:00:00\", \"2019-06-27T00:00:00\", \"2019-06-28T00:00:00\", \"2019-06-29T00:00:00\", \"2019-06-30T00:00:00\", \"2019-07-01T00:00:00\", \"2019-07-02T00:00:00\", \"2019-07-03T00:00:00\", \"2019-07-04T00:00:00\", \"2019-07-05T00:00:00\", \"2019-07-06T00:00:00\", \"2019-07-07T00:00:00\", \"2019-07-08T00:00:00\", \"2019-07-09T00:00:00\", \"2019-07-10T00:00:00\", \"2019-07-11T00:00:00\", \"2019-07-12T00:00:00\", \"2019-07-13T00:00:00\", \"2019-07-14T00:00:00\", \"2019-07-15T00:00:00\", \"2019-07-16T00:00:00\", \"2019-07-17T00:00:00\", \"2019-07-18T00:00:00\", \"2019-07-19T00:00:00\", \"2019-07-20T00:00:00\", \"2019-07-21T00:00:00\", \"2019-07-22T00:00:00\", \"2019-07-23T00:00:00\", \"2019-07-24T00:00:00\", \"2019-07-25T00:00:00\", \"2019-07-26T00:00:00\", \"2019-07-27T00:00:00\", \"2019-07-28T00:00:00\", \"2019-07-29T00:00:00\", \"2019-07-30T00:00:00\", \"2019-07-31T00:00:00\", \"2019-08-01T00:00:00\", \"2019-08-02T00:00:00\", \"2019-08-03T00:00:00\", \"2019-08-04T00:00:00\", \"2019-08-05T00:00:00\", \"2019-08-06T00:00:00\", \"2019-08-07T00:00:00\", \"2019-08-08T00:00:00\", \"2019-08-09T00:00:00\", \"2019-08-10T00:00:00\", \"2019-08-11T00:00:00\", \"2019-08-12T00:00:00\", \"2019-08-13T00:00:00\", \"2019-08-14T00:00:00\", \"2019-08-15T00:00:00\", \"2019-08-16T00:00:00\", \"2019-08-17T00:00:00\", \"2019-08-18T00:00:00\", \"2019-08-19T00:00:00\", \"2019-08-20T00:00:00\", \"2019-08-21T00:00:00\", \"2019-08-22T00:00:00\", \"2019-08-23T00:00:00\", \"2019-08-24T00:00:00\", \"2019-08-25T00:00:00\", \"2019-08-26T00:00:00\", \"2019-08-27T00:00:00\", \"2019-08-28T00:00:00\", \"2019-08-29T00:00:00\", \"2019-08-30T00:00:00\", \"2019-08-31T00:00:00\", \"2019-09-01T00:00:00\", \"2019-09-02T00:00:00\", \"2019-09-03T00:00:00\", \"2019-09-04T00:00:00\", \"2019-09-05T00:00:00\", \"2019-09-06T00:00:00\", \"2019-09-07T00:00:00\", \"2019-09-08T00:00:00\", \"2019-09-09T00:00:00\", \"2019-09-10T00:00:00\", \"2019-09-11T00:00:00\", \"2019-09-12T00:00:00\", \"2019-09-13T00:00:00\", \"2019-09-14T00:00:00\", \"2019-09-15T00:00:00\", \"2019-09-16T00:00:00\", \"2019-09-17T00:00:00\", \"2019-09-18T00:00:00\", \"2019-09-19T00:00:00\", \"2019-09-20T00:00:00\", \"2019-09-21T00:00:00\", \"2019-09-22T00:00:00\", \"2019-09-23T00:00:00\", \"2019-09-24T00:00:00\"], \"y\": [316.54434775134916, 324.0216092195511, 328.43956855678556, 309.76191594499346, 286.3235575656593, 320.37755147820707, 335.7929266247153, 341.1947925899326, 346.67655556070804, 346.0168577978313, 317.9064158430695, 298.5013653645218, 331.6929715263248, 341.6148457878828, 339.3892894814015, 336.55678137123584, 334.57162612956756, 328.5702284743189, 300.61175119924536, 327.52467263555525, 330.47907123693824, 332.0848163476586, 333.9551771555245, 333.3144095857143, 306.48301207211614, 287.65980235679444, 320.17491015407444, 330.1440357967019, 334.43744583317635, 331.7466089166701, 316.74929507294297, 283.22724113395805, 263.3032253737971, 261.1155490848422, 259.8681518320963, 240.0705290646702, 247.74003164255623, 252.6210753622576, 260.5573470075801, 268.2846922414452, 301.2905091094822, 322.63182823652033, 335.90966650193934, 343.54869286254046, 345.22535651963943, 317.71584754928944, 290.8006217745096, 320.92320135322217, 332.76287029272316, 343.76236979466677, 343.8991480709314, 339.92370356351137, 325.46319496089217, 294.0528667683452, 322.7741198928058, 330.27196722707146, 324.8790443292261, 300.30220394341643, 286.50694132250544, 285.624590380311, 280.7942490194142, 317.1556184615493, 333.0213222853839, 337.2834205261171, 337.747024449259, 337.83762415862077, 313.3445180245042, 290.50052247230707, 321.7486367388964, 331.26982154521346, 337.26564830875395, 337.95953898170586, 336.32400281697505, 307.87343453165886, 289.0871290706694, 329.6121643947661, 340.5974308601021, 349.9212244957388, 352.18954627168176, 348.24186884927747, 310.17868765878677, 286.17279012446113, 321.5213804126083, 332.9764012336433, 345.912585790813, 349.7945373086035, 349.5173763216734, 317.4078426020741, 290.2142812747508, 322.50937590035795, 333.44575411352514, 320.87793633735174, 298.8654182159751, 288.5708637968749, 286.3185380119532, 283.53943005642293, 329.88138876885176, 346.8165987312198, 362.88161594328284, 362.26599867671723, 357.8715151678324, 324.9790317155421, 298.95180795922874, 329.9190301681757, 337.00292386132475, 337.27293680912254, 342.9376820609271, 347.1307662769257, 323.22065169277784, 306.21283046023547, 354.26495394060015, 364.68943500322104, 378.0140269524157, 375.0369068105817, 369.4833382862508, 339.18775968122486, 324.03626585185526, 367.93414596602315, 369.24236874052883, 346.0555233475864, 354.7707106125355, 356.43088721728316, 328.36788466256854, 311.05836651951074, 350.0651685070395, 348.3237035562992, 328.11553222674127, 329.45127323761585, 331.71392679438, 310.9538578297794, 297.94219471302625, 344.3615365066827, 352.41354986965655, 374.0174800797402, 375.1763062925935, 368.8137341352402, 336.08100709027053, 313.54123675084116, 344.9010160412489, 345.16816446462275, 343.93545342952, 342.03816941004993, 342.08604678371546, 318.78625839090347, 303.3893743578493, 350.2342517616451, 355.64525876715777, 358.410097741276, 358.87318516522646, 361.138913385272, 336.4384245308041, 320.3424184732437, 361.30901194235685, 366.68249035993216, 365.69959461045266, 363.5618995722234, 339.9622806337476, 320.08864262315626, 313.15788153934477, 349.21689766353364, 351.00044236746425, 346.8553516544997, 345.17887380439043, 342.8752840922176, 314.89331550487873, 297.6286896577179, 340.8204313215315, 352.5825402207672, 376.3430304085016, 380.1354572430849, 377.27487568756936, 345.89031438991435, 319.71660062414406, 351.9692455415726, 358.82600456777215, 352.3715320521295, 356.4981570895016, 359.0855570244491, 336.80019737565516, 322.86216918003555, 366.45220582211016, 372.56312784981725, 363.6361195106507, 365.8516123778521, 363.106784152925, 333.81440513497586, 315.7958685332238, 355.921057169497, 364.3239858343601, 366.1131390337944, 369.24014016264675, 367.66226831236474, 342.1335846172273, 326.14920432069897, 365.7168215727806, 372.7668309281766, 377.538998111397, 375.95639150086043, 368.39943100002404, 336.38632226011157, 314.62888119074705, 350.1221139253974, 357.1925985474587, 358.85579893976444, 362.3444335582256, 362.64172916567315, 335.59172309276454, 317.6061749736369, 358.60342770203954, 367.48896679669616, 373.4943626202047, 372.422965231955, 365.9134894233942, 336.1980544338226, 320.4436523147821, 360.23084255293014, 366.0331037789881, 372.2203393917381, 370.3064521905481, 365.30739144706723, 338.62298495820164, 320.59466805163026, 355.90931593734024, 363.20412268364424, 359.99467302110793, 359.8840714105069, 357.34579641044144, 328.2851828562617, 303.3516173821539, 337.0646803535223, 346.7564846400916, 351.09651342907546, 355.3527388417423, 356.6292229068279, 330.9375223340988, 313.89953345659376, 356.14492141222956, 366.1944660895765, 364.91326606613393, 370.1145202061831, 363.56832207930086, 335.3585043528974, 319.69801328921324, 354.2491924203038, 349.2068629800975, 373.4445077292919, 367.9566031739115, 363.7695621090531, 338.0691263958216, 318.7617993339002, 355.71193914458155, 363.86682875016334, 384.3378882142603, 378.0709513568878, 351.3822635653019, 325.7331172171831, 314.38932399934527, 351.7146357720196, 357.43792681548, 359.6574012610316, 354.44224145859476, 347.6575501065254, 313.71215484946964, 289.07893973819915, 329.8152868262827, 341.4414568986893]}],\n",
       "                        {\"template\": {\"data\": {\"bar\": [{\"error_x\": {\"color\": \"#2a3f5f\"}, \"error_y\": {\"color\": \"#2a3f5f\"}, \"marker\": {\"line\": {\"color\": \"#E5ECF6\", \"width\": 0.5}}, \"type\": \"bar\"}], \"barpolar\": [{\"marker\": {\"line\": {\"color\": \"#E5ECF6\", \"width\": 0.5}}, \"type\": \"barpolar\"}], \"carpet\": [{\"aaxis\": {\"endlinecolor\": \"#2a3f5f\", \"gridcolor\": \"white\", \"linecolor\": \"white\", \"minorgridcolor\": \"white\", \"startlinecolor\": \"#2a3f5f\"}, \"baxis\": {\"endlinecolor\": \"#2a3f5f\", \"gridcolor\": \"white\", \"linecolor\": \"white\", \"minorgridcolor\": \"white\", \"startlinecolor\": \"#2a3f5f\"}, \"type\": \"carpet\"}], \"choropleth\": [{\"colorbar\": {\"outlinewidth\": 0, \"ticks\": \"\"}, \"type\": \"choropleth\"}], \"contour\": [{\"colorbar\": {\"outlinewidth\": 0, \"ticks\": \"\"}, \"colorscale\": [[0.0, \"#0d0887\"], [0.1111111111111111, \"#46039f\"], [0.2222222222222222, \"#7201a8\"], [0.3333333333333333, \"#9c179e\"], [0.4444444444444444, \"#bd3786\"], [0.5555555555555556, \"#d8576b\"], [0.6666666666666666, \"#ed7953\"], [0.7777777777777778, \"#fb9f3a\"], [0.8888888888888888, \"#fdca26\"], [1.0, \"#f0f921\"]], \"type\": \"contour\"}], \"contourcarpet\": [{\"colorbar\": {\"outlinewidth\": 0, \"ticks\": \"\"}, \"type\": \"contourcarpet\"}], \"heatmap\": [{\"colorbar\": {\"outlinewidth\": 0, \"ticks\": \"\"}, \"colorscale\": [[0.0, \"#0d0887\"], [0.1111111111111111, \"#46039f\"], [0.2222222222222222, \"#7201a8\"], [0.3333333333333333, \"#9c179e\"], [0.4444444444444444, \"#bd3786\"], [0.5555555555555556, \"#d8576b\"], [0.6666666666666666, \"#ed7953\"], [0.7777777777777778, \"#fb9f3a\"], [0.8888888888888888, \"#fdca26\"], [1.0, \"#f0f921\"]], \"type\": \"heatmap\"}], \"heatmapgl\": [{\"colorbar\": {\"outlinewidth\": 0, \"ticks\": \"\"}, \"colorscale\": [[0.0, \"#0d0887\"], [0.1111111111111111, \"#46039f\"], [0.2222222222222222, \"#7201a8\"], [0.3333333333333333, \"#9c179e\"], [0.4444444444444444, \"#bd3786\"], [0.5555555555555556, \"#d8576b\"], [0.6666666666666666, \"#ed7953\"], [0.7777777777777778, \"#fb9f3a\"], [0.8888888888888888, \"#fdca26\"], [1.0, \"#f0f921\"]], \"type\": \"heatmapgl\"}], \"histogram\": [{\"marker\": {\"colorbar\": {\"outlinewidth\": 0, \"ticks\": \"\"}}, \"type\": \"histogram\"}], \"histogram2d\": [{\"colorbar\": {\"outlinewidth\": 0, \"ticks\": \"\"}, \"colorscale\": [[0.0, \"#0d0887\"], [0.1111111111111111, \"#46039f\"], [0.2222222222222222, \"#7201a8\"], [0.3333333333333333, \"#9c179e\"], [0.4444444444444444, \"#bd3786\"], [0.5555555555555556, \"#d8576b\"], [0.6666666666666666, \"#ed7953\"], [0.7777777777777778, \"#fb9f3a\"], [0.8888888888888888, \"#fdca26\"], [1.0, \"#f0f921\"]], \"type\": \"histogram2d\"}], \"histogram2dcontour\": [{\"colorbar\": {\"outlinewidth\": 0, \"ticks\": \"\"}, \"colorscale\": [[0.0, \"#0d0887\"], [0.1111111111111111, \"#46039f\"], [0.2222222222222222, \"#7201a8\"], [0.3333333333333333, \"#9c179e\"], [0.4444444444444444, \"#bd3786\"], [0.5555555555555556, \"#d8576b\"], [0.6666666666666666, \"#ed7953\"], [0.7777777777777778, \"#fb9f3a\"], [0.8888888888888888, \"#fdca26\"], [1.0, \"#f0f921\"]], \"type\": \"histogram2dcontour\"}], \"mesh3d\": [{\"colorbar\": {\"outlinewidth\": 0, \"ticks\": \"\"}, \"type\": \"mesh3d\"}], \"parcoords\": [{\"line\": {\"colorbar\": {\"outlinewidth\": 0, \"ticks\": \"\"}}, \"type\": \"parcoords\"}], \"pie\": [{\"automargin\": true, \"type\": \"pie\"}], \"scatter\": [{\"marker\": {\"colorbar\": {\"outlinewidth\": 0, \"ticks\": \"\"}}, \"type\": \"scatter\"}], \"scatter3d\": [{\"line\": {\"colorbar\": {\"outlinewidth\": 0, \"ticks\": \"\"}}, \"marker\": {\"colorbar\": {\"outlinewidth\": 0, \"ticks\": \"\"}}, \"type\": \"scatter3d\"}], \"scattercarpet\": [{\"marker\": {\"colorbar\": {\"outlinewidth\": 0, \"ticks\": \"\"}}, \"type\": \"scattercarpet\"}], \"scattergeo\": [{\"marker\": {\"colorbar\": {\"outlinewidth\": 0, \"ticks\": \"\"}}, \"type\": \"scattergeo\"}], \"scattergl\": [{\"marker\": {\"colorbar\": {\"outlinewidth\": 0, \"ticks\": \"\"}}, \"type\": \"scattergl\"}], \"scattermapbox\": [{\"marker\": {\"colorbar\": {\"outlinewidth\": 0, \"ticks\": \"\"}}, \"type\": \"scattermapbox\"}], \"scatterpolar\": [{\"marker\": {\"colorbar\": {\"outlinewidth\": 0, \"ticks\": \"\"}}, \"type\": \"scatterpolar\"}], \"scatterpolargl\": [{\"marker\": {\"colorbar\": {\"outlinewidth\": 0, \"ticks\": \"\"}}, \"type\": \"scatterpolargl\"}], \"scatterternary\": [{\"marker\": {\"colorbar\": {\"outlinewidth\": 0, \"ticks\": \"\"}}, \"type\": \"scatterternary\"}], \"surface\": [{\"colorbar\": {\"outlinewidth\": 0, \"ticks\": \"\"}, \"colorscale\": [[0.0, \"#0d0887\"], [0.1111111111111111, \"#46039f\"], [0.2222222222222222, \"#7201a8\"], [0.3333333333333333, \"#9c179e\"], [0.4444444444444444, \"#bd3786\"], [0.5555555555555556, \"#d8576b\"], [0.6666666666666666, \"#ed7953\"], [0.7777777777777778, \"#fb9f3a\"], [0.8888888888888888, \"#fdca26\"], [1.0, \"#f0f921\"]], \"type\": \"surface\"}], \"table\": [{\"cells\": {\"fill\": {\"color\": \"#EBF0F8\"}, \"line\": {\"color\": \"white\"}}, \"header\": {\"fill\": {\"color\": \"#C8D4E3\"}, \"line\": {\"color\": \"white\"}}, \"type\": \"table\"}]}, \"layout\": {\"annotationdefaults\": {\"arrowcolor\": \"#2a3f5f\", \"arrowhead\": 0, \"arrowwidth\": 1}, \"coloraxis\": {\"colorbar\": {\"outlinewidth\": 0, \"ticks\": \"\"}}, \"colorscale\": {\"diverging\": [[0, \"#8e0152\"], [0.1, \"#c51b7d\"], [0.2, \"#de77ae\"], [0.3, \"#f1b6da\"], [0.4, \"#fde0ef\"], [0.5, \"#f7f7f7\"], [0.6, \"#e6f5d0\"], [0.7, \"#b8e186\"], [0.8, \"#7fbc41\"], [0.9, \"#4d9221\"], [1, \"#276419\"]], \"sequential\": [[0.0, \"#0d0887\"], [0.1111111111111111, \"#46039f\"], [0.2222222222222222, \"#7201a8\"], [0.3333333333333333, \"#9c179e\"], [0.4444444444444444, \"#bd3786\"], [0.5555555555555556, \"#d8576b\"], [0.6666666666666666, \"#ed7953\"], [0.7777777777777778, \"#fb9f3a\"], [0.8888888888888888, \"#fdca26\"], [1.0, \"#f0f921\"]], \"sequentialminus\": [[0.0, \"#0d0887\"], [0.1111111111111111, \"#46039f\"], [0.2222222222222222, \"#7201a8\"], [0.3333333333333333, \"#9c179e\"], [0.4444444444444444, \"#bd3786\"], [0.5555555555555556, \"#d8576b\"], [0.6666666666666666, \"#ed7953\"], [0.7777777777777778, \"#fb9f3a\"], [0.8888888888888888, \"#fdca26\"], [1.0, \"#f0f921\"]]}, \"colorway\": [\"#636efa\", \"#EF553B\", \"#00cc96\", \"#ab63fa\", \"#FFA15A\", \"#19d3f3\", \"#FF6692\", \"#B6E880\", \"#FF97FF\", \"#FECB52\"], \"font\": {\"color\": \"#2a3f5f\"}, \"geo\": {\"bgcolor\": \"white\", \"lakecolor\": \"white\", \"landcolor\": \"#E5ECF6\", \"showlakes\": true, \"showland\": true, \"subunitcolor\": \"white\"}, \"hoverlabel\": {\"align\": \"left\"}, \"hovermode\": \"closest\", \"mapbox\": {\"style\": \"light\"}, \"paper_bgcolor\": \"white\", \"plot_bgcolor\": \"#E5ECF6\", \"polar\": {\"angularaxis\": {\"gridcolor\": \"white\", \"linecolor\": \"white\", \"ticks\": \"\"}, \"bgcolor\": \"#E5ECF6\", \"radialaxis\": {\"gridcolor\": \"white\", \"linecolor\": \"white\", \"ticks\": \"\"}}, \"scene\": {\"xaxis\": {\"backgroundcolor\": \"#E5ECF6\", \"gridcolor\": \"white\", \"gridwidth\": 2, \"linecolor\": \"white\", \"showbackground\": true, \"ticks\": \"\", \"zerolinecolor\": \"white\"}, \"yaxis\": {\"backgroundcolor\": \"#E5ECF6\", \"gridcolor\": \"white\", \"gridwidth\": 2, \"linecolor\": \"white\", \"showbackground\": true, \"ticks\": \"\", \"zerolinecolor\": \"white\"}, \"zaxis\": {\"backgroundcolor\": \"#E5ECF6\", \"gridcolor\": \"white\", \"gridwidth\": 2, \"linecolor\": \"white\", \"showbackground\": true, \"ticks\": \"\", \"zerolinecolor\": \"white\"}}, \"shapedefaults\": {\"line\": {\"color\": \"#2a3f5f\"}}, \"ternary\": {\"aaxis\": {\"gridcolor\": \"white\", \"linecolor\": \"white\", \"ticks\": \"\"}, \"baxis\": {\"gridcolor\": \"white\", \"linecolor\": \"white\", \"ticks\": \"\"}, \"bgcolor\": \"#E5ECF6\", \"caxis\": {\"gridcolor\": \"white\", \"linecolor\": \"white\", \"ticks\": \"\"}}, \"title\": {\"x\": 0.05}, \"xaxis\": {\"automargin\": true, \"gridcolor\": \"white\", \"linecolor\": \"white\", \"ticks\": \"\", \"title\": {\"standoff\": 15}, \"zerolinecolor\": \"white\", \"zerolinewidth\": 2}, \"yaxis\": {\"automargin\": true, \"gridcolor\": \"white\", \"linecolor\": \"white\", \"ticks\": \"\", \"title\": {\"standoff\": 15}, \"zerolinecolor\": \"white\", \"zerolinewidth\": 2}}}, \"title\": {\"text\": \"\\u9810\\u6e2c\\u503c vs \\u5be6\\u969b\\u503c\"}, \"xaxis\": {\"title\": {\"text\": \"\\u65e5\\u671f\"}}, \"yaxis\": {\"title\": {\"text\": \"\\u5de5\\u696d\\u7528\\u96fb\\uff08\\u767e\\u842c\\u5ea6\\uff09\"}}},\n",
       "                        {\"responsive\": true}\n",
       "                    ).then(function(){\n",
       "                            \n",
       "var gd = document.getElementById('e0bcb62d-d15a-4be7-86ab-aec1a50a0edc');\n",
       "var x = new MutationObserver(function (mutations, observer) {{\n",
       "        var display = window.getComputedStyle(gd).display;\n",
       "        if (!display || display === 'none') {{\n",
       "            console.log([gd, 'removed!']);\n",
       "            Plotly.purge(gd);\n",
       "            observer.disconnect();\n",
       "        }}\n",
       "}});\n",
       "\n",
       "// Listen for the removal of the full notebook cells\n",
       "var notebookContainer = gd.closest('#notebook-container');\n",
       "if (notebookContainer) {{\n",
       "    x.observe(notebookContainer, {childList: true});\n",
       "}}\n",
       "\n",
       "// Listen for the clearing of the current output cell\n",
       "var outputEl = gd.closest('.output');\n",
       "if (outputEl) {{\n",
       "    x.observe(outputEl, {childList: true});\n",
       "}}\n",
       "\n",
       "                        })\n",
       "                };\n",
       "                });\n",
       "            </script>\n",
       "        </div>"
      ]
     },
     "metadata": {},
     "output_type": "display_data"
    }
   ],
   "source": [
    "ground_truth = go.Scatter(x=date_range, y=np.reshape(test_trurh, (test_trurh.shape[0])), name='truth')\n",
    "predict_answer = go.Scatter(x=date_range, y=np.reshape(mean_test, (mean_test.shape[0])), name='predict')\n",
    "layout = go.Layout(\n",
    "    title = '預測值 vs 實際值',\n",
    "    xaxis = dict(title = '日期'),\n",
    "    yaxis = dict(title = '工業用電（百萬度）')\n",
    ")\n",
    "fig = go.Figure(data=[ground_truth, predict_answer], layout=layout)\n",
    "iplot(fig)"
   ]
  },
  {
   "cell_type": "code",
   "execution_count": 73,
   "metadata": {},
   "outputs": [
    {
     "data": {
      "application/vnd.plotly.v1+json": {
       "config": {
        "linkText": "Export to plot.ly",
        "plotlyServerURL": "https://plot.ly",
        "showLink": false
       },
       "data": [
        {
         "name": "truth",
         "type": "scatter",
         "x": [
          "2019-01-02T00:00:00",
          "2019-01-03T00:00:00",
          "2019-01-04T00:00:00",
          "2019-01-05T00:00:00",
          "2019-01-06T00:00:00",
          "2019-01-07T00:00:00",
          "2019-01-08T00:00:00",
          "2019-01-09T00:00:00",
          "2019-01-10T00:00:00",
          "2019-01-11T00:00:00",
          "2019-01-12T00:00:00",
          "2019-01-13T00:00:00",
          "2019-01-14T00:00:00",
          "2019-01-15T00:00:00",
          "2019-01-16T00:00:00",
          "2019-01-17T00:00:00",
          "2019-01-18T00:00:00",
          "2019-01-19T00:00:00",
          "2019-01-20T00:00:00",
          "2019-01-21T00:00:00",
          "2019-01-22T00:00:00",
          "2019-01-23T00:00:00",
          "2019-01-24T00:00:00",
          "2019-01-25T00:00:00",
          "2019-01-26T00:00:00",
          "2019-01-27T00:00:00",
          "2019-01-28T00:00:00",
          "2019-01-29T00:00:00",
          "2019-01-30T00:00:00",
          "2019-01-31T00:00:00",
          "2019-02-01T00:00:00",
          "2019-02-02T00:00:00",
          "2019-02-03T00:00:00",
          "2019-02-04T00:00:00",
          "2019-02-05T00:00:00",
          "2019-02-06T00:00:00",
          "2019-02-07T00:00:00",
          "2019-02-08T00:00:00",
          "2019-02-09T00:00:00",
          "2019-02-10T00:00:00",
          "2019-02-11T00:00:00",
          "2019-02-12T00:00:00",
          "2019-02-13T00:00:00",
          "2019-02-14T00:00:00",
          "2019-02-15T00:00:00",
          "2019-02-16T00:00:00",
          "2019-02-17T00:00:00",
          "2019-02-18T00:00:00",
          "2019-02-19T00:00:00",
          "2019-02-20T00:00:00",
          "2019-02-21T00:00:00",
          "2019-02-22T00:00:00",
          "2019-02-23T00:00:00",
          "2019-02-24T00:00:00",
          "2019-02-25T00:00:00",
          "2019-02-26T00:00:00",
          "2019-02-27T00:00:00",
          "2019-02-28T00:00:00",
          "2019-03-01T00:00:00",
          "2019-03-02T00:00:00",
          "2019-03-03T00:00:00",
          "2019-03-04T00:00:00",
          "2019-03-05T00:00:00",
          "2019-03-06T00:00:00",
          "2019-03-07T00:00:00",
          "2019-03-08T00:00:00",
          "2019-03-09T00:00:00",
          "2019-03-10T00:00:00",
          "2019-03-11T00:00:00",
          "2019-03-12T00:00:00",
          "2019-03-13T00:00:00",
          "2019-03-14T00:00:00",
          "2019-03-15T00:00:00",
          "2019-03-16T00:00:00",
          "2019-03-17T00:00:00",
          "2019-03-18T00:00:00",
          "2019-03-19T00:00:00",
          "2019-03-20T00:00:00",
          "2019-03-21T00:00:00",
          "2019-03-22T00:00:00",
          "2019-03-23T00:00:00",
          "2019-03-24T00:00:00",
          "2019-03-25T00:00:00",
          "2019-03-26T00:00:00",
          "2019-03-27T00:00:00",
          "2019-03-28T00:00:00",
          "2019-03-29T00:00:00",
          "2019-03-30T00:00:00",
          "2019-03-31T00:00:00",
          "2019-04-01T00:00:00",
          "2019-04-02T00:00:00",
          "2019-04-03T00:00:00",
          "2019-04-04T00:00:00",
          "2019-04-05T00:00:00",
          "2019-04-06T00:00:00",
          "2019-04-07T00:00:00",
          "2019-04-08T00:00:00",
          "2019-04-09T00:00:00",
          "2019-04-10T00:00:00",
          "2019-04-11T00:00:00",
          "2019-04-12T00:00:00",
          "2019-04-13T00:00:00",
          "2019-04-14T00:00:00",
          "2019-04-15T00:00:00",
          "2019-04-16T00:00:00",
          "2019-04-17T00:00:00",
          "2019-04-18T00:00:00",
          "2019-04-19T00:00:00",
          "2019-04-20T00:00:00",
          "2019-04-21T00:00:00",
          "2019-04-22T00:00:00",
          "2019-04-23T00:00:00",
          "2019-04-24T00:00:00",
          "2019-04-25T00:00:00",
          "2019-04-26T00:00:00",
          "2019-04-27T00:00:00",
          "2019-04-28T00:00:00",
          "2019-04-29T00:00:00",
          "2019-04-30T00:00:00",
          "2019-05-01T00:00:00",
          "2019-05-02T00:00:00",
          "2019-05-03T00:00:00",
          "2019-05-04T00:00:00",
          "2019-05-05T00:00:00",
          "2019-05-06T00:00:00",
          "2019-05-07T00:00:00",
          "2019-05-08T00:00:00",
          "2019-05-09T00:00:00",
          "2019-05-10T00:00:00",
          "2019-05-11T00:00:00",
          "2019-05-12T00:00:00",
          "2019-05-13T00:00:00",
          "2019-05-14T00:00:00",
          "2019-05-15T00:00:00",
          "2019-05-16T00:00:00",
          "2019-05-17T00:00:00",
          "2019-05-18T00:00:00",
          "2019-05-19T00:00:00",
          "2019-05-20T00:00:00",
          "2019-05-21T00:00:00",
          "2019-05-22T00:00:00",
          "2019-05-23T00:00:00",
          "2019-05-24T00:00:00",
          "2019-05-25T00:00:00",
          "2019-05-26T00:00:00",
          "2019-05-27T00:00:00",
          "2019-05-28T00:00:00",
          "2019-05-29T00:00:00",
          "2019-05-30T00:00:00",
          "2019-05-31T00:00:00",
          "2019-06-01T00:00:00",
          "2019-06-02T00:00:00",
          "2019-06-03T00:00:00",
          "2019-06-04T00:00:00",
          "2019-06-05T00:00:00",
          "2019-06-06T00:00:00",
          "2019-06-07T00:00:00",
          "2019-06-08T00:00:00",
          "2019-06-09T00:00:00",
          "2019-06-10T00:00:00",
          "2019-06-11T00:00:00",
          "2019-06-12T00:00:00",
          "2019-06-13T00:00:00",
          "2019-06-14T00:00:00",
          "2019-06-15T00:00:00",
          "2019-06-16T00:00:00",
          "2019-06-17T00:00:00",
          "2019-06-18T00:00:00",
          "2019-06-19T00:00:00",
          "2019-06-20T00:00:00",
          "2019-06-21T00:00:00",
          "2019-06-22T00:00:00",
          "2019-06-23T00:00:00",
          "2019-06-24T00:00:00",
          "2019-06-25T00:00:00",
          "2019-06-26T00:00:00",
          "2019-06-27T00:00:00",
          "2019-06-28T00:00:00",
          "2019-06-29T00:00:00",
          "2019-06-30T00:00:00",
          "2019-07-01T00:00:00",
          "2019-07-02T00:00:00",
          "2019-07-03T00:00:00",
          "2019-07-04T00:00:00",
          "2019-07-05T00:00:00",
          "2019-07-06T00:00:00",
          "2019-07-07T00:00:00",
          "2019-07-08T00:00:00",
          "2019-07-09T00:00:00",
          "2019-07-10T00:00:00",
          "2019-07-11T00:00:00",
          "2019-07-12T00:00:00",
          "2019-07-13T00:00:00",
          "2019-07-14T00:00:00",
          "2019-07-15T00:00:00",
          "2019-07-16T00:00:00",
          "2019-07-17T00:00:00",
          "2019-07-18T00:00:00",
          "2019-07-19T00:00:00",
          "2019-07-20T00:00:00",
          "2019-07-21T00:00:00",
          "2019-07-22T00:00:00",
          "2019-07-23T00:00:00",
          "2019-07-24T00:00:00",
          "2019-07-25T00:00:00",
          "2019-07-26T00:00:00",
          "2019-07-27T00:00:00",
          "2019-07-28T00:00:00",
          "2019-07-29T00:00:00",
          "2019-07-30T00:00:00",
          "2019-07-31T00:00:00",
          "2019-08-01T00:00:00",
          "2019-08-02T00:00:00",
          "2019-08-03T00:00:00",
          "2019-08-04T00:00:00",
          "2019-08-05T00:00:00",
          "2019-08-06T00:00:00",
          "2019-08-07T00:00:00",
          "2019-08-08T00:00:00",
          "2019-08-09T00:00:00",
          "2019-08-10T00:00:00",
          "2019-08-11T00:00:00",
          "2019-08-12T00:00:00",
          "2019-08-13T00:00:00",
          "2019-08-14T00:00:00",
          "2019-08-15T00:00:00",
          "2019-08-16T00:00:00",
          "2019-08-17T00:00:00",
          "2019-08-18T00:00:00",
          "2019-08-19T00:00:00",
          "2019-08-20T00:00:00",
          "2019-08-21T00:00:00",
          "2019-08-22T00:00:00",
          "2019-08-23T00:00:00",
          "2019-08-24T00:00:00",
          "2019-08-25T00:00:00",
          "2019-08-26T00:00:00",
          "2019-08-27T00:00:00",
          "2019-08-28T00:00:00",
          "2019-08-29T00:00:00",
          "2019-08-30T00:00:00",
          "2019-08-31T00:00:00",
          "2019-09-01T00:00:00",
          "2019-09-02T00:00:00",
          "2019-09-03T00:00:00",
          "2019-09-04T00:00:00",
          "2019-09-05T00:00:00",
          "2019-09-06T00:00:00",
          "2019-09-07T00:00:00",
          "2019-09-08T00:00:00",
          "2019-09-09T00:00:00",
          "2019-09-10T00:00:00",
          "2019-09-11T00:00:00",
          "2019-09-12T00:00:00",
          "2019-09-13T00:00:00",
          "2019-09-14T00:00:00",
          "2019-09-15T00:00:00",
          "2019-09-16T00:00:00",
          "2019-09-17T00:00:00",
          "2019-09-18T00:00:00",
          "2019-09-19T00:00:00",
          "2019-09-20T00:00:00",
          "2019-09-21T00:00:00",
          "2019-09-22T00:00:00",
          "2019-09-23T00:00:00",
          "2019-09-24T00:00:00"
         ],
         "y": [
          323.08,
          336.597,
          339.02,
          315.82500000000005,
          295.08,
          330.9190000000001,
          340.713,
          339.42,
          345.741,
          345.31199999999984,
          316.377,
          295.069,
          330.529,
          341.97900000000016,
          338.77099999999996,
          337.23699999999997,
          333.5780000000001,
          323.444,
          293.809,
          324.539,
          334.246,
          333.76099999999997,
          334.577,
          332.04699999999997,
          307.745,
          291.033,
          322.91100000000006,
          331.84400000000005,
          331.523,
          326.577,
          301.346,
          278.967,
          267.92900000000003,
          246.263,
          235.887,
          237.257,
          243.67,
          253.76800000000003,
          262.905,
          268.156,
          308.329,
          327.839,
          333.0450000000001,
          335.846,
          337.226,
          311.235,
          289.13,
          330.202,
          342.86800000000005,
          346.477,
          346.27099999999996,
          340.97,
          324.355,
          294.814,
          326.31100000000004,
          336.45,
          336.67699999999996,
          310.83799999999997,
          299.202,
          296.127,
          288.39,
          322.631,
          336.545,
          337.025,
          336.3830000000001,
          335.8590000000001,
          314.3520000000001,
          295.376,
          326.54,
          334.596,
          337.4390000000001,
          338.9190000000001,
          335.598,
          309.487,
          291.782,
          331.87300000000016,
          345.332,
          351.89700000000005,
          358.451,
          352.322,
          312.81600000000003,
          294.599,
          333.343,
          342.917,
          348.038,
          356.775,
          354.27,
          317.793,
          296.502,
          322.2370000000001,
          332.233,
          334.523,
          308.423,
          289.731,
          291.974,
          292.531,
          343.332,
          361.96900000000005,
          363.597,
          353.842,
          341.524,
          318.247,
          302.953,
          331.727,
          339.36800000000005,
          343.38,
          350.57400000000007,
          351.81699999999995,
          322.525,
          308.722,
          358.61,
          375.74199999999996,
          380.01500000000004,
          380.78100000000006,
          376.86800000000005,
          336.58000000000004,
          317.80600000000004,
          367.385,
          378.092,
          324.099,
          332.184,
          329.559,
          305.945,
          293.362,
          327.298,
          330.93300000000005,
          335.394,
          339.61400000000015,
          341.47800000000007,
          317.072,
          306.971,
          358.075,
          374.20500000000004,
          377.077,
          383.442,
          377.1380000000001,
          353.717,
          337.522,
          361.999,
          348.55000000000007,
          349.0880000000001,
          350.17800000000005,
          358.17400000000015,
          333.17199999999997,
          320.712,
          367.4280000000001,
          369.60400000000004,
          352.744,
          364.057,
          374.88599999999997,
          321.9190000000001,
          309.668,
          348.832,
          350.46,
          358.025,
          367.0880000000001,
          334.6040000000001,
          323.66700000000014,
          317.096,
          350.14099999999996,
          346.88300000000015,
          338.1790000000001,
          340.793,
          335.714,
          307.399,
          299.822,
          348.69500000000005,
          368.60800000000006,
          377.36400000000003,
          384.09000000000003,
          382.262,
          349.223,
          317.44500000000005,
          339.90700000000004,
          351.381,
          350.16200000000003,
          356.885,
          366.75,
          342.722,
          327.88199999999995,
          355.35,
          359.015,
          348.871,
          352.36800000000005,
          350.28,
          322.884,
          312.81,
          354.286,
          360.449,
          363.08400000000006,
          359.087,
          360.12699999999984,
          334.682,
          321.452,
          364.89300000000003,
          376.81600000000003,
          381.033,
          373.16100000000006,
          364.325,
          329.5630000000001,
          311.096,
          345.826,
          354.659,
          360.731,
          367.923,
          369.37,
          333.98,
          312.76599999999996,
          357.65700000000004,
          372.5180000000001,
          374.62300000000016,
          375.4100000000001,
          365.826,
          335.586,
          328.514,
          371.635,
          374.84800000000007,
          374.025,
          371.5130000000001,
          336.51099999999997,
          338.342,
          328.236,
          357.815,
          357.298,
          369.086,
          364.341,
          357.62,
          330.097,
          307.806,
          337.2030000000001,
          343.99699999999996,
          347.032,
          357.80500000000006,
          362.903,
          321.683,
          305.622,
          352.365,
          363.80500000000006,
          371.72299999999996,
          374.81300000000016,
          359.782,
          329.676,
          332.912,
          374.99699999999996,
          382.283,
          369.469,
          363.10699999999997,
          365.96000000000004,
          339.934,
          323.579,
          364.62699999999995,
          375.452,
          379.44000000000005,
          379.5490000000001,
          336.40600000000006,
          324.443,
          315.099,
          353.608,
          358.369,
          353.586,
          345.22,
          335.219,
          299.07500000000005,
          285.911,
          322.52,
          331.08099999999996
         ]
        },
        {
         "name": "predict",
         "type": "scatter",
         "x": [
          "2019-01-02T00:00:00",
          "2019-01-03T00:00:00",
          "2019-01-04T00:00:00",
          "2019-01-05T00:00:00",
          "2019-01-06T00:00:00",
          "2019-01-07T00:00:00",
          "2019-01-08T00:00:00",
          "2019-01-09T00:00:00",
          "2019-01-10T00:00:00",
          "2019-01-11T00:00:00",
          "2019-01-12T00:00:00",
          "2019-01-13T00:00:00",
          "2019-01-14T00:00:00",
          "2019-01-15T00:00:00",
          "2019-01-16T00:00:00",
          "2019-01-17T00:00:00",
          "2019-01-18T00:00:00",
          "2019-01-19T00:00:00",
          "2019-01-20T00:00:00",
          "2019-01-21T00:00:00",
          "2019-01-22T00:00:00",
          "2019-01-23T00:00:00",
          "2019-01-24T00:00:00",
          "2019-01-25T00:00:00",
          "2019-01-26T00:00:00",
          "2019-01-27T00:00:00",
          "2019-01-28T00:00:00",
          "2019-01-29T00:00:00",
          "2019-01-30T00:00:00",
          "2019-01-31T00:00:00",
          "2019-02-01T00:00:00",
          "2019-02-02T00:00:00",
          "2019-02-03T00:00:00",
          "2019-02-04T00:00:00",
          "2019-02-05T00:00:00",
          "2019-02-06T00:00:00",
          "2019-02-07T00:00:00",
          "2019-02-08T00:00:00",
          "2019-02-09T00:00:00",
          "2019-02-10T00:00:00",
          "2019-02-11T00:00:00",
          "2019-02-12T00:00:00",
          "2019-02-13T00:00:00",
          "2019-02-14T00:00:00",
          "2019-02-15T00:00:00",
          "2019-02-16T00:00:00",
          "2019-02-17T00:00:00",
          "2019-02-18T00:00:00",
          "2019-02-19T00:00:00",
          "2019-02-20T00:00:00",
          "2019-02-21T00:00:00",
          "2019-02-22T00:00:00",
          "2019-02-23T00:00:00",
          "2019-02-24T00:00:00",
          "2019-02-25T00:00:00",
          "2019-02-26T00:00:00",
          "2019-02-27T00:00:00",
          "2019-02-28T00:00:00",
          "2019-03-01T00:00:00",
          "2019-03-02T00:00:00",
          "2019-03-03T00:00:00",
          "2019-03-04T00:00:00",
          "2019-03-05T00:00:00",
          "2019-03-06T00:00:00",
          "2019-03-07T00:00:00",
          "2019-03-08T00:00:00",
          "2019-03-09T00:00:00",
          "2019-03-10T00:00:00",
          "2019-03-11T00:00:00",
          "2019-03-12T00:00:00",
          "2019-03-13T00:00:00",
          "2019-03-14T00:00:00",
          "2019-03-15T00:00:00",
          "2019-03-16T00:00:00",
          "2019-03-17T00:00:00",
          "2019-03-18T00:00:00",
          "2019-03-19T00:00:00",
          "2019-03-20T00:00:00",
          "2019-03-21T00:00:00",
          "2019-03-22T00:00:00",
          "2019-03-23T00:00:00",
          "2019-03-24T00:00:00",
          "2019-03-25T00:00:00",
          "2019-03-26T00:00:00",
          "2019-03-27T00:00:00",
          "2019-03-28T00:00:00",
          "2019-03-29T00:00:00",
          "2019-03-30T00:00:00",
          "2019-03-31T00:00:00",
          "2019-04-01T00:00:00",
          "2019-04-02T00:00:00",
          "2019-04-03T00:00:00",
          "2019-04-04T00:00:00",
          "2019-04-05T00:00:00",
          "2019-04-06T00:00:00",
          "2019-04-07T00:00:00",
          "2019-04-08T00:00:00",
          "2019-04-09T00:00:00",
          "2019-04-10T00:00:00",
          "2019-04-11T00:00:00",
          "2019-04-12T00:00:00",
          "2019-04-13T00:00:00",
          "2019-04-14T00:00:00",
          "2019-04-15T00:00:00",
          "2019-04-16T00:00:00",
          "2019-04-17T00:00:00",
          "2019-04-18T00:00:00",
          "2019-04-19T00:00:00",
          "2019-04-20T00:00:00",
          "2019-04-21T00:00:00",
          "2019-04-22T00:00:00",
          "2019-04-23T00:00:00",
          "2019-04-24T00:00:00",
          "2019-04-25T00:00:00",
          "2019-04-26T00:00:00",
          "2019-04-27T00:00:00",
          "2019-04-28T00:00:00",
          "2019-04-29T00:00:00",
          "2019-04-30T00:00:00",
          "2019-05-01T00:00:00",
          "2019-05-02T00:00:00",
          "2019-05-03T00:00:00",
          "2019-05-04T00:00:00",
          "2019-05-05T00:00:00",
          "2019-05-06T00:00:00",
          "2019-05-07T00:00:00",
          "2019-05-08T00:00:00",
          "2019-05-09T00:00:00",
          "2019-05-10T00:00:00",
          "2019-05-11T00:00:00",
          "2019-05-12T00:00:00",
          "2019-05-13T00:00:00",
          "2019-05-14T00:00:00",
          "2019-05-15T00:00:00",
          "2019-05-16T00:00:00",
          "2019-05-17T00:00:00",
          "2019-05-18T00:00:00",
          "2019-05-19T00:00:00",
          "2019-05-20T00:00:00",
          "2019-05-21T00:00:00",
          "2019-05-22T00:00:00",
          "2019-05-23T00:00:00",
          "2019-05-24T00:00:00",
          "2019-05-25T00:00:00",
          "2019-05-26T00:00:00",
          "2019-05-27T00:00:00",
          "2019-05-28T00:00:00",
          "2019-05-29T00:00:00",
          "2019-05-30T00:00:00",
          "2019-05-31T00:00:00",
          "2019-06-01T00:00:00",
          "2019-06-02T00:00:00",
          "2019-06-03T00:00:00",
          "2019-06-04T00:00:00",
          "2019-06-05T00:00:00",
          "2019-06-06T00:00:00",
          "2019-06-07T00:00:00",
          "2019-06-08T00:00:00",
          "2019-06-09T00:00:00",
          "2019-06-10T00:00:00",
          "2019-06-11T00:00:00",
          "2019-06-12T00:00:00",
          "2019-06-13T00:00:00",
          "2019-06-14T00:00:00",
          "2019-06-15T00:00:00",
          "2019-06-16T00:00:00",
          "2019-06-17T00:00:00",
          "2019-06-18T00:00:00",
          "2019-06-19T00:00:00",
          "2019-06-20T00:00:00",
          "2019-06-21T00:00:00",
          "2019-06-22T00:00:00",
          "2019-06-23T00:00:00",
          "2019-06-24T00:00:00",
          "2019-06-25T00:00:00",
          "2019-06-26T00:00:00",
          "2019-06-27T00:00:00",
          "2019-06-28T00:00:00",
          "2019-06-29T00:00:00",
          "2019-06-30T00:00:00",
          "2019-07-01T00:00:00",
          "2019-07-02T00:00:00",
          "2019-07-03T00:00:00",
          "2019-07-04T00:00:00",
          "2019-07-05T00:00:00",
          "2019-07-06T00:00:00",
          "2019-07-07T00:00:00",
          "2019-07-08T00:00:00",
          "2019-07-09T00:00:00",
          "2019-07-10T00:00:00",
          "2019-07-11T00:00:00",
          "2019-07-12T00:00:00",
          "2019-07-13T00:00:00",
          "2019-07-14T00:00:00",
          "2019-07-15T00:00:00",
          "2019-07-16T00:00:00",
          "2019-07-17T00:00:00",
          "2019-07-18T00:00:00",
          "2019-07-19T00:00:00",
          "2019-07-20T00:00:00",
          "2019-07-21T00:00:00",
          "2019-07-22T00:00:00",
          "2019-07-23T00:00:00",
          "2019-07-24T00:00:00",
          "2019-07-25T00:00:00",
          "2019-07-26T00:00:00",
          "2019-07-27T00:00:00",
          "2019-07-28T00:00:00",
          "2019-07-29T00:00:00",
          "2019-07-30T00:00:00",
          "2019-07-31T00:00:00",
          "2019-08-01T00:00:00",
          "2019-08-02T00:00:00",
          "2019-08-03T00:00:00",
          "2019-08-04T00:00:00",
          "2019-08-05T00:00:00",
          "2019-08-06T00:00:00",
          "2019-08-07T00:00:00",
          "2019-08-08T00:00:00",
          "2019-08-09T00:00:00",
          "2019-08-10T00:00:00",
          "2019-08-11T00:00:00",
          "2019-08-12T00:00:00",
          "2019-08-13T00:00:00",
          "2019-08-14T00:00:00",
          "2019-08-15T00:00:00",
          "2019-08-16T00:00:00",
          "2019-08-17T00:00:00",
          "2019-08-18T00:00:00",
          "2019-08-19T00:00:00",
          "2019-08-20T00:00:00",
          "2019-08-21T00:00:00",
          "2019-08-22T00:00:00",
          "2019-08-23T00:00:00",
          "2019-08-24T00:00:00",
          "2019-08-25T00:00:00",
          "2019-08-26T00:00:00",
          "2019-08-27T00:00:00",
          "2019-08-28T00:00:00",
          "2019-08-29T00:00:00",
          "2019-08-30T00:00:00",
          "2019-08-31T00:00:00",
          "2019-09-01T00:00:00",
          "2019-09-02T00:00:00",
          "2019-09-03T00:00:00",
          "2019-09-04T00:00:00",
          "2019-09-05T00:00:00",
          "2019-09-06T00:00:00",
          "2019-09-07T00:00:00",
          "2019-09-08T00:00:00",
          "2019-09-09T00:00:00",
          "2019-09-10T00:00:00",
          "2019-09-11T00:00:00",
          "2019-09-12T00:00:00",
          "2019-09-13T00:00:00",
          "2019-09-14T00:00:00",
          "2019-09-15T00:00:00",
          "2019-09-16T00:00:00",
          "2019-09-17T00:00:00",
          "2019-09-18T00:00:00",
          "2019-09-19T00:00:00",
          "2019-09-20T00:00:00",
          "2019-09-21T00:00:00",
          "2019-09-22T00:00:00",
          "2019-09-23T00:00:00",
          "2019-09-24T00:00:00"
         ],
         "y": [
          316.54434775134916,
          324.0216092195511,
          328.43956855678556,
          309.76191594499346,
          286.3235575656593,
          320.37755147820707,
          335.7929266247153,
          341.1947925899326,
          346.67655556070804,
          346.0168577978313,
          317.9064158430695,
          298.5013653645218,
          331.6929715263248,
          341.6148457878828,
          339.3892894814015,
          336.55678137123584,
          334.57162612956756,
          328.5702284743189,
          300.61175119924536,
          327.52467263555525,
          330.47907123693824,
          332.0848163476586,
          333.9551771555245,
          333.3144095857143,
          306.48301207211614,
          287.65980235679444,
          320.17491015407444,
          330.1440357967019,
          334.43744583317635,
          331.7466089166701,
          316.74929507294297,
          296.2685916606903,
          268.6551230596378,
          266.62611725019514,
          233.78048832652811,
          237.5939330392182,
          252.12632702508387,
          256.88761248559956,
          256.1430988708258,
          277.09936551484464,
          301.2905091094822,
          322.63182823652033,
          335.90966650193934,
          343.54869286254046,
          345.22535651963943,
          317.71584754928944,
          290.8006217745096,
          320.92320135322217,
          332.76287029272316,
          343.76236979466677,
          343.8991480709314,
          339.92370356351137,
          325.46319496089217,
          294.0528667683452,
          322.7741198928058,
          330.27196722707146,
          324.8790443292261,
          315.53475376279357,
          299.0515551307678,
          279.6674245712996,
          287.78825150981544,
          317.1556184615493,
          333.0213222853839,
          337.2834205261171,
          337.747024449259,
          337.83762415862077,
          313.3445180245042,
          290.50052247230707,
          321.7486367388964,
          331.26982154521346,
          337.26564830875395,
          337.95953898170586,
          336.32400281697505,
          307.87343453165886,
          289.0871290706694,
          329.6121643947661,
          340.5974308601021,
          349.9212244957388,
          352.18954627168176,
          348.24186884927747,
          310.17868765878677,
          286.17279012446113,
          321.5213804126083,
          332.9764012336433,
          345.912585790813,
          349.7945373086035,
          349.5173763216734,
          317.4078426020741,
          290.2142812747508,
          322.50937590035795,
          333.44575411352514,
          320.87793633735174,
          298.8654182159751,
          288.5708637968749,
          286.3185380119532,
          283.53943005642293,
          329.88138876885176,
          346.8165987312198,
          362.88161594328284,
          362.26599867671723,
          357.8715151678324,
          324.9790317155421,
          298.95180795922874,
          329.9190301681757,
          337.00292386132475,
          337.27293680912254,
          342.9376820609271,
          347.1307662769257,
          323.22065169277784,
          306.21283046023547,
          354.26495394060015,
          364.68943500322104,
          378.0140269524157,
          375.0369068105817,
          369.4833382862508,
          339.18775968122486,
          324.03626585185526,
          367.93414596602315,
          369.24236874052883,
          327.4281960201264,
          354.7707106125355,
          356.43088721728316,
          328.36788466256854,
          311.05836651951074,
          350.0651685070395,
          348.3237035562992,
          328.11553222674127,
          329.45127323761585,
          331.71392679438,
          310.9538578297794,
          297.94219471302625,
          344.3615365066827,
          352.41354986965655,
          374.0174800797402,
          375.1763062925935,
          368.8137341352402,
          336.08100709027053,
          313.54123675084116,
          344.9010160412489,
          345.16816446462275,
          343.93545342952,
          342.03816941004993,
          342.08604678371546,
          318.78625839090347,
          303.3893743578493,
          350.2342517616451,
          355.64525876715777,
          358.410097741276,
          358.87318516522646,
          361.138913385272,
          336.4384245308041,
          320.3424184732437,
          361.30901194235685,
          366.68249035993216,
          365.69959461045266,
          363.5618995722234,
          356.92780619964606,
          324.89612232303625,
          319.65093342745297,
          349.21689766353364,
          351.00044236746425,
          346.8553516544997,
          345.17887380439043,
          342.8752840922176,
          314.89331550487873,
          297.6286896577179,
          340.8204313215315,
          352.5825402207672,
          376.3430304085016,
          380.1354572430849,
          377.27487568756936,
          345.89031438991435,
          319.71660062414406,
          351.9692455415726,
          358.82600456777215,
          352.3715320521295,
          356.4981570895016,
          359.0855570244491,
          336.80019737565516,
          322.86216918003555,
          366.45220582211016,
          372.56312784981725,
          363.6361195106507,
          365.8516123778521,
          363.106784152925,
          333.81440513497586,
          315.7958685332238,
          355.921057169497,
          364.3239858343601,
          366.1131390337944,
          369.24014016264675,
          367.66226831236474,
          342.1335846172273,
          326.14920432069897,
          365.7168215727806,
          372.7668309281766,
          377.538998111397,
          375.95639150086043,
          368.39943100002404,
          336.38632226011157,
          314.62888119074705,
          350.1221139253974,
          357.1925985474587,
          358.85579893976444,
          362.3444335582256,
          362.64172916567315,
          335.59172309276454,
          317.6061749736369,
          358.60342770203954,
          367.48896679669616,
          373.4943626202047,
          372.422965231955,
          365.9134894233942,
          336.1980544338226,
          320.4436523147821,
          360.23084255293014,
          366.0331037789881,
          372.2203393917381,
          370.3064521905481,
          365.30739144706723,
          338.62298495820164,
          320.59466805163026,
          355.90931593734024,
          363.20412268364424,
          359.99467302110793,
          359.8840714105069,
          357.34579641044144,
          328.2851828562617,
          303.3516173821539,
          337.0646803535223,
          346.7564846400916,
          351.09651342907546,
          355.3527388417423,
          356.6292229068279,
          330.9375223340988,
          313.89953345659376,
          356.14492141222956,
          366.1944660895765,
          364.91326606613393,
          370.1145202061831,
          363.56832207930086,
          335.3585043528974,
          319.69801328921324,
          354.2491924203038,
          349.2068629800975,
          373.4445077292919,
          367.9566031739115,
          363.7695621090531,
          338.0691263958216,
          318.7617993339002,
          355.71193914458155,
          363.86682875016334,
          384.3378882142603,
          378.0709513568878,
          362.11747525558474,
          323.0216351282596,
          320.375536335349,
          351.7146357720196,
          357.43792681548,
          359.6574012610316,
          354.44224145859476,
          347.6575501065254,
          313.71215484946964,
          289.07893973819915,
          329.8152868262827,
          341.4414568986893
         ]
        }
       ],
       "layout": {
        "template": {
         "data": {
          "bar": [
           {
            "error_x": {
             "color": "#2a3f5f"
            },
            "error_y": {
             "color": "#2a3f5f"
            },
            "marker": {
             "line": {
              "color": "#E5ECF6",
              "width": 0.5
             }
            },
            "type": "bar"
           }
          ],
          "barpolar": [
           {
            "marker": {
             "line": {
              "color": "#E5ECF6",
              "width": 0.5
             }
            },
            "type": "barpolar"
           }
          ],
          "carpet": [
           {
            "aaxis": {
             "endlinecolor": "#2a3f5f",
             "gridcolor": "white",
             "linecolor": "white",
             "minorgridcolor": "white",
             "startlinecolor": "#2a3f5f"
            },
            "baxis": {
             "endlinecolor": "#2a3f5f",
             "gridcolor": "white",
             "linecolor": "white",
             "minorgridcolor": "white",
             "startlinecolor": "#2a3f5f"
            },
            "type": "carpet"
           }
          ],
          "choropleth": [
           {
            "colorbar": {
             "outlinewidth": 0,
             "ticks": ""
            },
            "type": "choropleth"
           }
          ],
          "contour": [
           {
            "colorbar": {
             "outlinewidth": 0,
             "ticks": ""
            },
            "colorscale": [
             [
              0,
              "#0d0887"
             ],
             [
              0.1111111111111111,
              "#46039f"
             ],
             [
              0.2222222222222222,
              "#7201a8"
             ],
             [
              0.3333333333333333,
              "#9c179e"
             ],
             [
              0.4444444444444444,
              "#bd3786"
             ],
             [
              0.5555555555555556,
              "#d8576b"
             ],
             [
              0.6666666666666666,
              "#ed7953"
             ],
             [
              0.7777777777777778,
              "#fb9f3a"
             ],
             [
              0.8888888888888888,
              "#fdca26"
             ],
             [
              1,
              "#f0f921"
             ]
            ],
            "type": "contour"
           }
          ],
          "contourcarpet": [
           {
            "colorbar": {
             "outlinewidth": 0,
             "ticks": ""
            },
            "type": "contourcarpet"
           }
          ],
          "heatmap": [
           {
            "colorbar": {
             "outlinewidth": 0,
             "ticks": ""
            },
            "colorscale": [
             [
              0,
              "#0d0887"
             ],
             [
              0.1111111111111111,
              "#46039f"
             ],
             [
              0.2222222222222222,
              "#7201a8"
             ],
             [
              0.3333333333333333,
              "#9c179e"
             ],
             [
              0.4444444444444444,
              "#bd3786"
             ],
             [
              0.5555555555555556,
              "#d8576b"
             ],
             [
              0.6666666666666666,
              "#ed7953"
             ],
             [
              0.7777777777777778,
              "#fb9f3a"
             ],
             [
              0.8888888888888888,
              "#fdca26"
             ],
             [
              1,
              "#f0f921"
             ]
            ],
            "type": "heatmap"
           }
          ],
          "heatmapgl": [
           {
            "colorbar": {
             "outlinewidth": 0,
             "ticks": ""
            },
            "colorscale": [
             [
              0,
              "#0d0887"
             ],
             [
              0.1111111111111111,
              "#46039f"
             ],
             [
              0.2222222222222222,
              "#7201a8"
             ],
             [
              0.3333333333333333,
              "#9c179e"
             ],
             [
              0.4444444444444444,
              "#bd3786"
             ],
             [
              0.5555555555555556,
              "#d8576b"
             ],
             [
              0.6666666666666666,
              "#ed7953"
             ],
             [
              0.7777777777777778,
              "#fb9f3a"
             ],
             [
              0.8888888888888888,
              "#fdca26"
             ],
             [
              1,
              "#f0f921"
             ]
            ],
            "type": "heatmapgl"
           }
          ],
          "histogram": [
           {
            "marker": {
             "colorbar": {
              "outlinewidth": 0,
              "ticks": ""
             }
            },
            "type": "histogram"
           }
          ],
          "histogram2d": [
           {
            "colorbar": {
             "outlinewidth": 0,
             "ticks": ""
            },
            "colorscale": [
             [
              0,
              "#0d0887"
             ],
             [
              0.1111111111111111,
              "#46039f"
             ],
             [
              0.2222222222222222,
              "#7201a8"
             ],
             [
              0.3333333333333333,
              "#9c179e"
             ],
             [
              0.4444444444444444,
              "#bd3786"
             ],
             [
              0.5555555555555556,
              "#d8576b"
             ],
             [
              0.6666666666666666,
              "#ed7953"
             ],
             [
              0.7777777777777778,
              "#fb9f3a"
             ],
             [
              0.8888888888888888,
              "#fdca26"
             ],
             [
              1,
              "#f0f921"
             ]
            ],
            "type": "histogram2d"
           }
          ],
          "histogram2dcontour": [
           {
            "colorbar": {
             "outlinewidth": 0,
             "ticks": ""
            },
            "colorscale": [
             [
              0,
              "#0d0887"
             ],
             [
              0.1111111111111111,
              "#46039f"
             ],
             [
              0.2222222222222222,
              "#7201a8"
             ],
             [
              0.3333333333333333,
              "#9c179e"
             ],
             [
              0.4444444444444444,
              "#bd3786"
             ],
             [
              0.5555555555555556,
              "#d8576b"
             ],
             [
              0.6666666666666666,
              "#ed7953"
             ],
             [
              0.7777777777777778,
              "#fb9f3a"
             ],
             [
              0.8888888888888888,
              "#fdca26"
             ],
             [
              1,
              "#f0f921"
             ]
            ],
            "type": "histogram2dcontour"
           }
          ],
          "mesh3d": [
           {
            "colorbar": {
             "outlinewidth": 0,
             "ticks": ""
            },
            "type": "mesh3d"
           }
          ],
          "parcoords": [
           {
            "line": {
             "colorbar": {
              "outlinewidth": 0,
              "ticks": ""
             }
            },
            "type": "parcoords"
           }
          ],
          "pie": [
           {
            "automargin": true,
            "type": "pie"
           }
          ],
          "scatter": [
           {
            "marker": {
             "colorbar": {
              "outlinewidth": 0,
              "ticks": ""
             }
            },
            "type": "scatter"
           }
          ],
          "scatter3d": [
           {
            "line": {
             "colorbar": {
              "outlinewidth": 0,
              "ticks": ""
             }
            },
            "marker": {
             "colorbar": {
              "outlinewidth": 0,
              "ticks": ""
             }
            },
            "type": "scatter3d"
           }
          ],
          "scattercarpet": [
           {
            "marker": {
             "colorbar": {
              "outlinewidth": 0,
              "ticks": ""
             }
            },
            "type": "scattercarpet"
           }
          ],
          "scattergeo": [
           {
            "marker": {
             "colorbar": {
              "outlinewidth": 0,
              "ticks": ""
             }
            },
            "type": "scattergeo"
           }
          ],
          "scattergl": [
           {
            "marker": {
             "colorbar": {
              "outlinewidth": 0,
              "ticks": ""
             }
            },
            "type": "scattergl"
           }
          ],
          "scattermapbox": [
           {
            "marker": {
             "colorbar": {
              "outlinewidth": 0,
              "ticks": ""
             }
            },
            "type": "scattermapbox"
           }
          ],
          "scatterpolar": [
           {
            "marker": {
             "colorbar": {
              "outlinewidth": 0,
              "ticks": ""
             }
            },
            "type": "scatterpolar"
           }
          ],
          "scatterpolargl": [
           {
            "marker": {
             "colorbar": {
              "outlinewidth": 0,
              "ticks": ""
             }
            },
            "type": "scatterpolargl"
           }
          ],
          "scatterternary": [
           {
            "marker": {
             "colorbar": {
              "outlinewidth": 0,
              "ticks": ""
             }
            },
            "type": "scatterternary"
           }
          ],
          "surface": [
           {
            "colorbar": {
             "outlinewidth": 0,
             "ticks": ""
            },
            "colorscale": [
             [
              0,
              "#0d0887"
             ],
             [
              0.1111111111111111,
              "#46039f"
             ],
             [
              0.2222222222222222,
              "#7201a8"
             ],
             [
              0.3333333333333333,
              "#9c179e"
             ],
             [
              0.4444444444444444,
              "#bd3786"
             ],
             [
              0.5555555555555556,
              "#d8576b"
             ],
             [
              0.6666666666666666,
              "#ed7953"
             ],
             [
              0.7777777777777778,
              "#fb9f3a"
             ],
             [
              0.8888888888888888,
              "#fdca26"
             ],
             [
              1,
              "#f0f921"
             ]
            ],
            "type": "surface"
           }
          ],
          "table": [
           {
            "cells": {
             "fill": {
              "color": "#EBF0F8"
             },
             "line": {
              "color": "white"
             }
            },
            "header": {
             "fill": {
              "color": "#C8D4E3"
             },
             "line": {
              "color": "white"
             }
            },
            "type": "table"
           }
          ]
         },
         "layout": {
          "annotationdefaults": {
           "arrowcolor": "#2a3f5f",
           "arrowhead": 0,
           "arrowwidth": 1
          },
          "coloraxis": {
           "colorbar": {
            "outlinewidth": 0,
            "ticks": ""
           }
          },
          "colorscale": {
           "diverging": [
            [
             0,
             "#8e0152"
            ],
            [
             0.1,
             "#c51b7d"
            ],
            [
             0.2,
             "#de77ae"
            ],
            [
             0.3,
             "#f1b6da"
            ],
            [
             0.4,
             "#fde0ef"
            ],
            [
             0.5,
             "#f7f7f7"
            ],
            [
             0.6,
             "#e6f5d0"
            ],
            [
             0.7,
             "#b8e186"
            ],
            [
             0.8,
             "#7fbc41"
            ],
            [
             0.9,
             "#4d9221"
            ],
            [
             1,
             "#276419"
            ]
           ],
           "sequential": [
            [
             0,
             "#0d0887"
            ],
            [
             0.1111111111111111,
             "#46039f"
            ],
            [
             0.2222222222222222,
             "#7201a8"
            ],
            [
             0.3333333333333333,
             "#9c179e"
            ],
            [
             0.4444444444444444,
             "#bd3786"
            ],
            [
             0.5555555555555556,
             "#d8576b"
            ],
            [
             0.6666666666666666,
             "#ed7953"
            ],
            [
             0.7777777777777778,
             "#fb9f3a"
            ],
            [
             0.8888888888888888,
             "#fdca26"
            ],
            [
             1,
             "#f0f921"
            ]
           ],
           "sequentialminus": [
            [
             0,
             "#0d0887"
            ],
            [
             0.1111111111111111,
             "#46039f"
            ],
            [
             0.2222222222222222,
             "#7201a8"
            ],
            [
             0.3333333333333333,
             "#9c179e"
            ],
            [
             0.4444444444444444,
             "#bd3786"
            ],
            [
             0.5555555555555556,
             "#d8576b"
            ],
            [
             0.6666666666666666,
             "#ed7953"
            ],
            [
             0.7777777777777778,
             "#fb9f3a"
            ],
            [
             0.8888888888888888,
             "#fdca26"
            ],
            [
             1,
             "#f0f921"
            ]
           ]
          },
          "colorway": [
           "#636efa",
           "#EF553B",
           "#00cc96",
           "#ab63fa",
           "#FFA15A",
           "#19d3f3",
           "#FF6692",
           "#B6E880",
           "#FF97FF",
           "#FECB52"
          ],
          "font": {
           "color": "#2a3f5f"
          },
          "geo": {
           "bgcolor": "white",
           "lakecolor": "white",
           "landcolor": "#E5ECF6",
           "showlakes": true,
           "showland": true,
           "subunitcolor": "white"
          },
          "hoverlabel": {
           "align": "left"
          },
          "hovermode": "closest",
          "mapbox": {
           "style": "light"
          },
          "paper_bgcolor": "white",
          "plot_bgcolor": "#E5ECF6",
          "polar": {
           "angularaxis": {
            "gridcolor": "white",
            "linecolor": "white",
            "ticks": ""
           },
           "bgcolor": "#E5ECF6",
           "radialaxis": {
            "gridcolor": "white",
            "linecolor": "white",
            "ticks": ""
           }
          },
          "scene": {
           "xaxis": {
            "backgroundcolor": "#E5ECF6",
            "gridcolor": "white",
            "gridwidth": 2,
            "linecolor": "white",
            "showbackground": true,
            "ticks": "",
            "zerolinecolor": "white"
           },
           "yaxis": {
            "backgroundcolor": "#E5ECF6",
            "gridcolor": "white",
            "gridwidth": 2,
            "linecolor": "white",
            "showbackground": true,
            "ticks": "",
            "zerolinecolor": "white"
           },
           "zaxis": {
            "backgroundcolor": "#E5ECF6",
            "gridcolor": "white",
            "gridwidth": 2,
            "linecolor": "white",
            "showbackground": true,
            "ticks": "",
            "zerolinecolor": "white"
           }
          },
          "shapedefaults": {
           "line": {
            "color": "#2a3f5f"
           }
          },
          "ternary": {
           "aaxis": {
            "gridcolor": "white",
            "linecolor": "white",
            "ticks": ""
           },
           "baxis": {
            "gridcolor": "white",
            "linecolor": "white",
            "ticks": ""
           },
           "bgcolor": "#E5ECF6",
           "caxis": {
            "gridcolor": "white",
            "linecolor": "white",
            "ticks": ""
           }
          },
          "title": {
           "x": 0.05
          },
          "xaxis": {
           "automargin": true,
           "gridcolor": "white",
           "linecolor": "white",
           "ticks": "",
           "title": {
            "standoff": 15
           },
           "zerolinecolor": "white",
           "zerolinewidth": 2
          },
          "yaxis": {
           "automargin": true,
           "gridcolor": "white",
           "linecolor": "white",
           "ticks": "",
           "title": {
            "standoff": 15
           },
           "zerolinecolor": "white",
           "zerolinewidth": 2
          }
         }
        },
        "title": {
         "text": "預測值 vs 實際值"
        },
        "xaxis": {
         "title": {
          "text": "日期"
         }
        },
        "yaxis": {
         "title": {
          "text": "工業用電（百萬度）"
         }
        }
       }
      },
      "text/html": [
       "<div>\n",
       "        \n",
       "        \n",
       "            <div id=\"d4379737-e439-4510-b2d7-2bde095e650e\" class=\"plotly-graph-div\" style=\"height:525px; width:100%;\"></div>\n",
       "            <script type=\"text/javascript\">\n",
       "                require([\"plotly\"], function(Plotly) {\n",
       "                    window.PLOTLYENV=window.PLOTLYENV || {};\n",
       "                    \n",
       "                if (document.getElementById(\"d4379737-e439-4510-b2d7-2bde095e650e\")) {\n",
       "                    Plotly.newPlot(\n",
       "                        'd4379737-e439-4510-b2d7-2bde095e650e',\n",
       "                        [{\"name\": \"truth\", \"type\": \"scatter\", \"x\": [\"2019-01-02T00:00:00\", \"2019-01-03T00:00:00\", \"2019-01-04T00:00:00\", \"2019-01-05T00:00:00\", \"2019-01-06T00:00:00\", \"2019-01-07T00:00:00\", \"2019-01-08T00:00:00\", \"2019-01-09T00:00:00\", \"2019-01-10T00:00:00\", \"2019-01-11T00:00:00\", \"2019-01-12T00:00:00\", \"2019-01-13T00:00:00\", \"2019-01-14T00:00:00\", \"2019-01-15T00:00:00\", \"2019-01-16T00:00:00\", \"2019-01-17T00:00:00\", \"2019-01-18T00:00:00\", \"2019-01-19T00:00:00\", \"2019-01-20T00:00:00\", \"2019-01-21T00:00:00\", \"2019-01-22T00:00:00\", \"2019-01-23T00:00:00\", \"2019-01-24T00:00:00\", \"2019-01-25T00:00:00\", \"2019-01-26T00:00:00\", \"2019-01-27T00:00:00\", \"2019-01-28T00:00:00\", \"2019-01-29T00:00:00\", \"2019-01-30T00:00:00\", \"2019-01-31T00:00:00\", \"2019-02-01T00:00:00\", \"2019-02-02T00:00:00\", \"2019-02-03T00:00:00\", \"2019-02-04T00:00:00\", \"2019-02-05T00:00:00\", \"2019-02-06T00:00:00\", \"2019-02-07T00:00:00\", \"2019-02-08T00:00:00\", \"2019-02-09T00:00:00\", \"2019-02-10T00:00:00\", \"2019-02-11T00:00:00\", \"2019-02-12T00:00:00\", \"2019-02-13T00:00:00\", \"2019-02-14T00:00:00\", \"2019-02-15T00:00:00\", \"2019-02-16T00:00:00\", \"2019-02-17T00:00:00\", \"2019-02-18T00:00:00\", \"2019-02-19T00:00:00\", \"2019-02-20T00:00:00\", \"2019-02-21T00:00:00\", \"2019-02-22T00:00:00\", \"2019-02-23T00:00:00\", \"2019-02-24T00:00:00\", \"2019-02-25T00:00:00\", \"2019-02-26T00:00:00\", \"2019-02-27T00:00:00\", \"2019-02-28T00:00:00\", \"2019-03-01T00:00:00\", \"2019-03-02T00:00:00\", \"2019-03-03T00:00:00\", \"2019-03-04T00:00:00\", \"2019-03-05T00:00:00\", \"2019-03-06T00:00:00\", \"2019-03-07T00:00:00\", \"2019-03-08T00:00:00\", \"2019-03-09T00:00:00\", \"2019-03-10T00:00:00\", \"2019-03-11T00:00:00\", \"2019-03-12T00:00:00\", \"2019-03-13T00:00:00\", \"2019-03-14T00:00:00\", \"2019-03-15T00:00:00\", \"2019-03-16T00:00:00\", \"2019-03-17T00:00:00\", \"2019-03-18T00:00:00\", \"2019-03-19T00:00:00\", \"2019-03-20T00:00:00\", \"2019-03-21T00:00:00\", \"2019-03-22T00:00:00\", \"2019-03-23T00:00:00\", \"2019-03-24T00:00:00\", \"2019-03-25T00:00:00\", \"2019-03-26T00:00:00\", \"2019-03-27T00:00:00\", \"2019-03-28T00:00:00\", \"2019-03-29T00:00:00\", \"2019-03-30T00:00:00\", \"2019-03-31T00:00:00\", \"2019-04-01T00:00:00\", \"2019-04-02T00:00:00\", \"2019-04-03T00:00:00\", \"2019-04-04T00:00:00\", \"2019-04-05T00:00:00\", \"2019-04-06T00:00:00\", \"2019-04-07T00:00:00\", \"2019-04-08T00:00:00\", \"2019-04-09T00:00:00\", \"2019-04-10T00:00:00\", \"2019-04-11T00:00:00\", \"2019-04-12T00:00:00\", \"2019-04-13T00:00:00\", \"2019-04-14T00:00:00\", \"2019-04-15T00:00:00\", \"2019-04-16T00:00:00\", \"2019-04-17T00:00:00\", \"2019-04-18T00:00:00\", \"2019-04-19T00:00:00\", \"2019-04-20T00:00:00\", \"2019-04-21T00:00:00\", \"2019-04-22T00:00:00\", \"2019-04-23T00:00:00\", \"2019-04-24T00:00:00\", \"2019-04-25T00:00:00\", \"2019-04-26T00:00:00\", \"2019-04-27T00:00:00\", \"2019-04-28T00:00:00\", \"2019-04-29T00:00:00\", \"2019-04-30T00:00:00\", \"2019-05-01T00:00:00\", \"2019-05-02T00:00:00\", \"2019-05-03T00:00:00\", \"2019-05-04T00:00:00\", \"2019-05-05T00:00:00\", \"2019-05-06T00:00:00\", \"2019-05-07T00:00:00\", \"2019-05-08T00:00:00\", \"2019-05-09T00:00:00\", \"2019-05-10T00:00:00\", \"2019-05-11T00:00:00\", \"2019-05-12T00:00:00\", \"2019-05-13T00:00:00\", \"2019-05-14T00:00:00\", \"2019-05-15T00:00:00\", \"2019-05-16T00:00:00\", \"2019-05-17T00:00:00\", \"2019-05-18T00:00:00\", \"2019-05-19T00:00:00\", \"2019-05-20T00:00:00\", \"2019-05-21T00:00:00\", \"2019-05-22T00:00:00\", \"2019-05-23T00:00:00\", \"2019-05-24T00:00:00\", \"2019-05-25T00:00:00\", \"2019-05-26T00:00:00\", \"2019-05-27T00:00:00\", \"2019-05-28T00:00:00\", \"2019-05-29T00:00:00\", \"2019-05-30T00:00:00\", \"2019-05-31T00:00:00\", \"2019-06-01T00:00:00\", \"2019-06-02T00:00:00\", \"2019-06-03T00:00:00\", \"2019-06-04T00:00:00\", \"2019-06-05T00:00:00\", \"2019-06-06T00:00:00\", \"2019-06-07T00:00:00\", \"2019-06-08T00:00:00\", \"2019-06-09T00:00:00\", \"2019-06-10T00:00:00\", \"2019-06-11T00:00:00\", \"2019-06-12T00:00:00\", \"2019-06-13T00:00:00\", \"2019-06-14T00:00:00\", \"2019-06-15T00:00:00\", \"2019-06-16T00:00:00\", \"2019-06-17T00:00:00\", \"2019-06-18T00:00:00\", \"2019-06-19T00:00:00\", \"2019-06-20T00:00:00\", \"2019-06-21T00:00:00\", \"2019-06-22T00:00:00\", \"2019-06-23T00:00:00\", \"2019-06-24T00:00:00\", \"2019-06-25T00:00:00\", \"2019-06-26T00:00:00\", \"2019-06-27T00:00:00\", \"2019-06-28T00:00:00\", \"2019-06-29T00:00:00\", \"2019-06-30T00:00:00\", \"2019-07-01T00:00:00\", \"2019-07-02T00:00:00\", \"2019-07-03T00:00:00\", \"2019-07-04T00:00:00\", \"2019-07-05T00:00:00\", \"2019-07-06T00:00:00\", \"2019-07-07T00:00:00\", \"2019-07-08T00:00:00\", \"2019-07-09T00:00:00\", \"2019-07-10T00:00:00\", \"2019-07-11T00:00:00\", \"2019-07-12T00:00:00\", \"2019-07-13T00:00:00\", \"2019-07-14T00:00:00\", \"2019-07-15T00:00:00\", \"2019-07-16T00:00:00\", \"2019-07-17T00:00:00\", \"2019-07-18T00:00:00\", \"2019-07-19T00:00:00\", \"2019-07-20T00:00:00\", \"2019-07-21T00:00:00\", \"2019-07-22T00:00:00\", \"2019-07-23T00:00:00\", \"2019-07-24T00:00:00\", \"2019-07-25T00:00:00\", \"2019-07-26T00:00:00\", \"2019-07-27T00:00:00\", \"2019-07-28T00:00:00\", \"2019-07-29T00:00:00\", \"2019-07-30T00:00:00\", \"2019-07-31T00:00:00\", \"2019-08-01T00:00:00\", \"2019-08-02T00:00:00\", \"2019-08-03T00:00:00\", \"2019-08-04T00:00:00\", \"2019-08-05T00:00:00\", \"2019-08-06T00:00:00\", \"2019-08-07T00:00:00\", \"2019-08-08T00:00:00\", \"2019-08-09T00:00:00\", \"2019-08-10T00:00:00\", \"2019-08-11T00:00:00\", \"2019-08-12T00:00:00\", \"2019-08-13T00:00:00\", \"2019-08-14T00:00:00\", \"2019-08-15T00:00:00\", \"2019-08-16T00:00:00\", \"2019-08-17T00:00:00\", \"2019-08-18T00:00:00\", \"2019-08-19T00:00:00\", \"2019-08-20T00:00:00\", \"2019-08-21T00:00:00\", \"2019-08-22T00:00:00\", \"2019-08-23T00:00:00\", \"2019-08-24T00:00:00\", \"2019-08-25T00:00:00\", \"2019-08-26T00:00:00\", \"2019-08-27T00:00:00\", \"2019-08-28T00:00:00\", \"2019-08-29T00:00:00\", \"2019-08-30T00:00:00\", \"2019-08-31T00:00:00\", \"2019-09-01T00:00:00\", \"2019-09-02T00:00:00\", \"2019-09-03T00:00:00\", \"2019-09-04T00:00:00\", \"2019-09-05T00:00:00\", \"2019-09-06T00:00:00\", \"2019-09-07T00:00:00\", \"2019-09-08T00:00:00\", \"2019-09-09T00:00:00\", \"2019-09-10T00:00:00\", \"2019-09-11T00:00:00\", \"2019-09-12T00:00:00\", \"2019-09-13T00:00:00\", \"2019-09-14T00:00:00\", \"2019-09-15T00:00:00\", \"2019-09-16T00:00:00\", \"2019-09-17T00:00:00\", \"2019-09-18T00:00:00\", \"2019-09-19T00:00:00\", \"2019-09-20T00:00:00\", \"2019-09-21T00:00:00\", \"2019-09-22T00:00:00\", \"2019-09-23T00:00:00\", \"2019-09-24T00:00:00\"], \"y\": [323.08, 336.597, 339.02, 315.82500000000005, 295.08, 330.9190000000001, 340.713, 339.42, 345.741, 345.31199999999984, 316.377, 295.069, 330.529, 341.97900000000016, 338.77099999999996, 337.23699999999997, 333.5780000000001, 323.444, 293.809, 324.539, 334.246, 333.76099999999997, 334.577, 332.04699999999997, 307.745, 291.033, 322.91100000000006, 331.84400000000005, 331.523, 326.577, 301.346, 278.967, 267.92900000000003, 246.263, 235.887, 237.257, 243.67, 253.76800000000003, 262.905, 268.156, 308.329, 327.839, 333.0450000000001, 335.846, 337.226, 311.235, 289.13, 330.202, 342.86800000000005, 346.477, 346.27099999999996, 340.97, 324.355, 294.814, 326.31100000000004, 336.45, 336.67699999999996, 310.83799999999997, 299.202, 296.127, 288.39, 322.631, 336.545, 337.025, 336.3830000000001, 335.8590000000001, 314.3520000000001, 295.376, 326.54, 334.596, 337.4390000000001, 338.9190000000001, 335.598, 309.487, 291.782, 331.87300000000016, 345.332, 351.89700000000005, 358.451, 352.322, 312.81600000000003, 294.599, 333.343, 342.917, 348.038, 356.775, 354.27, 317.793, 296.502, 322.2370000000001, 332.233, 334.523, 308.423, 289.731, 291.974, 292.531, 343.332, 361.96900000000005, 363.597, 353.842, 341.524, 318.247, 302.953, 331.727, 339.36800000000005, 343.38, 350.57400000000007, 351.81699999999995, 322.525, 308.722, 358.61, 375.74199999999996, 380.01500000000004, 380.78100000000006, 376.86800000000005, 336.58000000000004, 317.80600000000004, 367.385, 378.092, 324.099, 332.184, 329.559, 305.945, 293.362, 327.298, 330.93300000000005, 335.394, 339.61400000000015, 341.47800000000007, 317.072, 306.971, 358.075, 374.20500000000004, 377.077, 383.442, 377.1380000000001, 353.717, 337.522, 361.999, 348.55000000000007, 349.0880000000001, 350.17800000000005, 358.17400000000015, 333.17199999999997, 320.712, 367.4280000000001, 369.60400000000004, 352.744, 364.057, 374.88599999999997, 321.9190000000001, 309.668, 348.832, 350.46, 358.025, 367.0880000000001, 334.6040000000001, 323.66700000000014, 317.096, 350.14099999999996, 346.88300000000015, 338.1790000000001, 340.793, 335.714, 307.399, 299.822, 348.69500000000005, 368.60800000000006, 377.36400000000003, 384.09000000000003, 382.262, 349.223, 317.44500000000005, 339.90700000000004, 351.381, 350.16200000000003, 356.885, 366.75, 342.722, 327.88199999999995, 355.35, 359.015, 348.871, 352.36800000000005, 350.28, 322.884, 312.81, 354.286, 360.449, 363.08400000000006, 359.087, 360.12699999999984, 334.682, 321.452, 364.89300000000003, 376.81600000000003, 381.033, 373.16100000000006, 364.325, 329.5630000000001, 311.096, 345.826, 354.659, 360.731, 367.923, 369.37, 333.98, 312.76599999999996, 357.65700000000004, 372.5180000000001, 374.62300000000016, 375.4100000000001, 365.826, 335.586, 328.514, 371.635, 374.84800000000007, 374.025, 371.5130000000001, 336.51099999999997, 338.342, 328.236, 357.815, 357.298, 369.086, 364.341, 357.62, 330.097, 307.806, 337.2030000000001, 343.99699999999996, 347.032, 357.80500000000006, 362.903, 321.683, 305.622, 352.365, 363.80500000000006, 371.72299999999996, 374.81300000000016, 359.782, 329.676, 332.912, 374.99699999999996, 382.283, 369.469, 363.10699999999997, 365.96000000000004, 339.934, 323.579, 364.62699999999995, 375.452, 379.44000000000005, 379.5490000000001, 336.40600000000006, 324.443, 315.099, 353.608, 358.369, 353.586, 345.22, 335.219, 299.07500000000005, 285.911, 322.52, 331.08099999999996]}, {\"name\": \"predict\", \"type\": \"scatter\", \"x\": [\"2019-01-02T00:00:00\", \"2019-01-03T00:00:00\", \"2019-01-04T00:00:00\", \"2019-01-05T00:00:00\", \"2019-01-06T00:00:00\", \"2019-01-07T00:00:00\", \"2019-01-08T00:00:00\", \"2019-01-09T00:00:00\", \"2019-01-10T00:00:00\", \"2019-01-11T00:00:00\", \"2019-01-12T00:00:00\", \"2019-01-13T00:00:00\", \"2019-01-14T00:00:00\", \"2019-01-15T00:00:00\", \"2019-01-16T00:00:00\", \"2019-01-17T00:00:00\", \"2019-01-18T00:00:00\", \"2019-01-19T00:00:00\", \"2019-01-20T00:00:00\", \"2019-01-21T00:00:00\", \"2019-01-22T00:00:00\", \"2019-01-23T00:00:00\", \"2019-01-24T00:00:00\", \"2019-01-25T00:00:00\", \"2019-01-26T00:00:00\", \"2019-01-27T00:00:00\", \"2019-01-28T00:00:00\", \"2019-01-29T00:00:00\", \"2019-01-30T00:00:00\", \"2019-01-31T00:00:00\", \"2019-02-01T00:00:00\", \"2019-02-02T00:00:00\", \"2019-02-03T00:00:00\", \"2019-02-04T00:00:00\", \"2019-02-05T00:00:00\", \"2019-02-06T00:00:00\", \"2019-02-07T00:00:00\", \"2019-02-08T00:00:00\", \"2019-02-09T00:00:00\", \"2019-02-10T00:00:00\", \"2019-02-11T00:00:00\", \"2019-02-12T00:00:00\", \"2019-02-13T00:00:00\", \"2019-02-14T00:00:00\", \"2019-02-15T00:00:00\", \"2019-02-16T00:00:00\", \"2019-02-17T00:00:00\", \"2019-02-18T00:00:00\", \"2019-02-19T00:00:00\", \"2019-02-20T00:00:00\", \"2019-02-21T00:00:00\", \"2019-02-22T00:00:00\", \"2019-02-23T00:00:00\", \"2019-02-24T00:00:00\", \"2019-02-25T00:00:00\", \"2019-02-26T00:00:00\", \"2019-02-27T00:00:00\", \"2019-02-28T00:00:00\", \"2019-03-01T00:00:00\", \"2019-03-02T00:00:00\", \"2019-03-03T00:00:00\", \"2019-03-04T00:00:00\", \"2019-03-05T00:00:00\", \"2019-03-06T00:00:00\", \"2019-03-07T00:00:00\", \"2019-03-08T00:00:00\", \"2019-03-09T00:00:00\", \"2019-03-10T00:00:00\", \"2019-03-11T00:00:00\", \"2019-03-12T00:00:00\", \"2019-03-13T00:00:00\", \"2019-03-14T00:00:00\", \"2019-03-15T00:00:00\", \"2019-03-16T00:00:00\", \"2019-03-17T00:00:00\", \"2019-03-18T00:00:00\", \"2019-03-19T00:00:00\", \"2019-03-20T00:00:00\", \"2019-03-21T00:00:00\", \"2019-03-22T00:00:00\", \"2019-03-23T00:00:00\", \"2019-03-24T00:00:00\", \"2019-03-25T00:00:00\", \"2019-03-26T00:00:00\", \"2019-03-27T00:00:00\", \"2019-03-28T00:00:00\", \"2019-03-29T00:00:00\", \"2019-03-30T00:00:00\", \"2019-03-31T00:00:00\", \"2019-04-01T00:00:00\", \"2019-04-02T00:00:00\", \"2019-04-03T00:00:00\", \"2019-04-04T00:00:00\", \"2019-04-05T00:00:00\", \"2019-04-06T00:00:00\", \"2019-04-07T00:00:00\", \"2019-04-08T00:00:00\", \"2019-04-09T00:00:00\", \"2019-04-10T00:00:00\", \"2019-04-11T00:00:00\", \"2019-04-12T00:00:00\", \"2019-04-13T00:00:00\", \"2019-04-14T00:00:00\", \"2019-04-15T00:00:00\", \"2019-04-16T00:00:00\", \"2019-04-17T00:00:00\", \"2019-04-18T00:00:00\", \"2019-04-19T00:00:00\", \"2019-04-20T00:00:00\", \"2019-04-21T00:00:00\", \"2019-04-22T00:00:00\", \"2019-04-23T00:00:00\", \"2019-04-24T00:00:00\", \"2019-04-25T00:00:00\", \"2019-04-26T00:00:00\", \"2019-04-27T00:00:00\", \"2019-04-28T00:00:00\", \"2019-04-29T00:00:00\", \"2019-04-30T00:00:00\", \"2019-05-01T00:00:00\", \"2019-05-02T00:00:00\", \"2019-05-03T00:00:00\", \"2019-05-04T00:00:00\", \"2019-05-05T00:00:00\", \"2019-05-06T00:00:00\", \"2019-05-07T00:00:00\", \"2019-05-08T00:00:00\", \"2019-05-09T00:00:00\", \"2019-05-10T00:00:00\", \"2019-05-11T00:00:00\", \"2019-05-12T00:00:00\", \"2019-05-13T00:00:00\", \"2019-05-14T00:00:00\", \"2019-05-15T00:00:00\", \"2019-05-16T00:00:00\", \"2019-05-17T00:00:00\", \"2019-05-18T00:00:00\", \"2019-05-19T00:00:00\", \"2019-05-20T00:00:00\", \"2019-05-21T00:00:00\", \"2019-05-22T00:00:00\", \"2019-05-23T00:00:00\", \"2019-05-24T00:00:00\", \"2019-05-25T00:00:00\", \"2019-05-26T00:00:00\", \"2019-05-27T00:00:00\", \"2019-05-28T00:00:00\", \"2019-05-29T00:00:00\", \"2019-05-30T00:00:00\", \"2019-05-31T00:00:00\", \"2019-06-01T00:00:00\", \"2019-06-02T00:00:00\", \"2019-06-03T00:00:00\", \"2019-06-04T00:00:00\", \"2019-06-05T00:00:00\", \"2019-06-06T00:00:00\", \"2019-06-07T00:00:00\", \"2019-06-08T00:00:00\", \"2019-06-09T00:00:00\", \"2019-06-10T00:00:00\", \"2019-06-11T00:00:00\", \"2019-06-12T00:00:00\", \"2019-06-13T00:00:00\", \"2019-06-14T00:00:00\", \"2019-06-15T00:00:00\", \"2019-06-16T00:00:00\", \"2019-06-17T00:00:00\", \"2019-06-18T00:00:00\", \"2019-06-19T00:00:00\", \"2019-06-20T00:00:00\", \"2019-06-21T00:00:00\", \"2019-06-22T00:00:00\", \"2019-06-23T00:00:00\", \"2019-06-24T00:00:00\", \"2019-06-25T00:00:00\", \"2019-06-26T00:00:00\", \"2019-06-27T00:00:00\", \"2019-06-28T00:00:00\", \"2019-06-29T00:00:00\", \"2019-06-30T00:00:00\", \"2019-07-01T00:00:00\", \"2019-07-02T00:00:00\", \"2019-07-03T00:00:00\", \"2019-07-04T00:00:00\", \"2019-07-05T00:00:00\", \"2019-07-06T00:00:00\", \"2019-07-07T00:00:00\", \"2019-07-08T00:00:00\", \"2019-07-09T00:00:00\", \"2019-07-10T00:00:00\", \"2019-07-11T00:00:00\", \"2019-07-12T00:00:00\", \"2019-07-13T00:00:00\", \"2019-07-14T00:00:00\", \"2019-07-15T00:00:00\", \"2019-07-16T00:00:00\", \"2019-07-17T00:00:00\", \"2019-07-18T00:00:00\", \"2019-07-19T00:00:00\", \"2019-07-20T00:00:00\", \"2019-07-21T00:00:00\", \"2019-07-22T00:00:00\", \"2019-07-23T00:00:00\", \"2019-07-24T00:00:00\", \"2019-07-25T00:00:00\", \"2019-07-26T00:00:00\", \"2019-07-27T00:00:00\", \"2019-07-28T00:00:00\", \"2019-07-29T00:00:00\", \"2019-07-30T00:00:00\", \"2019-07-31T00:00:00\", \"2019-08-01T00:00:00\", \"2019-08-02T00:00:00\", \"2019-08-03T00:00:00\", \"2019-08-04T00:00:00\", \"2019-08-05T00:00:00\", \"2019-08-06T00:00:00\", \"2019-08-07T00:00:00\", \"2019-08-08T00:00:00\", \"2019-08-09T00:00:00\", \"2019-08-10T00:00:00\", \"2019-08-11T00:00:00\", \"2019-08-12T00:00:00\", \"2019-08-13T00:00:00\", \"2019-08-14T00:00:00\", \"2019-08-15T00:00:00\", \"2019-08-16T00:00:00\", \"2019-08-17T00:00:00\", \"2019-08-18T00:00:00\", \"2019-08-19T00:00:00\", \"2019-08-20T00:00:00\", \"2019-08-21T00:00:00\", \"2019-08-22T00:00:00\", \"2019-08-23T00:00:00\", \"2019-08-24T00:00:00\", \"2019-08-25T00:00:00\", \"2019-08-26T00:00:00\", \"2019-08-27T00:00:00\", \"2019-08-28T00:00:00\", \"2019-08-29T00:00:00\", \"2019-08-30T00:00:00\", \"2019-08-31T00:00:00\", \"2019-09-01T00:00:00\", \"2019-09-02T00:00:00\", \"2019-09-03T00:00:00\", \"2019-09-04T00:00:00\", \"2019-09-05T00:00:00\", \"2019-09-06T00:00:00\", \"2019-09-07T00:00:00\", \"2019-09-08T00:00:00\", \"2019-09-09T00:00:00\", \"2019-09-10T00:00:00\", \"2019-09-11T00:00:00\", \"2019-09-12T00:00:00\", \"2019-09-13T00:00:00\", \"2019-09-14T00:00:00\", \"2019-09-15T00:00:00\", \"2019-09-16T00:00:00\", \"2019-09-17T00:00:00\", \"2019-09-18T00:00:00\", \"2019-09-19T00:00:00\", \"2019-09-20T00:00:00\", \"2019-09-21T00:00:00\", \"2019-09-22T00:00:00\", \"2019-09-23T00:00:00\", \"2019-09-24T00:00:00\"], \"y\": [316.54434775134916, 324.0216092195511, 328.43956855678556, 309.76191594499346, 286.3235575656593, 320.37755147820707, 335.7929266247153, 341.1947925899326, 346.67655556070804, 346.0168577978313, 317.9064158430695, 298.5013653645218, 331.6929715263248, 341.6148457878828, 339.3892894814015, 336.55678137123584, 334.57162612956756, 328.5702284743189, 300.61175119924536, 327.52467263555525, 330.47907123693824, 332.0848163476586, 333.9551771555245, 333.3144095857143, 306.48301207211614, 287.65980235679444, 320.17491015407444, 330.1440357967019, 334.43744583317635, 331.7466089166701, 316.74929507294297, 296.2685916606903, 268.6551230596378, 266.62611725019514, 233.78048832652811, 237.5939330392182, 252.12632702508387, 256.88761248559956, 256.1430988708258, 277.09936551484464, 301.2905091094822, 322.63182823652033, 335.90966650193934, 343.54869286254046, 345.22535651963943, 317.71584754928944, 290.8006217745096, 320.92320135322217, 332.76287029272316, 343.76236979466677, 343.8991480709314, 339.92370356351137, 325.46319496089217, 294.0528667683452, 322.7741198928058, 330.27196722707146, 324.8790443292261, 315.53475376279357, 299.0515551307678, 279.6674245712996, 287.78825150981544, 317.1556184615493, 333.0213222853839, 337.2834205261171, 337.747024449259, 337.83762415862077, 313.3445180245042, 290.50052247230707, 321.7486367388964, 331.26982154521346, 337.26564830875395, 337.95953898170586, 336.32400281697505, 307.87343453165886, 289.0871290706694, 329.6121643947661, 340.5974308601021, 349.9212244957388, 352.18954627168176, 348.24186884927747, 310.17868765878677, 286.17279012446113, 321.5213804126083, 332.9764012336433, 345.912585790813, 349.7945373086035, 349.5173763216734, 317.4078426020741, 290.2142812747508, 322.50937590035795, 333.44575411352514, 320.87793633735174, 298.8654182159751, 288.5708637968749, 286.3185380119532, 283.53943005642293, 329.88138876885176, 346.8165987312198, 362.88161594328284, 362.26599867671723, 357.8715151678324, 324.9790317155421, 298.95180795922874, 329.9190301681757, 337.00292386132475, 337.27293680912254, 342.9376820609271, 347.1307662769257, 323.22065169277784, 306.21283046023547, 354.26495394060015, 364.68943500322104, 378.0140269524157, 375.0369068105817, 369.4833382862508, 339.18775968122486, 324.03626585185526, 367.93414596602315, 369.24236874052883, 327.4281960201264, 354.7707106125355, 356.43088721728316, 328.36788466256854, 311.05836651951074, 350.0651685070395, 348.3237035562992, 328.11553222674127, 329.45127323761585, 331.71392679438, 310.9538578297794, 297.94219471302625, 344.3615365066827, 352.41354986965655, 374.0174800797402, 375.1763062925935, 368.8137341352402, 336.08100709027053, 313.54123675084116, 344.9010160412489, 345.16816446462275, 343.93545342952, 342.03816941004993, 342.08604678371546, 318.78625839090347, 303.3893743578493, 350.2342517616451, 355.64525876715777, 358.410097741276, 358.87318516522646, 361.138913385272, 336.4384245308041, 320.3424184732437, 361.30901194235685, 366.68249035993216, 365.69959461045266, 363.5618995722234, 356.92780619964606, 324.89612232303625, 319.65093342745297, 349.21689766353364, 351.00044236746425, 346.8553516544997, 345.17887380439043, 342.8752840922176, 314.89331550487873, 297.6286896577179, 340.8204313215315, 352.5825402207672, 376.3430304085016, 380.1354572430849, 377.27487568756936, 345.89031438991435, 319.71660062414406, 351.9692455415726, 358.82600456777215, 352.3715320521295, 356.4981570895016, 359.0855570244491, 336.80019737565516, 322.86216918003555, 366.45220582211016, 372.56312784981725, 363.6361195106507, 365.8516123778521, 363.106784152925, 333.81440513497586, 315.7958685332238, 355.921057169497, 364.3239858343601, 366.1131390337944, 369.24014016264675, 367.66226831236474, 342.1335846172273, 326.14920432069897, 365.7168215727806, 372.7668309281766, 377.538998111397, 375.95639150086043, 368.39943100002404, 336.38632226011157, 314.62888119074705, 350.1221139253974, 357.1925985474587, 358.85579893976444, 362.3444335582256, 362.64172916567315, 335.59172309276454, 317.6061749736369, 358.60342770203954, 367.48896679669616, 373.4943626202047, 372.422965231955, 365.9134894233942, 336.1980544338226, 320.4436523147821, 360.23084255293014, 366.0331037789881, 372.2203393917381, 370.3064521905481, 365.30739144706723, 338.62298495820164, 320.59466805163026, 355.90931593734024, 363.20412268364424, 359.99467302110793, 359.8840714105069, 357.34579641044144, 328.2851828562617, 303.3516173821539, 337.0646803535223, 346.7564846400916, 351.09651342907546, 355.3527388417423, 356.6292229068279, 330.9375223340988, 313.89953345659376, 356.14492141222956, 366.1944660895765, 364.91326606613393, 370.1145202061831, 363.56832207930086, 335.3585043528974, 319.69801328921324, 354.2491924203038, 349.2068629800975, 373.4445077292919, 367.9566031739115, 363.7695621090531, 338.0691263958216, 318.7617993339002, 355.71193914458155, 363.86682875016334, 384.3378882142603, 378.0709513568878, 362.11747525558474, 323.0216351282596, 320.375536335349, 351.7146357720196, 357.43792681548, 359.6574012610316, 354.44224145859476, 347.6575501065254, 313.71215484946964, 289.07893973819915, 329.8152868262827, 341.4414568986893]}],\n",
       "                        {\"template\": {\"data\": {\"bar\": [{\"error_x\": {\"color\": \"#2a3f5f\"}, \"error_y\": {\"color\": \"#2a3f5f\"}, \"marker\": {\"line\": {\"color\": \"#E5ECF6\", \"width\": 0.5}}, \"type\": \"bar\"}], \"barpolar\": [{\"marker\": {\"line\": {\"color\": \"#E5ECF6\", \"width\": 0.5}}, \"type\": \"barpolar\"}], \"carpet\": [{\"aaxis\": {\"endlinecolor\": \"#2a3f5f\", \"gridcolor\": \"white\", \"linecolor\": \"white\", \"minorgridcolor\": \"white\", \"startlinecolor\": \"#2a3f5f\"}, \"baxis\": {\"endlinecolor\": \"#2a3f5f\", \"gridcolor\": \"white\", \"linecolor\": \"white\", \"minorgridcolor\": \"white\", \"startlinecolor\": \"#2a3f5f\"}, \"type\": \"carpet\"}], \"choropleth\": [{\"colorbar\": {\"outlinewidth\": 0, \"ticks\": \"\"}, \"type\": \"choropleth\"}], \"contour\": [{\"colorbar\": {\"outlinewidth\": 0, \"ticks\": \"\"}, \"colorscale\": [[0.0, \"#0d0887\"], [0.1111111111111111, \"#46039f\"], [0.2222222222222222, \"#7201a8\"], [0.3333333333333333, \"#9c179e\"], [0.4444444444444444, \"#bd3786\"], [0.5555555555555556, \"#d8576b\"], [0.6666666666666666, \"#ed7953\"], [0.7777777777777778, \"#fb9f3a\"], [0.8888888888888888, \"#fdca26\"], [1.0, \"#f0f921\"]], \"type\": \"contour\"}], \"contourcarpet\": [{\"colorbar\": {\"outlinewidth\": 0, \"ticks\": \"\"}, \"type\": \"contourcarpet\"}], \"heatmap\": [{\"colorbar\": {\"outlinewidth\": 0, \"ticks\": \"\"}, \"colorscale\": [[0.0, \"#0d0887\"], [0.1111111111111111, \"#46039f\"], [0.2222222222222222, \"#7201a8\"], [0.3333333333333333, \"#9c179e\"], [0.4444444444444444, \"#bd3786\"], [0.5555555555555556, \"#d8576b\"], [0.6666666666666666, \"#ed7953\"], [0.7777777777777778, \"#fb9f3a\"], [0.8888888888888888, \"#fdca26\"], [1.0, \"#f0f921\"]], \"type\": \"heatmap\"}], \"heatmapgl\": [{\"colorbar\": {\"outlinewidth\": 0, \"ticks\": \"\"}, \"colorscale\": [[0.0, \"#0d0887\"], [0.1111111111111111, \"#46039f\"], [0.2222222222222222, \"#7201a8\"], [0.3333333333333333, \"#9c179e\"], [0.4444444444444444, \"#bd3786\"], [0.5555555555555556, \"#d8576b\"], [0.6666666666666666, \"#ed7953\"], [0.7777777777777778, \"#fb9f3a\"], [0.8888888888888888, \"#fdca26\"], [1.0, \"#f0f921\"]], \"type\": \"heatmapgl\"}], \"histogram\": [{\"marker\": {\"colorbar\": {\"outlinewidth\": 0, \"ticks\": \"\"}}, \"type\": \"histogram\"}], \"histogram2d\": [{\"colorbar\": {\"outlinewidth\": 0, \"ticks\": \"\"}, \"colorscale\": [[0.0, \"#0d0887\"], [0.1111111111111111, \"#46039f\"], [0.2222222222222222, \"#7201a8\"], [0.3333333333333333, \"#9c179e\"], [0.4444444444444444, \"#bd3786\"], [0.5555555555555556, \"#d8576b\"], [0.6666666666666666, \"#ed7953\"], [0.7777777777777778, \"#fb9f3a\"], [0.8888888888888888, \"#fdca26\"], [1.0, \"#f0f921\"]], \"type\": \"histogram2d\"}], \"histogram2dcontour\": [{\"colorbar\": {\"outlinewidth\": 0, \"ticks\": \"\"}, \"colorscale\": [[0.0, \"#0d0887\"], [0.1111111111111111, \"#46039f\"], [0.2222222222222222, \"#7201a8\"], [0.3333333333333333, \"#9c179e\"], [0.4444444444444444, \"#bd3786\"], [0.5555555555555556, \"#d8576b\"], [0.6666666666666666, \"#ed7953\"], [0.7777777777777778, \"#fb9f3a\"], [0.8888888888888888, \"#fdca26\"], [1.0, \"#f0f921\"]], \"type\": \"histogram2dcontour\"}], \"mesh3d\": [{\"colorbar\": {\"outlinewidth\": 0, \"ticks\": \"\"}, \"type\": \"mesh3d\"}], \"parcoords\": [{\"line\": {\"colorbar\": {\"outlinewidth\": 0, \"ticks\": \"\"}}, \"type\": \"parcoords\"}], \"pie\": [{\"automargin\": true, \"type\": \"pie\"}], \"scatter\": [{\"marker\": {\"colorbar\": {\"outlinewidth\": 0, \"ticks\": \"\"}}, \"type\": \"scatter\"}], \"scatter3d\": [{\"line\": {\"colorbar\": {\"outlinewidth\": 0, \"ticks\": \"\"}}, \"marker\": {\"colorbar\": {\"outlinewidth\": 0, \"ticks\": \"\"}}, \"type\": \"scatter3d\"}], \"scattercarpet\": [{\"marker\": {\"colorbar\": {\"outlinewidth\": 0, \"ticks\": \"\"}}, \"type\": \"scattercarpet\"}], \"scattergeo\": [{\"marker\": {\"colorbar\": {\"outlinewidth\": 0, \"ticks\": \"\"}}, \"type\": \"scattergeo\"}], \"scattergl\": [{\"marker\": {\"colorbar\": {\"outlinewidth\": 0, \"ticks\": \"\"}}, \"type\": \"scattergl\"}], \"scattermapbox\": [{\"marker\": {\"colorbar\": {\"outlinewidth\": 0, \"ticks\": \"\"}}, \"type\": \"scattermapbox\"}], \"scatterpolar\": [{\"marker\": {\"colorbar\": {\"outlinewidth\": 0, \"ticks\": \"\"}}, \"type\": \"scatterpolar\"}], \"scatterpolargl\": [{\"marker\": {\"colorbar\": {\"outlinewidth\": 0, \"ticks\": \"\"}}, \"type\": \"scatterpolargl\"}], \"scatterternary\": [{\"marker\": {\"colorbar\": {\"outlinewidth\": 0, \"ticks\": \"\"}}, \"type\": \"scatterternary\"}], \"surface\": [{\"colorbar\": {\"outlinewidth\": 0, \"ticks\": \"\"}, \"colorscale\": [[0.0, \"#0d0887\"], [0.1111111111111111, \"#46039f\"], [0.2222222222222222, \"#7201a8\"], [0.3333333333333333, \"#9c179e\"], [0.4444444444444444, \"#bd3786\"], [0.5555555555555556, \"#d8576b\"], [0.6666666666666666, \"#ed7953\"], [0.7777777777777778, \"#fb9f3a\"], [0.8888888888888888, \"#fdca26\"], [1.0, \"#f0f921\"]], \"type\": \"surface\"}], \"table\": [{\"cells\": {\"fill\": {\"color\": \"#EBF0F8\"}, \"line\": {\"color\": \"white\"}}, \"header\": {\"fill\": {\"color\": \"#C8D4E3\"}, \"line\": {\"color\": \"white\"}}, \"type\": \"table\"}]}, \"layout\": {\"annotationdefaults\": {\"arrowcolor\": \"#2a3f5f\", \"arrowhead\": 0, \"arrowwidth\": 1}, \"coloraxis\": {\"colorbar\": {\"outlinewidth\": 0, \"ticks\": \"\"}}, \"colorscale\": {\"diverging\": [[0, \"#8e0152\"], [0.1, \"#c51b7d\"], [0.2, \"#de77ae\"], [0.3, \"#f1b6da\"], [0.4, \"#fde0ef\"], [0.5, \"#f7f7f7\"], [0.6, \"#e6f5d0\"], [0.7, \"#b8e186\"], [0.8, \"#7fbc41\"], [0.9, \"#4d9221\"], [1, \"#276419\"]], \"sequential\": [[0.0, \"#0d0887\"], [0.1111111111111111, \"#46039f\"], [0.2222222222222222, \"#7201a8\"], [0.3333333333333333, \"#9c179e\"], [0.4444444444444444, \"#bd3786\"], [0.5555555555555556, \"#d8576b\"], [0.6666666666666666, \"#ed7953\"], [0.7777777777777778, \"#fb9f3a\"], [0.8888888888888888, \"#fdca26\"], [1.0, \"#f0f921\"]], \"sequentialminus\": [[0.0, \"#0d0887\"], [0.1111111111111111, \"#46039f\"], [0.2222222222222222, \"#7201a8\"], [0.3333333333333333, \"#9c179e\"], [0.4444444444444444, \"#bd3786\"], [0.5555555555555556, \"#d8576b\"], [0.6666666666666666, \"#ed7953\"], [0.7777777777777778, \"#fb9f3a\"], [0.8888888888888888, \"#fdca26\"], [1.0, \"#f0f921\"]]}, \"colorway\": [\"#636efa\", \"#EF553B\", \"#00cc96\", \"#ab63fa\", \"#FFA15A\", \"#19d3f3\", \"#FF6692\", \"#B6E880\", \"#FF97FF\", \"#FECB52\"], \"font\": {\"color\": \"#2a3f5f\"}, \"geo\": {\"bgcolor\": \"white\", \"lakecolor\": \"white\", \"landcolor\": \"#E5ECF6\", \"showlakes\": true, \"showland\": true, \"subunitcolor\": \"white\"}, \"hoverlabel\": {\"align\": \"left\"}, \"hovermode\": \"closest\", \"mapbox\": {\"style\": \"light\"}, \"paper_bgcolor\": \"white\", \"plot_bgcolor\": \"#E5ECF6\", \"polar\": {\"angularaxis\": {\"gridcolor\": \"white\", \"linecolor\": \"white\", \"ticks\": \"\"}, \"bgcolor\": \"#E5ECF6\", \"radialaxis\": {\"gridcolor\": \"white\", \"linecolor\": \"white\", \"ticks\": \"\"}}, \"scene\": {\"xaxis\": {\"backgroundcolor\": \"#E5ECF6\", \"gridcolor\": \"white\", \"gridwidth\": 2, \"linecolor\": \"white\", \"showbackground\": true, \"ticks\": \"\", \"zerolinecolor\": \"white\"}, \"yaxis\": {\"backgroundcolor\": \"#E5ECF6\", \"gridcolor\": \"white\", \"gridwidth\": 2, \"linecolor\": \"white\", \"showbackground\": true, \"ticks\": \"\", \"zerolinecolor\": \"white\"}, \"zaxis\": {\"backgroundcolor\": \"#E5ECF6\", \"gridcolor\": \"white\", \"gridwidth\": 2, \"linecolor\": \"white\", \"showbackground\": true, \"ticks\": \"\", \"zerolinecolor\": \"white\"}}, \"shapedefaults\": {\"line\": {\"color\": \"#2a3f5f\"}}, \"ternary\": {\"aaxis\": {\"gridcolor\": \"white\", \"linecolor\": \"white\", \"ticks\": \"\"}, \"baxis\": {\"gridcolor\": \"white\", \"linecolor\": \"white\", \"ticks\": \"\"}, \"bgcolor\": \"#E5ECF6\", \"caxis\": {\"gridcolor\": \"white\", \"linecolor\": \"white\", \"ticks\": \"\"}}, \"title\": {\"x\": 0.05}, \"xaxis\": {\"automargin\": true, \"gridcolor\": \"white\", \"linecolor\": \"white\", \"ticks\": \"\", \"title\": {\"standoff\": 15}, \"zerolinecolor\": \"white\", \"zerolinewidth\": 2}, \"yaxis\": {\"automargin\": true, \"gridcolor\": \"white\", \"linecolor\": \"white\", \"ticks\": \"\", \"title\": {\"standoff\": 15}, \"zerolinecolor\": \"white\", \"zerolinewidth\": 2}}}, \"title\": {\"text\": \"\\u9810\\u6e2c\\u503c vs \\u5be6\\u969b\\u503c\"}, \"xaxis\": {\"title\": {\"text\": \"\\u65e5\\u671f\"}}, \"yaxis\": {\"title\": {\"text\": \"\\u5de5\\u696d\\u7528\\u96fb\\uff08\\u767e\\u842c\\u5ea6\\uff09\"}}},\n",
       "                        {\"responsive\": true}\n",
       "                    ).then(function(){\n",
       "                            \n",
       "var gd = document.getElementById('d4379737-e439-4510-b2d7-2bde095e650e');\n",
       "var x = new MutationObserver(function (mutations, observer) {{\n",
       "        var display = window.getComputedStyle(gd).display;\n",
       "        if (!display || display === 'none') {{\n",
       "            console.log([gd, 'removed!']);\n",
       "            Plotly.purge(gd);\n",
       "            observer.disconnect();\n",
       "        }}\n",
       "}});\n",
       "\n",
       "// Listen for the removal of the full notebook cells\n",
       "var notebookContainer = gd.closest('#notebook-container');\n",
       "if (notebookContainer) {{\n",
       "    x.observe(notebookContainer, {childList: true});\n",
       "}}\n",
       "\n",
       "// Listen for the clearing of the current output cell\n",
       "var outputEl = gd.closest('.output');\n",
       "if (outputEl) {{\n",
       "    x.observe(outputEl, {childList: true});\n",
       "}}\n",
       "\n",
       "                        })\n",
       "                };\n",
       "                });\n",
       "            </script>\n",
       "        </div>"
      ]
     },
     "metadata": {},
     "output_type": "display_data"
    }
   ],
   "source": [
    "ground_truth = go.Scatter(x=date_range, y=truth, name='truth')\n",
    "predict_answer = go.Scatter(x=date_range, y=pred, name='predict')\n",
    "layout = go.Layout(\n",
    "    title = '預測值 vs 實際值',\n",
    "    xaxis = dict(title = '日期'),\n",
    "    yaxis = dict(title = '工業用電（百萬度）')\n",
    ")\n",
    "fig = go.Figure(data=[ground_truth, predict_answer], layout=layout)\n",
    "iplot(fig)"
   ]
  },
  {
   "cell_type": "markdown",
   "metadata": {},
   "source": [
    "---\n",
    "## Save Model"
   ]
  },
  {
   "cell_type": "code",
   "execution_count": 74,
   "metadata": {},
   "outputs": [],
   "source": [
    "# import h5py\n",
    "# model.save('Model/IndustryElec_RNN(7to7)_XT_Best(1.96).h5')"
   ]
  },
  {
   "cell_type": "code",
   "execution_count": null,
   "metadata": {},
   "outputs": [],
   "source": []
  }
 ],
 "metadata": {
  "kernelspec": {
   "display_name": "Python (tensorflow-gpu)",
   "language": "python",
   "name": "tensorflow-gpu"
  },
  "language_info": {
   "codemirror_mode": {
    "name": "ipython",
    "version": 3
   },
   "file_extension": ".py",
   "mimetype": "text/x-python",
   "name": "python",
   "nbconvert_exporter": "python",
   "pygments_lexer": "ipython3",
   "version": "3.6.10"
  }
 },
 "nbformat": 4,
 "nbformat_minor": 4
}
