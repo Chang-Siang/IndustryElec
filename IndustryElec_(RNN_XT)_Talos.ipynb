{
 "cells": [
  {
   "cell_type": "code",
   "execution_count": 56,
   "metadata": {},
   "outputs": [],
   "source": [
    "import pandas as pd\n",
    "import numpy as np\n",
    "import time"
   ]
  },
  {
   "cell_type": "code",
   "execution_count": 57,
   "metadata": {},
   "outputs": [],
   "source": [
    "import matplotlib.pyplot as plt\n",
    "%matplotlib inline\n",
    "import plotly.graph_objs as go\n",
    "from plotly.offline import iplot"
   ]
  },
  {
   "cell_type": "markdown",
   "metadata": {},
   "source": [
    "---\n",
    "### Sub：Metrics"
   ]
  },
  {
   "cell_type": "code",
   "execution_count": 58,
   "metadata": {},
   "outputs": [],
   "source": [
    "def MAPE(y_true, y_pred): \n",
    "    y_true, y_pred = np.array(y_true), np.array(y_pred)\n",
    "    return np.mean(np.abs((y_true - y_pred) / y_true)) * 100\n",
    "\n",
    "def RMSE(predictions, targets):\n",
    "    return np.sqrt(((predictions - targets) ** 2).mean())\n",
    "\n",
    "def calcError(origin, forecast):\n",
    "    print(\"RMSE\", RMSE(origin, forecast))\n",
    "    print(\"MAPE\", MAPE(origin, forecast))"
   ]
  },
  {
   "cell_type": "code",
   "execution_count": 59,
   "metadata": {
    "scrolled": false
   },
   "outputs": [],
   "source": [
    "# 顯示比較圖表，可以選擇是否儲存\n",
    "def showPlot(true, prediction, title , sub_title, size='M', save=False):\n",
    "    if(size=='L'):\n",
    "        plt.figure(figsize=(28, 10))\n",
    "    plt.plot(true, color = 'red', label = 'Real')\n",
    "    plt.plot(prediction, color = 'blue', label = 'Prediction')\n",
    "    plt.title('Industry Elec Prediction' + title + ' ' + sub_title + ' t' + str(t))\n",
    "    plt.xlabel('Time')\n",
    "    plt.ylabel('kW')\n",
    "    plt.legend()\n",
    "    if(save):\n",
    "        plt.savefig('Image/' + title + '-' + sub_title + '-' + str(t) + '.png')\n",
    "    plt.show()"
   ]
  },
  {
   "cell_type": "markdown",
   "metadata": {},
   "source": [
    "---\n",
    "### Sub：Data Processing"
   ]
  },
  {
   "cell_type": "code",
   "execution_count": 60,
   "metadata": {},
   "outputs": [],
   "source": [
    "# 資料維度擷取\n",
    "def augFeatures(data, features_select):\n",
    "    data = pd.DataFrame(data[features_select])\n",
    "    data.shape\n",
    "    return data"
   ]
  },
  {
   "cell_type": "code",
   "execution_count": 61,
   "metadata": {},
   "outputs": [],
   "source": [
    "# 資料正規化 & 尺度還原\n",
    "from sklearn.preprocessing import MinMaxScaler\n",
    "def normalize(data):\n",
    "    sc = MinMaxScaler(feature_range = (0, 1))\n",
    "    data_scaled = pd.DataFrame(sc.fit_transform(data))\n",
    "    return sc, data_scaled \n",
    "\n",
    "def deNormalize(sc, value):\n",
    "    value_unscaled = value * (sc.data_max_[0]-sc.data_min_[0]) + sc.data_min_[0]\n",
    "    return value_unscaled "
   ]
  },
  {
   "cell_type": "code",
   "execution_count": 62,
   "metadata": {},
   "outputs": [],
   "source": [
    "def split_dataset(data, pastDay=7, futureDay=7):\n",
    "    split_num_start = df[df['Date'] == trainFrom].index.item()\n",
    "    split_num = df[df['Date'] == testFrom].index.item()\n",
    "    split_num_end = df[df['Date'] == testTo].index.item()\n",
    "    RawTrain = data[split_num_start:split_num]\n",
    "    SelfTest = data[split_num_start:split_num - futureDay]\n",
    "    SelfTruth = data[split_num_start + pastDay:split_num][0]\n",
    "    RawTest = data[split_num - pastDay:split_num_end + 1 - futureDay]\n",
    "    RawTrurh = data[split_num:split_num_end + 1][0]\n",
    "    print(\"RawTrain\", RawTrain.shape)\n",
    "    print(\"RawTest, RawTrurh\", RawTest.shape, RawTrurh.shape)\n",
    "    print(\"SelfTest, SelfTruth\", SelfTest.shape, SelfTruth.shape)\n",
    "    return RawTrain, RawTest, RawTrurh, SelfTest, SelfTruth"
   ]
  },
  {
   "cell_type": "code",
   "execution_count": 63,
   "metadata": {},
   "outputs": [],
   "source": [
    "def buildTrain(train, pastDay=7, futureDay=7):\n",
    "    X_train, Y_train = [], []\n",
    "    for i in range(pastDay, len(train)-futureDay):\n",
    "        X_train.append(train[i-pastDay:i])\n",
    "        Y_train.append(train[i:i+futureDay, 0])\n",
    "    X_train, Y_train = np.array(X_train), np.array(Y_train)  \n",
    "    X_train = np.reshape(X_train, (X_train.shape[0], X_train.shape[1], X_train.shape[2]))\n",
    "    return X_train, Y_train"
   ]
  },
  {
   "cell_type": "code",
   "execution_count": 64,
   "metadata": {},
   "outputs": [],
   "source": [
    "def buildTest(test, pastDay=7, futureDay=7):\n",
    "    X_test = []\n",
    "    for i in range(0, int(len(test)/futureDay)-(pastDay-futureDay)):\n",
    "        X_test.append(test[futureDay*i:futureDay*i+pastDay])\n",
    "    X_test = np.array(X_test)\n",
    "    X_test = np.reshape(X_test, (X_test.shape[0], X_test.shape[1], X_test.shape[2]))  \n",
    "    return X_test"
   ]
  },
  {
   "cell_type": "code",
   "execution_count": 76,
   "metadata": {},
   "outputs": [],
   "source": [
    "def splitData(X, Y, rate):\n",
    "    X_train = X[int(X.shape[0]*rate):]\n",
    "    Y_train = Y[int(Y.shape[0]*rate):]\n",
    "    X_val = X[:int(X.shape[0]*rate)]\n",
    "    Y_val = Y[:int(Y.shape[0]*rate)]\n",
    "    return X_train, Y_train, X_val, Y_val"
   ]
  },
  {
   "cell_type": "code",
   "execution_count": 65,
   "metadata": {},
   "outputs": [],
   "source": [
    "def forecast(model, input_data, shape):\n",
    "    forecast_temp = model.predict(input_data)\n",
    "    forecast = []\n",
    "    for i in range(forecast_temp.shape[0]):\n",
    "        forecast= np.concatenate((forecast, forecast_temp[i]), axis=0)\n",
    "    forecast = np.reshape(forecast, (shape[0], shape[1]))\n",
    "    return forecast"
   ]
  },
  {
   "cell_type": "markdown",
   "metadata": {},
   "source": [
    "---\n",
    "### Sub：Model\n",
    "Configuring the Keras Model for Talos"
   ]
  },
  {
   "cell_type": "code",
   "execution_count": 66,
   "metadata": {},
   "outputs": [],
   "source": [
    "import sys\n",
    "import talos"
   ]
  },
  {
   "cell_type": "code",
   "execution_count": 67,
   "metadata": {},
   "outputs": [],
   "source": [
    "import tensorflow as tf\n",
    "from keras.models import Sequential\n",
    "from keras.layers import Dense, TimeDistributed, Flatten, RepeatVector, Activation\n",
    "from keras.layers import SimpleRNN, LSTM, CuDNNLSTM\n",
    "from keras.layers import Dropout, BatchNormalization, Bidirectional\n",
    "from keras import optimizers\n",
    "from keras.callbacks import EarlyStopping, ReduceLROnPlateau, ModelCheckpoint"
   ]
  },
  {
   "cell_type": "code",
   "execution_count": 69,
   "metadata": {},
   "outputs": [],
   "source": [
    "# first we have to make sure to input data and params into the function\n",
    "def create_model(x_train, y_train, x_val, y_val, params):\n",
    "    model = Sequential()\n",
    "    model.add(CuDNNLSTM(units = params['layer_1_node'], input_shape = (x_train.shape[1], x_train.shape[2])))\n",
    "    model.add(Activation(params['activation']))\n",
    "    model.add(RepeatVector(7))\n",
    "    \n",
    "    model.add(CuDNNLSTM(params['layer_2_node'], return_sequences=True))\n",
    "    model.add(Activation(params['activation']))\n",
    "    model.add(Dropout(params['dropout']))\n",
    "    \n",
    "    model.add(TimeDistributed(Dense(params['layer_3_node'], activation='relu')))\n",
    "    model.add(Dropout(params['dropout']))\n",
    "    model.add(Flatten())\n",
    "    model.add(Dense(units = 7))\n",
    "    \n",
    "    optimizer = optimizers.Adam(lr=params['learning_rate'], beta_1=0.9, beta_2=0.999, epsilon=None, decay=0.0, amsgrad=False)\n",
    "    model.compile(optimizer = optimizer, loss = params['losses'], metrics=['mae'])\n",
    "    \n",
    "    model.compile(optimizer = 'Adam', \n",
    "                  loss = params['losses'], \n",
    "                  metrics=['mse', talos.utils.metrics.mae])\n",
    "    \n",
    "    reduce_lr = ReduceLROnPlateau(monitor='val_loss', factor=params['lr_reduce_rate'], patience=20, mode='min', verbose=0)\n",
    "    earlyStop=EarlyStopping(monitor=\"val_loss\", patience=50, mode=\"min\", restore_best_weights=True)\n",
    "    \n",
    "    history = model.fit(x_train, y_train, \n",
    "                        validation_data=[x_val, y_val],\n",
    "                        epochs=1000, batch_size=params['batch_size'],\n",
    "                        verbose=0, \n",
    "                        callbacks=[reduce_lr, earlyStop])\n",
    "    return history, model    "
   ]
  },
  {
   "cell_type": "code",
   "execution_count": 70,
   "metadata": {},
   "outputs": [],
   "source": [
    "p = {'losses': ['mean_squared_error'],\n",
    "#      'lr': [0.0001, 0.1],\n",
    "     'activation':['relu', 'elu'],\n",
    "     'learning_rate': [0.0001,0.001,0.01,0.1],\n",
    "     'lr_reduce_rate': [0.001, 0.01, 0.1, 0.3, 0.5],\n",
    "     'dropout': (0.0, 0.5, 0.1),\n",
    "     'layer_1_node': [50, 100, 200, 300, 400],\n",
    "     'layer_2_node': [50, 100, 200, 300, 400],\n",
    "     'layer_3_node': [50, 100, 200, 300, 400],\n",
    "     'batch_size': [16, 32, 64, 128]\n",
    "    }"
   ]
  },
  {
   "cell_type": "markdown",
   "metadata": {},
   "source": [
    "---\n",
    "### Main"
   ]
  },
  {
   "cell_type": "code",
   "execution_count": 71,
   "metadata": {
    "scrolled": false
   },
   "outputs": [
    {
     "data": {
      "text/plain": [
       "(1369, 12)"
      ]
     },
     "execution_count": 71,
     "metadata": {},
     "output_type": "execute_result"
    }
   ],
   "source": [
    "df = pd.read_csv('Data/industryElec_processed_20160101_20190930.csv')\n",
    "df['Date'] = pd.to_datetime(df['Date'], format='%Y-%m-%d')\n",
    "df.shape"
   ]
  },
  {
   "cell_type": "code",
   "execution_count": 72,
   "metadata": {},
   "outputs": [],
   "source": [
    "features = [\n",
    "            'kW', \n",
    "            'PeakLoad(MW)_shift7', \n",
    "            'isHoliday_shift7', \n",
    "            'dayOfYear', \n",
    "            'weekUpdate_shift7', \n",
    "            'Temp_Taipei_shift7'\n",
    "           ]"
   ]
  },
  {
   "cell_type": "code",
   "execution_count": 73,
   "metadata": {},
   "outputs": [],
   "source": [
    "trainFrom = '2017-01-04'\n",
    "trainTo = '2019-01-01'\n",
    "testFrom = '2019-01-02'\n",
    "testTo = '2019-09-24'"
   ]
  },
  {
   "cell_type": "code",
   "execution_count": 74,
   "metadata": {},
   "outputs": [],
   "source": [
    "# 特徵選取\n",
    "RawData = augFeatures(df, features)\n",
    "# 正規化\n",
    "sc, RawData = normalize(RawData)"
   ]
  },
  {
   "cell_type": "code",
   "execution_count": 101,
   "metadata": {},
   "outputs": [
    {
     "name": "stdout",
     "output_type": "stream",
     "text": [
      "RawTrain (728, 6)\n",
      "RawTest, RawTrurh (266, 6) (266,)\n",
      "SelfTest, SelfTruth (721, 6) (721,)\n"
     ]
    }
   ],
   "source": [
    "# 自定義變數\n",
    "Timesteps = 7\n",
    "OutputDay = 7\n",
    "\n",
    "# 資料選取\n",
    "RawTrain, RawTest, RawTrurh, SelfTest, SelfTruth  = split_dataset(RawData, Timesteps, OutputDay)\n",
    "\n",
    "# 資料打包\n",
    "X_train, Y_train = buildTrain(RawTrain.values, Timesteps, OutputDay)\n",
    "S_test = buildTest(SelfTest.values, Timesteps, OutputDay)\n",
    "X_test = buildTest(RawTest.values, Timesteps, OutputDay)\n",
    "\n",
    "# 驗證資料\n",
    "X, Y, Xv, Yv= splitData(X_train, Y_train, 0.3)"
   ]
  },
  {
   "cell_type": "code",
   "execution_count": 87,
   "metadata": {},
   "outputs": [
    {
     "name": "stderr",
     "output_type": "stream",
     "text": [
      "\n",
      "  0%|                                                                                            | 0/5 [00:00<?, ?it/s]\u001b[A\n",
      " 20%|████████████████▊                                                                   | 1/5 [00:54<03:36, 54.05s/it]\u001b[A\n",
      " 40%|█████████████████████████████████▌                                                  | 2/5 [01:37<02:32, 50.97s/it]\u001b[A\n",
      " 60%|██████████████████████████████████████████████████▍                                 | 3/5 [04:02<02:38, 79.19s/it]\u001b[A\n",
      " 80%|███████████████████████████████████████████████████████████████████▏                | 4/5 [04:43<01:07, 67.50s/it]\u001b[A\n",
      "100%|████████████████████████████████████████████████████████████████████████████████████| 5/5 [05:36<00:00, 67.24s/it]\u001b[A"
     ]
    },
    {
     "name": "stdout",
     "output_type": "stream",
     "text": [
      "Wall time: 5min 36s\n"
     ]
    },
    {
     "name": "stderr",
     "output_type": "stream",
     "text": [
      "\n"
     ]
    }
   ],
   "source": [
    "%%time\n",
    "# run the experiment\n",
    "scan_object = talos.Scan(x=X_train, y=Y_train, val_split=0.1,\n",
    "                         model=create_model,\n",
    "                         params=p,\n",
    "                         reduction_metric='val_loss', minimize_loss=True,\n",
    "                         # round_limit=5,\n",
    "                         grid_downsample=0.01\n",
    "                         experiment_name='breast_cancer',\n",
    "                         experiment_no='2')"
   ]
  },
  {
   "cell_type": "code",
   "execution_count": 94,
   "metadata": {
    "scrolled": false
   },
   "outputs": [
    {
     "data": {
      "text/html": [
       "<div>\n",
       "<style scoped>\n",
       "    .dataframe tbody tr th:only-of-type {\n",
       "        vertical-align: middle;\n",
       "    }\n",
       "\n",
       "    .dataframe tbody tr th {\n",
       "        vertical-align: top;\n",
       "    }\n",
       "\n",
       "    .dataframe thead th {\n",
       "        text-align: right;\n",
       "    }\n",
       "</style>\n",
       "<table border=\"1\" class=\"dataframe\">\n",
       "  <thead>\n",
       "    <tr style=\"text-align: right;\">\n",
       "      <th></th>\n",
       "      <th>round_epochs</th>\n",
       "      <th>val_loss</th>\n",
       "      <th>val_mae</th>\n",
       "      <th>val_f1score</th>\n",
       "      <th>loss</th>\n",
       "      <th>mae</th>\n",
       "      <th>f1score</th>\n",
       "      <th>lr</th>\n",
       "      <th>activation</th>\n",
       "      <th>batch_size</th>\n",
       "      <th>dropout</th>\n",
       "      <th>layer_1_node</th>\n",
       "      <th>layer_2_node</th>\n",
       "      <th>layer_3_node</th>\n",
       "      <th>learning_rate</th>\n",
       "      <th>losses</th>\n",
       "      <th>lr_reduce_rate</th>\n",
       "    </tr>\n",
       "  </thead>\n",
       "  <tbody>\n",
       "    <tr>\n",
       "      <th>4</th>\n",
       "      <td>185</td>\n",
       "      <td>0.001269</td>\n",
       "      <td>0.026982</td>\n",
       "      <td>0.420887</td>\n",
       "      <td>0.000819</td>\n",
       "      <td>0.021388</td>\n",
       "      <td>0.473800</td>\n",
       "      <td>1.000000e-08</td>\n",
       "      <td>relu</td>\n",
       "      <td>32</td>\n",
       "      <td>0.0</td>\n",
       "      <td>300</td>\n",
       "      <td>100</td>\n",
       "      <td>200</td>\n",
       "      <td>0.0010</td>\n",
       "      <td>mean_squared_error</td>\n",
       "      <td>0.10</td>\n",
       "    </tr>\n",
       "    <tr>\n",
       "      <th>3</th>\n",
       "      <td>203</td>\n",
       "      <td>0.001566</td>\n",
       "      <td>0.028546</td>\n",
       "      <td>0.388960</td>\n",
       "      <td>0.000973</td>\n",
       "      <td>0.022973</td>\n",
       "      <td>0.476158</td>\n",
       "      <td>8.100000e-06</td>\n",
       "      <td>relu</td>\n",
       "      <td>64</td>\n",
       "      <td>0.0</td>\n",
       "      <td>100</td>\n",
       "      <td>300</td>\n",
       "      <td>400</td>\n",
       "      <td>0.0001</td>\n",
       "      <td>mean_squared_error</td>\n",
       "      <td>0.30</td>\n",
       "    </tr>\n",
       "    <tr>\n",
       "      <th>0</th>\n",
       "      <td>160</td>\n",
       "      <td>0.001485</td>\n",
       "      <td>0.028836</td>\n",
       "      <td>0.427523</td>\n",
       "      <td>0.001010</td>\n",
       "      <td>0.023648</td>\n",
       "      <td>0.491523</td>\n",
       "      <td>1.000000e-11</td>\n",
       "      <td>relu</td>\n",
       "      <td>32</td>\n",
       "      <td>0.0</td>\n",
       "      <td>300</td>\n",
       "      <td>200</td>\n",
       "      <td>300</td>\n",
       "      <td>0.0001</td>\n",
       "      <td>mean_squared_error</td>\n",
       "      <td>0.01</td>\n",
       "    </tr>\n",
       "    <tr>\n",
       "      <th>2</th>\n",
       "      <td>237</td>\n",
       "      <td>0.001500</td>\n",
       "      <td>0.029986</td>\n",
       "      <td>0.442244</td>\n",
       "      <td>0.000892</td>\n",
       "      <td>0.022767</td>\n",
       "      <td>0.476783</td>\n",
       "      <td>3.906250e-06</td>\n",
       "      <td>elu</td>\n",
       "      <td>16</td>\n",
       "      <td>0.0</td>\n",
       "      <td>100</td>\n",
       "      <td>400</td>\n",
       "      <td>50</td>\n",
       "      <td>0.1000</td>\n",
       "      <td>mean_squared_error</td>\n",
       "      <td>0.50</td>\n",
       "    </tr>\n",
       "    <tr>\n",
       "      <th>1</th>\n",
       "      <td>276</td>\n",
       "      <td>0.001923</td>\n",
       "      <td>0.034063</td>\n",
       "      <td>0.396886</td>\n",
       "      <td>0.001529</td>\n",
       "      <td>0.029784</td>\n",
       "      <td>0.494097</td>\n",
       "      <td>7.812500e-06</td>\n",
       "      <td>elu</td>\n",
       "      <td>64</td>\n",
       "      <td>0.0</td>\n",
       "      <td>100</td>\n",
       "      <td>200</td>\n",
       "      <td>300</td>\n",
       "      <td>0.1000</td>\n",
       "      <td>mean_squared_error</td>\n",
       "      <td>0.50</td>\n",
       "    </tr>\n",
       "  </tbody>\n",
       "</table>\n",
       "</div>"
      ],
      "text/plain": [
       "   round_epochs  val_loss   val_mae  val_f1score      loss       mae  \\\n",
       "4           185  0.001269  0.026982     0.420887  0.000819  0.021388   \n",
       "3           203  0.001566  0.028546     0.388960  0.000973  0.022973   \n",
       "0           160  0.001485  0.028836     0.427523  0.001010  0.023648   \n",
       "2           237  0.001500  0.029986     0.442244  0.000892  0.022767   \n",
       "1           276  0.001923  0.034063     0.396886  0.001529  0.029784   \n",
       "\n",
       "    f1score            lr activation  batch_size  dropout  layer_1_node  \\\n",
       "4  0.473800  1.000000e-08       relu          32      0.0           300   \n",
       "3  0.476158  8.100000e-06       relu          64      0.0           100   \n",
       "0  0.491523  1.000000e-11       relu          32      0.0           300   \n",
       "2  0.476783  3.906250e-06        elu          16      0.0           100   \n",
       "1  0.494097  7.812500e-06        elu          64      0.0           100   \n",
       "\n",
       "   layer_2_node  layer_3_node  learning_rate              losses  \\\n",
       "4           100           200         0.0010  mean_squared_error   \n",
       "3           300           400         0.0001  mean_squared_error   \n",
       "0           200           300         0.0001  mean_squared_error   \n",
       "2           400            50         0.1000  mean_squared_error   \n",
       "1           200           300         0.1000  mean_squared_error   \n",
       "\n",
       "   lr_reduce_rate  \n",
       "4            0.10  \n",
       "3            0.30  \n",
       "0            0.01  \n",
       "2            0.50  \n",
       "1            0.50  "
      ]
     },
     "execution_count": 94,
     "metadata": {},
     "output_type": "execute_result"
    }
   ],
   "source": [
    "hypers = t\n",
    "hypers_head = hypers.data.sort_values([\"val_mae\"],ascending=True).head(10)\n",
    "hypers_head"
   ]
  },
  {
   "cell_type": "code",
   "execution_count": 187,
   "metadata": {},
   "outputs": [],
   "source": [
    "evaluate_object = talos.Evaluate(t)\n",
    "evaluation = evaluate_object.evaluate(Xv, Yv, folds=10, \n",
    "                         metric='val_loss', asc=True,\n",
    "                         task='multi_label')"
   ]
  },
  {
   "cell_type": "code",
   "execution_count": 129,
   "metadata": {},
   "outputs": [
    {
     "name": "stderr",
     "output_type": "stream",
     "text": [
      "\n",
      "  0%|                                                                                            | 0/5 [00:00<?, ?it/s]\u001b[A\n",
      " 20%|████████████████▊                                                                   | 1/5 [00:02<00:10,  2.58s/it]\u001b[A\n",
      " 40%|█████████████████████████████████▌                                                  | 2/5 [00:05<00:07,  2.56s/it]\u001b[A\n",
      " 60%|██████████████████████████████████████████████████▍                                 | 3/5 [00:08<00:05,  2.77s/it]\u001b[A\n",
      " 80%|███████████████████████████████████████████████████████████████████▏                | 4/5 [00:11<00:02,  2.75s/it]\u001b[A\n",
      "100%|████████████████████████████████████████████████████████████████████████████████████| 5/5 [00:13<00:00,  2.79s/it]\u001b[A"
     ]
    },
    {
     "name": "stdout",
     "output_type": "stream",
     "text": [
      ">> Added evaluation score columns to scan_object.data\n"
     ]
    },
    {
     "name": "stderr",
     "output_type": "stream",
     "text": [
      "\n"
     ]
    }
   ],
   "source": [
    "t.evaluate_models(x_val=Xv,\n",
    "                  y_val=Yv,\n",
    "                  n_models=10,\n",
    "                  metric='val_mae',\n",
    "                  asc=True,\n",
    "                  folds=5,\n",
    "                  shuffle=False,\n",
    "                  task='multi_label')"
   ]
  },
  {
   "cell_type": "code",
   "execution_count": 130,
   "metadata": {},
   "outputs": [
    {
     "data": {
      "text/html": [
       "<div>\n",
       "<style scoped>\n",
       "    .dataframe tbody tr th:only-of-type {\n",
       "        vertical-align: middle;\n",
       "    }\n",
       "\n",
       "    .dataframe tbody tr th {\n",
       "        vertical-align: top;\n",
       "    }\n",
       "\n",
       "    .dataframe thead th {\n",
       "        text-align: right;\n",
       "    }\n",
       "</style>\n",
       "<table border=\"1\" class=\"dataframe\">\n",
       "  <thead>\n",
       "    <tr style=\"text-align: right;\">\n",
       "      <th></th>\n",
       "      <th>round_epochs</th>\n",
       "      <th>val_loss</th>\n",
       "      <th>val_mae</th>\n",
       "      <th>val_f1score</th>\n",
       "      <th>loss</th>\n",
       "      <th>mae</th>\n",
       "      <th>f1score</th>\n",
       "      <th>lr</th>\n",
       "      <th>activation</th>\n",
       "      <th>batch_size</th>\n",
       "      <th>dropout</th>\n",
       "      <th>layer_1_node</th>\n",
       "      <th>layer_2_node</th>\n",
       "      <th>layer_3_node</th>\n",
       "      <th>learning_rate</th>\n",
       "      <th>losses</th>\n",
       "      <th>lr_reduce_rate</th>\n",
       "      <th>eval_f1score_mean</th>\n",
       "      <th>eval_f1score_std</th>\n",
       "    </tr>\n",
       "  </thead>\n",
       "  <tbody>\n",
       "    <tr>\n",
       "      <th>0</th>\n",
       "      <td>160</td>\n",
       "      <td>0.001485</td>\n",
       "      <td>0.028836</td>\n",
       "      <td>0.427523</td>\n",
       "      <td>0.001010</td>\n",
       "      <td>0.023648</td>\n",
       "      <td>0.491523</td>\n",
       "      <td>1.000000e-11</td>\n",
       "      <td>relu</td>\n",
       "      <td>32</td>\n",
       "      <td>0.0</td>\n",
       "      <td>300</td>\n",
       "      <td>200</td>\n",
       "      <td>300</td>\n",
       "      <td>0.0001</td>\n",
       "      <td>mean_squared_error</td>\n",
       "      <td>0.01</td>\n",
       "      <td>0.517169</td>\n",
       "      <td>0.151697</td>\n",
       "    </tr>\n",
       "    <tr>\n",
       "      <th>1</th>\n",
       "      <td>276</td>\n",
       "      <td>0.001923</td>\n",
       "      <td>0.034063</td>\n",
       "      <td>0.396886</td>\n",
       "      <td>0.001529</td>\n",
       "      <td>0.029784</td>\n",
       "      <td>0.494097</td>\n",
       "      <td>7.812500e-06</td>\n",
       "      <td>elu</td>\n",
       "      <td>64</td>\n",
       "      <td>0.0</td>\n",
       "      <td>100</td>\n",
       "      <td>200</td>\n",
       "      <td>300</td>\n",
       "      <td>0.1000</td>\n",
       "      <td>mean_squared_error</td>\n",
       "      <td>0.50</td>\n",
       "      <td>0.459240</td>\n",
       "      <td>0.157393</td>\n",
       "    </tr>\n",
       "    <tr>\n",
       "      <th>2</th>\n",
       "      <td>237</td>\n",
       "      <td>0.001500</td>\n",
       "      <td>0.029986</td>\n",
       "      <td>0.442244</td>\n",
       "      <td>0.000892</td>\n",
       "      <td>0.022767</td>\n",
       "      <td>0.476783</td>\n",
       "      <td>3.906250e-06</td>\n",
       "      <td>elu</td>\n",
       "      <td>16</td>\n",
       "      <td>0.0</td>\n",
       "      <td>100</td>\n",
       "      <td>400</td>\n",
       "      <td>50</td>\n",
       "      <td>0.1000</td>\n",
       "      <td>mean_squared_error</td>\n",
       "      <td>0.50</td>\n",
       "      <td>0.506652</td>\n",
       "      <td>0.137484</td>\n",
       "    </tr>\n",
       "    <tr>\n",
       "      <th>3</th>\n",
       "      <td>203</td>\n",
       "      <td>0.001566</td>\n",
       "      <td>0.028546</td>\n",
       "      <td>0.388960</td>\n",
       "      <td>0.000973</td>\n",
       "      <td>0.022973</td>\n",
       "      <td>0.476158</td>\n",
       "      <td>8.100000e-06</td>\n",
       "      <td>relu</td>\n",
       "      <td>64</td>\n",
       "      <td>0.0</td>\n",
       "      <td>100</td>\n",
       "      <td>300</td>\n",
       "      <td>400</td>\n",
       "      <td>0.0001</td>\n",
       "      <td>mean_squared_error</td>\n",
       "      <td>0.30</td>\n",
       "      <td>0.487438</td>\n",
       "      <td>0.122158</td>\n",
       "    </tr>\n",
       "    <tr>\n",
       "      <th>4</th>\n",
       "      <td>185</td>\n",
       "      <td>0.001269</td>\n",
       "      <td>0.026982</td>\n",
       "      <td>0.420887</td>\n",
       "      <td>0.000819</td>\n",
       "      <td>0.021388</td>\n",
       "      <td>0.473800</td>\n",
       "      <td>1.000000e-08</td>\n",
       "      <td>relu</td>\n",
       "      <td>32</td>\n",
       "      <td>0.0</td>\n",
       "      <td>300</td>\n",
       "      <td>100</td>\n",
       "      <td>200</td>\n",
       "      <td>0.0010</td>\n",
       "      <td>mean_squared_error</td>\n",
       "      <td>0.10</td>\n",
       "      <td>0.523791</td>\n",
       "      <td>0.168933</td>\n",
       "    </tr>\n",
       "  </tbody>\n",
       "</table>\n",
       "</div>"
      ],
      "text/plain": [
       "   round_epochs  val_loss   val_mae  val_f1score      loss       mae  \\\n",
       "0           160  0.001485  0.028836     0.427523  0.001010  0.023648   \n",
       "1           276  0.001923  0.034063     0.396886  0.001529  0.029784   \n",
       "2           237  0.001500  0.029986     0.442244  0.000892  0.022767   \n",
       "3           203  0.001566  0.028546     0.388960  0.000973  0.022973   \n",
       "4           185  0.001269  0.026982     0.420887  0.000819  0.021388   \n",
       "\n",
       "    f1score            lr activation  batch_size  dropout  layer_1_node  \\\n",
       "0  0.491523  1.000000e-11       relu          32      0.0           300   \n",
       "1  0.494097  7.812500e-06        elu          64      0.0           100   \n",
       "2  0.476783  3.906250e-06        elu          16      0.0           100   \n",
       "3  0.476158  8.100000e-06       relu          64      0.0           100   \n",
       "4  0.473800  1.000000e-08       relu          32      0.0           300   \n",
       "\n",
       "   layer_2_node  layer_3_node  learning_rate              losses  \\\n",
       "0           200           300         0.0001  mean_squared_error   \n",
       "1           200           300         0.1000  mean_squared_error   \n",
       "2           400            50         0.1000  mean_squared_error   \n",
       "3           300           400         0.0001  mean_squared_error   \n",
       "4           100           200         0.0010  mean_squared_error   \n",
       "\n",
       "   lr_reduce_rate  eval_f1score_mean  eval_f1score_std  \n",
       "0            0.01           0.517169          0.151697  \n",
       "1            0.50           0.459240          0.157393  \n",
       "2            0.50           0.506652          0.137484  \n",
       "3            0.30           0.487438          0.122158  \n",
       "4            0.10           0.523791          0.168933  "
      ]
     },
     "execution_count": 130,
     "metadata": {},
     "output_type": "execute_result"
    }
   ],
   "source": [
    "t.data"
   ]
  },
  {
   "cell_type": "code",
   "execution_count": 132,
   "metadata": {},
   "outputs": [
    {
     "data": {
      "text/html": [
       "<div>\n",
       "<style scoped>\n",
       "    .dataframe tbody tr th:only-of-type {\n",
       "        vertical-align: middle;\n",
       "    }\n",
       "\n",
       "    .dataframe tbody tr th {\n",
       "        vertical-align: top;\n",
       "    }\n",
       "\n",
       "    .dataframe thead th {\n",
       "        text-align: right;\n",
       "    }\n",
       "</style>\n",
       "<table border=\"1\" class=\"dataframe\">\n",
       "  <thead>\n",
       "    <tr style=\"text-align: right;\">\n",
       "      <th></th>\n",
       "      <th>loss</th>\n",
       "      <th>mae</th>\n",
       "      <th>f1score</th>\n",
       "      <th>lr</th>\n",
       "    </tr>\n",
       "  </thead>\n",
       "  <tbody>\n",
       "    <tr>\n",
       "      <th>0</th>\n",
       "      <td>4.091128</td>\n",
       "      <td>4.936938</td>\n",
       "      <td>5.073883</td>\n",
       "      <td>4.363665</td>\n",
       "    </tr>\n",
       "    <tr>\n",
       "      <th>1</th>\n",
       "      <td>4.923473</td>\n",
       "      <td>5.531501</td>\n",
       "      <td>5.618527</td>\n",
       "      <td>5.221425</td>\n",
       "    </tr>\n",
       "    <tr>\n",
       "      <th>2</th>\n",
       "      <td>5.013634</td>\n",
       "      <td>5.404473</td>\n",
       "      <td>5.467715</td>\n",
       "      <td>4.890572</td>\n",
       "    </tr>\n",
       "    <tr>\n",
       "      <th>3</th>\n",
       "      <td>4.130462</td>\n",
       "      <td>5.143682</td>\n",
       "      <td>5.310441</td>\n",
       "      <td>4.983699</td>\n",
       "    </tr>\n",
       "    <tr>\n",
       "      <th>4</th>\n",
       "      <td>4.166060</td>\n",
       "      <td>5.075781</td>\n",
       "      <td>5.219019</td>\n",
       "      <td>4.544258</td>\n",
       "    </tr>\n",
       "  </tbody>\n",
       "</table>\n",
       "</div>"
      ],
      "text/plain": [
       "       loss       mae   f1score        lr\n",
       "0  4.091128  4.936938  5.073883  4.363665\n",
       "1  4.923473  5.531501  5.618527  5.221425\n",
       "2  5.013634  5.404473  5.467715  4.890572\n",
       "3  4.130462  5.143682  5.310441  4.983699\n",
       "4  4.166060  5.075781  5.219019  4.544258"
      ]
     },
     "execution_count": 132,
     "metadata": {},
     "output_type": "execute_result"
    }
   ],
   "source": [
    "t.learning_entropy"
   ]
  },
  {
   "cell_type": "markdown",
   "metadata": {},
   "source": [
    "#### Analysing the Scan results with Reporting()"
   ]
  },
  {
   "cell_type": "code",
   "execution_count": 139,
   "metadata": {},
   "outputs": [],
   "source": [
    "# use Scan object as input\n",
    "analyze_object = talos.Analyze(t)"
   ]
  },
  {
   "cell_type": "code",
   "execution_count": 140,
   "metadata": {
    "scrolled": true
   },
   "outputs": [
    {
     "data": {
      "text/html": [
       "<div>\n",
       "<style scoped>\n",
       "    .dataframe tbody tr th:only-of-type {\n",
       "        vertical-align: middle;\n",
       "    }\n",
       "\n",
       "    .dataframe tbody tr th {\n",
       "        vertical-align: top;\n",
       "    }\n",
       "\n",
       "    .dataframe thead th {\n",
       "        text-align: right;\n",
       "    }\n",
       "</style>\n",
       "<table border=\"1\" class=\"dataframe\">\n",
       "  <thead>\n",
       "    <tr style=\"text-align: right;\">\n",
       "      <th></th>\n",
       "      <th>round_epochs</th>\n",
       "      <th>val_loss</th>\n",
       "      <th>val_mae</th>\n",
       "      <th>val_f1score</th>\n",
       "      <th>loss</th>\n",
       "      <th>mae</th>\n",
       "      <th>f1score</th>\n",
       "      <th>lr</th>\n",
       "      <th>activation</th>\n",
       "      <th>batch_size</th>\n",
       "      <th>dropout</th>\n",
       "      <th>layer_1_node</th>\n",
       "      <th>layer_2_node</th>\n",
       "      <th>layer_3_node</th>\n",
       "      <th>learning_rate</th>\n",
       "      <th>losses</th>\n",
       "      <th>lr_reduce_rate</th>\n",
       "      <th>eval_f1score_mean</th>\n",
       "      <th>eval_f1score_std</th>\n",
       "    </tr>\n",
       "  </thead>\n",
       "  <tbody>\n",
       "    <tr>\n",
       "      <th>0</th>\n",
       "      <td>160</td>\n",
       "      <td>0.001485</td>\n",
       "      <td>0.028836</td>\n",
       "      <td>0.427523</td>\n",
       "      <td>0.001010</td>\n",
       "      <td>0.023648</td>\n",
       "      <td>0.491523</td>\n",
       "      <td>1.000000e-11</td>\n",
       "      <td>relu</td>\n",
       "      <td>32</td>\n",
       "      <td>0.0</td>\n",
       "      <td>300</td>\n",
       "      <td>200</td>\n",
       "      <td>300</td>\n",
       "      <td>0.0001</td>\n",
       "      <td>mean_squared_error</td>\n",
       "      <td>0.01</td>\n",
       "      <td>0.517169</td>\n",
       "      <td>0.151697</td>\n",
       "    </tr>\n",
       "    <tr>\n",
       "      <th>1</th>\n",
       "      <td>276</td>\n",
       "      <td>0.001923</td>\n",
       "      <td>0.034063</td>\n",
       "      <td>0.396886</td>\n",
       "      <td>0.001529</td>\n",
       "      <td>0.029784</td>\n",
       "      <td>0.494097</td>\n",
       "      <td>7.812500e-06</td>\n",
       "      <td>elu</td>\n",
       "      <td>64</td>\n",
       "      <td>0.0</td>\n",
       "      <td>100</td>\n",
       "      <td>200</td>\n",
       "      <td>300</td>\n",
       "      <td>0.1000</td>\n",
       "      <td>mean_squared_error</td>\n",
       "      <td>0.50</td>\n",
       "      <td>0.459240</td>\n",
       "      <td>0.157393</td>\n",
       "    </tr>\n",
       "    <tr>\n",
       "      <th>2</th>\n",
       "      <td>237</td>\n",
       "      <td>0.001500</td>\n",
       "      <td>0.029986</td>\n",
       "      <td>0.442244</td>\n",
       "      <td>0.000892</td>\n",
       "      <td>0.022767</td>\n",
       "      <td>0.476783</td>\n",
       "      <td>3.906250e-06</td>\n",
       "      <td>elu</td>\n",
       "      <td>16</td>\n",
       "      <td>0.0</td>\n",
       "      <td>100</td>\n",
       "      <td>400</td>\n",
       "      <td>50</td>\n",
       "      <td>0.1000</td>\n",
       "      <td>mean_squared_error</td>\n",
       "      <td>0.50</td>\n",
       "      <td>0.506652</td>\n",
       "      <td>0.137484</td>\n",
       "    </tr>\n",
       "    <tr>\n",
       "      <th>3</th>\n",
       "      <td>203</td>\n",
       "      <td>0.001566</td>\n",
       "      <td>0.028546</td>\n",
       "      <td>0.388960</td>\n",
       "      <td>0.000973</td>\n",
       "      <td>0.022973</td>\n",
       "      <td>0.476158</td>\n",
       "      <td>8.100000e-06</td>\n",
       "      <td>relu</td>\n",
       "      <td>64</td>\n",
       "      <td>0.0</td>\n",
       "      <td>100</td>\n",
       "      <td>300</td>\n",
       "      <td>400</td>\n",
       "      <td>0.0001</td>\n",
       "      <td>mean_squared_error</td>\n",
       "      <td>0.30</td>\n",
       "      <td>0.487438</td>\n",
       "      <td>0.122158</td>\n",
       "    </tr>\n",
       "    <tr>\n",
       "      <th>4</th>\n",
       "      <td>185</td>\n",
       "      <td>0.001269</td>\n",
       "      <td>0.026982</td>\n",
       "      <td>0.420887</td>\n",
       "      <td>0.000819</td>\n",
       "      <td>0.021388</td>\n",
       "      <td>0.473800</td>\n",
       "      <td>1.000000e-08</td>\n",
       "      <td>relu</td>\n",
       "      <td>32</td>\n",
       "      <td>0.0</td>\n",
       "      <td>300</td>\n",
       "      <td>100</td>\n",
       "      <td>200</td>\n",
       "      <td>0.0010</td>\n",
       "      <td>mean_squared_error</td>\n",
       "      <td>0.10</td>\n",
       "      <td>0.523791</td>\n",
       "      <td>0.168933</td>\n",
       "    </tr>\n",
       "  </tbody>\n",
       "</table>\n",
       "</div>"
      ],
      "text/plain": [
       "   round_epochs  val_loss   val_mae  val_f1score      loss       mae  \\\n",
       "0           160  0.001485  0.028836     0.427523  0.001010  0.023648   \n",
       "1           276  0.001923  0.034063     0.396886  0.001529  0.029784   \n",
       "2           237  0.001500  0.029986     0.442244  0.000892  0.022767   \n",
       "3           203  0.001566  0.028546     0.388960  0.000973  0.022973   \n",
       "4           185  0.001269  0.026982     0.420887  0.000819  0.021388   \n",
       "\n",
       "    f1score            lr activation  batch_size  dropout  layer_1_node  \\\n",
       "0  0.491523  1.000000e-11       relu          32      0.0           300   \n",
       "1  0.494097  7.812500e-06        elu          64      0.0           100   \n",
       "2  0.476783  3.906250e-06        elu          16      0.0           100   \n",
       "3  0.476158  8.100000e-06       relu          64      0.0           100   \n",
       "4  0.473800  1.000000e-08       relu          32      0.0           300   \n",
       "\n",
       "   layer_2_node  layer_3_node  learning_rate              losses  \\\n",
       "0           200           300         0.0001  mean_squared_error   \n",
       "1           200           300         0.1000  mean_squared_error   \n",
       "2           400            50         0.1000  mean_squared_error   \n",
       "3           300           400         0.0001  mean_squared_error   \n",
       "4           100           200         0.0010  mean_squared_error   \n",
       "\n",
       "   lr_reduce_rate  eval_f1score_mean  eval_f1score_std  \n",
       "0            0.01           0.517169          0.151697  \n",
       "1            0.50           0.459240          0.157393  \n",
       "2            0.50           0.506652          0.137484  \n",
       "3            0.30           0.487438          0.122158  \n",
       "4            0.10           0.523791          0.168933  "
      ]
     },
     "execution_count": 140,
     "metadata": {},
     "output_type": "execute_result"
    }
   ],
   "source": [
    "# access the dataframe with the results\n",
    "analyze_object.data"
   ]
  },
  {
   "cell_type": "code",
   "execution_count": 149,
   "metadata": {},
   "outputs": [
    {
     "data": {
      "text/plain": [
       "round_epochs         0.776595\n",
       "val_mae              0.952015\n",
       "val_f1score         -0.526370\n",
       "f1score              0.703672\n",
       "lr                   0.760950\n",
       "batch_size           0.653612\n",
       "dropout                   NaN\n",
       "layer_1_node        -0.659815\n",
       "layer_2_node         0.184213\n",
       "layer_3_node         0.333528\n",
       "learning_rate        0.623753\n",
       "lr_reduce_rate       0.653103\n",
       "eval_f1score_mean   -0.951877\n",
       "eval_f1score_std    -0.145241\n",
       "Name: val_loss, dtype: float64"
      ]
     },
     "execution_count": 149,
     "metadata": {},
     "output_type": "execute_result"
    }
   ],
   "source": [
    "# get the number of rounds in the Scan\n",
    "# print('analyze_object.rounds()', analyze_object.rounds())\n",
    "\n",
    "# get the highest result for any metric\n",
    "analyze_object.low('val_loss')\n",
    "\n",
    "# get the round with the best result\n",
    "analyze_object.rounds2high('val_mae')\n",
    "\n",
    "# get the best paramaters\n",
    "# analyze_object.best_params('val_mae', ['mae', 'loss', 'val_loss'])\n",
    "\n",
    "# get correlation for hyperparameters against a metric\n",
    "analyze_object.correlate('val_loss', ['mae', 'loss', 'val_loss'])"
   ]
  },
  {
   "cell_type": "code",
   "execution_count": 193,
   "metadata": {
    "scrolled": false
   },
   "outputs": [
    {
     "data": {
      "image/png": "[encoded data removed]",
      "text/plain": [
       "<Figure size 864x475.2 with 1 Axes>"
      ]
     },
     "metadata": {},
     "output_type": "display_data"
    },
    {
     "data": {
      "image/png": "[encoded data removed]",
      "text/plain": [
       "<Figure size 972x972 with 2 Axes>"
      ]
     },
     "metadata": {},
     "output_type": "display_data"
    }
   ],
   "source": [
    "# line plot\n",
    "# analyze_object.plot_line('val_mae')\n",
    "analyze_object.plot_line('val_loss')\n",
    "\n",
    "# up to two dimensional kernel density estimator\n",
    "# analyze_object.plot_kde('val_loss')\n",
    "\n",
    "# heatmap correlation\n",
    "analyze_object.plot_corr('val_loss', ['val_mae', 'val_loss'])\n",
    "\n",
    "# a four dimensional bar grid\n",
    "# analyze_object.plot_bars('batch_size', 'val_mae', 'layer_1_node', 'lr')"
   ]
  },
  {
   "cell_type": "code",
   "execution_count": 83,
   "metadata": {},
   "outputs": [],
   "source": [
    "# 輸出資料\n",
    "dfOut = pd.DataFrame(hypers_head)\n",
    "dfOut.to_csv('talos_hypers_temp.csv')"
   ]
  },
  {
   "cell_type": "code",
   "execution_count": null,
   "metadata": {},
   "outputs": [],
   "source": []
  },
  {
   "cell_type": "code",
   "execution_count": 171,
   "metadata": {},
   "outputs": [],
   "source": [
    "t = 4\n",
    "save = False\n",
    "model_name = '(XT_RNN_2017_Hyperas_BAD)'"
   ]
  },
  {
   "cell_type": "code",
   "execution_count": 180,
   "metadata": {},
   "outputs": [
    {
     "ename": "NameError",
     "evalue": "name 'Predict' is not defined",
     "output_type": "error",
     "traceback": [
      "\u001b[1;31m---------------------------------------------------------------------------\u001b[0m",
      "\u001b[1;31mNameError\u001b[0m                                 Traceback (most recent call last)",
      "\u001b[1;32m<ipython-input-180-eaac0e002cb5>\u001b[0m in \u001b[0;36m<module>\u001b[1;34m\u001b[0m\n\u001b[1;32m----> 1\u001b[1;33m \u001b[0mp\u001b[0m \u001b[1;33m=\u001b[0m \u001b[0mPredict\u001b[0m\u001b[1;33m(\u001b[0m\u001b[1;34m'scan_object'\u001b[0m\u001b[1;33m)\u001b[0m\u001b[1;33m\u001b[0m\u001b[1;33m\u001b[0m\u001b[0m\n\u001b[0m\u001b[0;32m      2\u001b[0m \u001b[1;33m\u001b[0m\u001b[0m\n\u001b[0;32m      3\u001b[0m \u001b[0mp\u001b[0m\u001b[1;33m.\u001b[0m\u001b[0mpredict\u001b[0m\u001b[1;33m(\u001b[0m\u001b[0mx\u001b[0m\u001b[1;33m)\u001b[0m\u001b[1;33m\u001b[0m\u001b[1;33m\u001b[0m\u001b[0m\n",
      "\u001b[1;31mNameError\u001b[0m: name 'Predict' is not defined"
     ]
    }
   ],
   "source": [
    "p = Predict('scan_object')\n",
    "\n",
    "p.predict(x)"
   ]
  },
  {
   "cell_type": "code",
   "execution_count": null,
   "metadata": {},
   "outputs": [],
   "source": [
    "self_trurh = pd.DataFrame(SelfTruth)\n",
    "self_trurh = deNormalize(sc, self_trurh.values)\n",
    "self_predict = forecast(best_model, S_test, self_trurh.shape)\n",
    "self_predict = deNormalize(sc, self_predict)\n",
    "calcError(self_trurh, self_predict)\n",
    "showPlot(self_trurh, self_predict, model_name , \"self\", size=\"L\", save=save)"
   ]
  },
  {
   "cell_type": "code",
   "execution_count": null,
   "metadata": {},
   "outputs": [],
   "source": [
    "test_trurh = pd.DataFrame(RawTrurh)\n",
    "test_trurh = deNormalize(sc, test_trurh.values)\n",
    "test_predict = forecast(best_model, X_test, test_trurh.shape)\n",
    "test_predict = deNormalize(sc, test_predict)\n",
    "calcError(test_trurh, test_predict)\n",
    "showPlot(test_trurh, test_predict, model_name , str(266), save=save)"
   ]
  }
 ],
 "metadata": {
  "kernelspec": {
   "display_name": "Python (tensorflow-gpu)",
   "language": "python",
   "name": "tensorflow-gpu"
  },
  "language_info": {
   "codemirror_mode": {
    "name": "ipython",
    "version": 3
   },
   "file_extension": ".py",
   "mimetype": "text/x-python",
   "name": "python",
   "nbconvert_exporter": "python",
   "pygments_lexer": "ipython3",
   "version": "3.6.10"
  }
 },
 "nbformat": 4,
 "nbformat_minor": 4
}
